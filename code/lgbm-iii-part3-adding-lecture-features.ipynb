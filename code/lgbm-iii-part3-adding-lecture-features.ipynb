{
 "cells": [
  {
   "cell_type": "markdown",
   "metadata": {
    "papermill": {
     "duration": 0.057087,
     "end_time": "2020-10-28T06:17:29.739629",
     "exception": false,
     "start_time": "2020-10-28T06:17:29.682542",
     "status": "completed"
    },
    "tags": []
   },
   "source": [
    "This notebook is mostly based on https://www.kaggle.com/dwit392/lgbm-iii and slightly modified from https://www.kaggle.com/takamotoki/lgbm-iii-part2\n",
    "\n",
    "\n",
    "== modification from LGBM III part2 ==\n",
    "\n",
    "- add lecture features : This idea comes from the following notebook: https://www.kaggle.com/pavelvpster/riiid-fe-target-encoding-keras\n",
    "\n",
    "- lgb parameters : num_boost_round 1300 ==> 10000, early_stopping_rounds 8 ==> 12"
   ]
  },
  {
   "cell_type": "markdown",
   "metadata": {
    "papermill": {
     "duration": 0.055431,
     "end_time": "2020-10-28T06:17:29.851291",
     "exception": false,
     "start_time": "2020-10-28T06:17:29.795860",
     "status": "completed"
    },
    "tags": []
   },
   "source": [
    "## Reading Data and Importing Libraries ##"
   ]
  },
  {
   "cell_type": "code",
   "execution_count": 1,
   "metadata": {
    "execution": {
     "iopub.execute_input": "2020-10-28T06:17:29.972581Z",
     "iopub.status.busy": "2020-10-28T06:17:29.971428Z",
     "iopub.status.idle": "2020-10-28T06:17:31.146284Z",
     "shell.execute_reply": "2020-10-28T06:17:31.145443Z"
    },
    "papermill": {
     "duration": 1.23825,
     "end_time": "2020-10-28T06:17:31.146422",
     "exception": false,
     "start_time": "2020-10-28T06:17:29.908172",
     "status": "completed"
    },
    "tags": []
   },
   "outputs": [],
   "source": [
    "import riiideducation\n",
    "# import dask.dataframe as dd\n",
    "import pandas as pd\n",
    "import numpy as np\n",
    "from sklearn.metrics import roc_auc_score\n",
    "env = riiideducation.make_env()"
   ]
  },
  {
   "cell_type": "code",
   "execution_count": 2,
   "metadata": {
    "execution": {
     "iopub.execute_input": "2020-10-28T06:17:31.270023Z",
     "iopub.status.busy": "2020-10-28T06:17:31.268552Z",
     "iopub.status.idle": "2020-10-28T06:22:37.406182Z",
     "shell.execute_reply": "2020-10-28T06:22:37.406824Z"
    },
    "papermill": {
     "duration": 306.20373,
     "end_time": "2020-10-28T06:22:37.407074",
     "exception": false,
     "start_time": "2020-10-28T06:17:31.203344",
     "status": "completed"
    },
    "tags": []
   },
   "outputs": [],
   "source": [
    "train = pd.read_csv('/kaggle/input/riiid-test-answer-prediction/train.csv',\n",
    "                   usecols=[1, 2, 3, 4, 5, 7, 8, 9],\n",
    "                   dtype={'timestamp': 'int64',\n",
    "                          'user_id': 'int32',\n",
    "                          'content_id': 'int16',\n",
    "                          'content_type_id': 'int8',\n",
    "                          'task_container_id': 'int16',\n",
    "                          'answered_correctly':'int8',\n",
    "                          'prior_question_elapsed_time': 'float32',\n",
    "                          'prior_question_had_explanation': 'boolean'}\n",
    "                   )"
   ]
  },
  {
   "cell_type": "code",
   "execution_count": 3,
   "metadata": {
    "execution": {
     "iopub.execute_input": "2020-10-28T06:22:37.528713Z",
     "iopub.status.busy": "2020-10-28T06:22:37.527820Z",
     "iopub.status.idle": "2020-10-28T06:22:37.540410Z",
     "shell.execute_reply": "2020-10-28T06:22:37.539528Z"
    },
    "papermill": {
     "duration": 0.077445,
     "end_time": "2020-10-28T06:22:37.540554",
     "exception": false,
     "start_time": "2020-10-28T06:22:37.463109",
     "status": "completed"
    },
    "tags": []
   },
   "outputs": [],
   "source": [
    "#reading in question df\n",
    "questions_df = pd.read_csv('/kaggle/input/riiid-test-answer-prediction/questions.csv',                         \n",
    "                            usecols=[0, 3],\n",
    "                            dtype={'question_id': 'int16',\n",
    "                              'part': 'int8'}\n",
    "                          )"
   ]
  },
  {
   "cell_type": "code",
   "execution_count": 4,
   "metadata": {
    "execution": {
     "iopub.execute_input": "2020-10-28T06:22:37.659861Z",
     "iopub.status.busy": "2020-10-28T06:22:37.659085Z",
     "iopub.status.idle": "2020-10-28T06:22:37.665518Z",
     "shell.execute_reply": "2020-10-28T06:22:37.664796Z"
    },
    "papermill": {
     "duration": 0.067946,
     "end_time": "2020-10-28T06:22:37.665661",
     "exception": false,
     "start_time": "2020-10-28T06:22:37.597715",
     "status": "completed"
    },
    "tags": []
   },
   "outputs": [],
   "source": [
    "#reading in lecture df\n",
    "lectures_df = pd.read_csv('/kaggle/input/riiid-test-answer-prediction/lectures.csv')"
   ]
  },
  {
   "cell_type": "code",
   "execution_count": 5,
   "metadata": {
    "execution": {
     "iopub.execute_input": "2020-10-28T06:22:37.810622Z",
     "iopub.status.busy": "2020-10-28T06:22:37.808369Z",
     "iopub.status.idle": "2020-10-28T06:22:37.814671Z",
     "shell.execute_reply": "2020-10-28T06:22:37.813864Z"
    },
    "papermill": {
     "duration": 0.091474,
     "end_time": "2020-10-28T06:22:37.814805",
     "exception": false,
     "start_time": "2020-10-28T06:22:37.723331",
     "status": "completed"
    },
    "tags": []
   },
   "outputs": [],
   "source": [
    "lectures_df['type_of'] = lectures_df['type_of'].replace('solving question', 'solving_question')\n",
    "\n",
    "lectures_df = pd.get_dummies(lectures_df, columns=['part', 'type_of'])\n",
    "\n",
    "part_lectures_columns = [column for column in lectures_df.columns if column.startswith('part')]\n",
    "\n",
    "types_of_lectures_columns = [column for column in lectures_df.columns if column.startswith('type_of_')]"
   ]
  },
  {
   "cell_type": "code",
   "execution_count": 6,
   "metadata": {
    "execution": {
     "iopub.execute_input": "2020-10-28T06:22:37.940977Z",
     "iopub.status.busy": "2020-10-28T06:22:37.940154Z",
     "iopub.status.idle": "2020-10-28T06:22:37.952010Z",
     "shell.execute_reply": "2020-10-28T06:22:37.952622Z"
    },
    "papermill": {
     "duration": 0.081546,
     "end_time": "2020-10-28T06:22:37.952783",
     "exception": false,
     "start_time": "2020-10-28T06:22:37.871237",
     "status": "completed"
    },
    "tags": []
   },
   "outputs": [
    {
     "data": {
      "text/html": [
       "<div>\n",
       "<style scoped>\n",
       "    .dataframe tbody tr th:only-of-type {\n",
       "        vertical-align: middle;\n",
       "    }\n",
       "\n",
       "    .dataframe tbody tr th {\n",
       "        vertical-align: top;\n",
       "    }\n",
       "\n",
       "    .dataframe thead th {\n",
       "        text-align: right;\n",
       "    }\n",
       "</style>\n",
       "<table border=\"1\" class=\"dataframe\">\n",
       "  <thead>\n",
       "    <tr style=\"text-align: right;\">\n",
       "      <th></th>\n",
       "      <th>lecture_id</th>\n",
       "      <th>tag</th>\n",
       "      <th>part_1</th>\n",
       "      <th>part_2</th>\n",
       "      <th>part_3</th>\n",
       "      <th>part_4</th>\n",
       "      <th>part_5</th>\n",
       "      <th>part_6</th>\n",
       "      <th>part_7</th>\n",
       "      <th>type_of_concept</th>\n",
       "      <th>type_of_intention</th>\n",
       "      <th>type_of_solving_question</th>\n",
       "      <th>type_of_starter</th>\n",
       "    </tr>\n",
       "  </thead>\n",
       "  <tbody>\n",
       "    <tr>\n",
       "      <th>0</th>\n",
       "      <td>89</td>\n",
       "      <td>159</td>\n",
       "      <td>0</td>\n",
       "      <td>0</td>\n",
       "      <td>0</td>\n",
       "      <td>0</td>\n",
       "      <td>1</td>\n",
       "      <td>0</td>\n",
       "      <td>0</td>\n",
       "      <td>1</td>\n",
       "      <td>0</td>\n",
       "      <td>0</td>\n",
       "      <td>0</td>\n",
       "    </tr>\n",
       "    <tr>\n",
       "      <th>1</th>\n",
       "      <td>100</td>\n",
       "      <td>70</td>\n",
       "      <td>1</td>\n",
       "      <td>0</td>\n",
       "      <td>0</td>\n",
       "      <td>0</td>\n",
       "      <td>0</td>\n",
       "      <td>0</td>\n",
       "      <td>0</td>\n",
       "      <td>1</td>\n",
       "      <td>0</td>\n",
       "      <td>0</td>\n",
       "      <td>0</td>\n",
       "    </tr>\n",
       "    <tr>\n",
       "      <th>2</th>\n",
       "      <td>185</td>\n",
       "      <td>45</td>\n",
       "      <td>0</td>\n",
       "      <td>0</td>\n",
       "      <td>0</td>\n",
       "      <td>0</td>\n",
       "      <td>0</td>\n",
       "      <td>1</td>\n",
       "      <td>0</td>\n",
       "      <td>1</td>\n",
       "      <td>0</td>\n",
       "      <td>0</td>\n",
       "      <td>0</td>\n",
       "    </tr>\n",
       "    <tr>\n",
       "      <th>3</th>\n",
       "      <td>192</td>\n",
       "      <td>79</td>\n",
       "      <td>0</td>\n",
       "      <td>0</td>\n",
       "      <td>0</td>\n",
       "      <td>0</td>\n",
       "      <td>1</td>\n",
       "      <td>0</td>\n",
       "      <td>0</td>\n",
       "      <td>0</td>\n",
       "      <td>0</td>\n",
       "      <td>1</td>\n",
       "      <td>0</td>\n",
       "    </tr>\n",
       "    <tr>\n",
       "      <th>4</th>\n",
       "      <td>317</td>\n",
       "      <td>156</td>\n",
       "      <td>0</td>\n",
       "      <td>0</td>\n",
       "      <td>0</td>\n",
       "      <td>0</td>\n",
       "      <td>1</td>\n",
       "      <td>0</td>\n",
       "      <td>0</td>\n",
       "      <td>0</td>\n",
       "      <td>0</td>\n",
       "      <td>1</td>\n",
       "      <td>0</td>\n",
       "    </tr>\n",
       "  </tbody>\n",
       "</table>\n",
       "</div>"
      ],
      "text/plain": [
       "   lecture_id  tag  part_1  part_2  part_3  part_4  part_5  part_6  part_7  \\\n",
       "0          89  159       0       0       0       0       1       0       0   \n",
       "1         100   70       1       0       0       0       0       0       0   \n",
       "2         185   45       0       0       0       0       0       1       0   \n",
       "3         192   79       0       0       0       0       1       0       0   \n",
       "4         317  156       0       0       0       0       1       0       0   \n",
       "\n",
       "   type_of_concept  type_of_intention  type_of_solving_question  \\\n",
       "0                1                  0                         0   \n",
       "1                1                  0                         0   \n",
       "2                1                  0                         0   \n",
       "3                0                  0                         1   \n",
       "4                0                  0                         1   \n",
       "\n",
       "   type_of_starter  \n",
       "0                0  \n",
       "1                0  \n",
       "2                0  \n",
       "3                0  \n",
       "4                0  "
      ]
     },
     "execution_count": 6,
     "metadata": {},
     "output_type": "execute_result"
    }
   ],
   "source": [
    "lectures_df.head()"
   ]
  },
  {
   "cell_type": "code",
   "execution_count": 7,
   "metadata": {
    "execution": {
     "iopub.execute_input": "2020-10-28T06:22:38.076037Z",
     "iopub.status.busy": "2020-10-28T06:22:38.075279Z",
     "iopub.status.idle": "2020-10-28T06:22:38.980025Z",
     "shell.execute_reply": "2020-10-28T06:22:38.979341Z"
    },
    "papermill": {
     "duration": 0.968248,
     "end_time": "2020-10-28T06:22:38.980157",
     "exception": false,
     "start_time": "2020-10-28T06:22:38.011909",
     "status": "completed"
    },
    "tags": []
   },
   "outputs": [],
   "source": [
    "# merge lecture features to train dataset\n",
    "train_lectures = train[train.content_type_id == True].merge(lectures_df, left_on='content_id', right_on='lecture_id', how='left')"
   ]
  },
  {
   "cell_type": "code",
   "execution_count": 8,
   "metadata": {
    "execution": {
     "iopub.execute_input": "2020-10-28T06:22:39.110809Z",
     "iopub.status.busy": "2020-10-28T06:22:39.106356Z",
     "iopub.status.idle": "2020-10-28T06:22:39.135324Z",
     "shell.execute_reply": "2020-10-28T06:22:39.134504Z"
    },
    "papermill": {
     "duration": 0.096644,
     "end_time": "2020-10-28T06:22:39.135455",
     "exception": false,
     "start_time": "2020-10-28T06:22:39.038811",
     "status": "completed"
    },
    "tags": []
   },
   "outputs": [
    {
     "data": {
      "text/html": [
       "<div>\n",
       "<style scoped>\n",
       "    .dataframe tbody tr th:only-of-type {\n",
       "        vertical-align: middle;\n",
       "    }\n",
       "\n",
       "    .dataframe tbody tr th {\n",
       "        vertical-align: top;\n",
       "    }\n",
       "\n",
       "    .dataframe thead th {\n",
       "        text-align: right;\n",
       "    }\n",
       "</style>\n",
       "<table border=\"1\" class=\"dataframe\">\n",
       "  <thead>\n",
       "    <tr style=\"text-align: right;\">\n",
       "      <th></th>\n",
       "      <th>timestamp</th>\n",
       "      <th>user_id</th>\n",
       "      <th>content_id</th>\n",
       "      <th>content_type_id</th>\n",
       "      <th>task_container_id</th>\n",
       "      <th>answered_correctly</th>\n",
       "      <th>prior_question_elapsed_time</th>\n",
       "      <th>prior_question_had_explanation</th>\n",
       "      <th>lecture_id</th>\n",
       "      <th>tag</th>\n",
       "      <th>...</th>\n",
       "      <th>part_2</th>\n",
       "      <th>part_3</th>\n",
       "      <th>part_4</th>\n",
       "      <th>part_5</th>\n",
       "      <th>part_6</th>\n",
       "      <th>part_7</th>\n",
       "      <th>type_of_concept</th>\n",
       "      <th>type_of_intention</th>\n",
       "      <th>type_of_solving_question</th>\n",
       "      <th>type_of_starter</th>\n",
       "    </tr>\n",
       "  </thead>\n",
       "  <tbody>\n",
       "    <tr>\n",
       "      <th>0</th>\n",
       "      <td>653762</td>\n",
       "      <td>2746</td>\n",
       "      <td>6808</td>\n",
       "      <td>1</td>\n",
       "      <td>14</td>\n",
       "      <td>-1</td>\n",
       "      <td>NaN</td>\n",
       "      <td>False</td>\n",
       "      <td>6808</td>\n",
       "      <td>129</td>\n",
       "      <td>...</td>\n",
       "      <td>1</td>\n",
       "      <td>0</td>\n",
       "      <td>0</td>\n",
       "      <td>0</td>\n",
       "      <td>0</td>\n",
       "      <td>0</td>\n",
       "      <td>0</td>\n",
       "      <td>1</td>\n",
       "      <td>0</td>\n",
       "      <td>0</td>\n",
       "    </tr>\n",
       "    <tr>\n",
       "      <th>1</th>\n",
       "      <td>10183847</td>\n",
       "      <td>5382</td>\n",
       "      <td>16736</td>\n",
       "      <td>1</td>\n",
       "      <td>21</td>\n",
       "      <td>-1</td>\n",
       "      <td>NaN</td>\n",
       "      <td>False</td>\n",
       "      <td>16736</td>\n",
       "      <td>40</td>\n",
       "      <td>...</td>\n",
       "      <td>0</td>\n",
       "      <td>0</td>\n",
       "      <td>0</td>\n",
       "      <td>0</td>\n",
       "      <td>0</td>\n",
       "      <td>0</td>\n",
       "      <td>1</td>\n",
       "      <td>0</td>\n",
       "      <td>0</td>\n",
       "      <td>0</td>\n",
       "    </tr>\n",
       "    <tr>\n",
       "      <th>2</th>\n",
       "      <td>1424348597</td>\n",
       "      <td>5382</td>\n",
       "      <td>30207</td>\n",
       "      <td>1</td>\n",
       "      <td>104</td>\n",
       "      <td>-1</td>\n",
       "      <td>NaN</td>\n",
       "      <td>False</td>\n",
       "      <td>30207</td>\n",
       "      <td>43</td>\n",
       "      <td>...</td>\n",
       "      <td>0</td>\n",
       "      <td>0</td>\n",
       "      <td>0</td>\n",
       "      <td>1</td>\n",
       "      <td>0</td>\n",
       "      <td>0</td>\n",
       "      <td>1</td>\n",
       "      <td>0</td>\n",
       "      <td>0</td>\n",
       "      <td>0</td>\n",
       "    </tr>\n",
       "    <tr>\n",
       "      <th>3</th>\n",
       "      <td>1425557777</td>\n",
       "      <td>5382</td>\n",
       "      <td>18545</td>\n",
       "      <td>1</td>\n",
       "      <td>121</td>\n",
       "      <td>-1</td>\n",
       "      <td>NaN</td>\n",
       "      <td>False</td>\n",
       "      <td>18545</td>\n",
       "      <td>58</td>\n",
       "      <td>...</td>\n",
       "      <td>0</td>\n",
       "      <td>0</td>\n",
       "      <td>0</td>\n",
       "      <td>1</td>\n",
       "      <td>0</td>\n",
       "      <td>0</td>\n",
       "      <td>1</td>\n",
       "      <td>0</td>\n",
       "      <td>0</td>\n",
       "      <td>0</td>\n",
       "    </tr>\n",
       "    <tr>\n",
       "      <th>4</th>\n",
       "      <td>405813029</td>\n",
       "      <td>8623</td>\n",
       "      <td>10540</td>\n",
       "      <td>1</td>\n",
       "      <td>59</td>\n",
       "      <td>-1</td>\n",
       "      <td>NaN</td>\n",
       "      <td>False</td>\n",
       "      <td>10540</td>\n",
       "      <td>99</td>\n",
       "      <td>...</td>\n",
       "      <td>0</td>\n",
       "      <td>0</td>\n",
       "      <td>0</td>\n",
       "      <td>0</td>\n",
       "      <td>0</td>\n",
       "      <td>0</td>\n",
       "      <td>1</td>\n",
       "      <td>0</td>\n",
       "      <td>0</td>\n",
       "      <td>0</td>\n",
       "    </tr>\n",
       "  </tbody>\n",
       "</table>\n",
       "<p>5 rows × 21 columns</p>\n",
       "</div>"
      ],
      "text/plain": [
       "    timestamp  user_id  content_id  content_type_id  task_container_id  \\\n",
       "0      653762     2746        6808                1                 14   \n",
       "1    10183847     5382       16736                1                 21   \n",
       "2  1424348597     5382       30207                1                104   \n",
       "3  1425557777     5382       18545                1                121   \n",
       "4   405813029     8623       10540                1                 59   \n",
       "\n",
       "   answered_correctly  prior_question_elapsed_time  \\\n",
       "0                  -1                          NaN   \n",
       "1                  -1                          NaN   \n",
       "2                  -1                          NaN   \n",
       "3                  -1                          NaN   \n",
       "4                  -1                          NaN   \n",
       "\n",
       "   prior_question_had_explanation  lecture_id  tag  ...  part_2  part_3  \\\n",
       "0                           False        6808  129  ...       1       0   \n",
       "1                           False       16736   40  ...       0       0   \n",
       "2                           False       30207   43  ...       0       0   \n",
       "3                           False       18545   58  ...       0       0   \n",
       "4                           False       10540   99  ...       0       0   \n",
       "\n",
       "   part_4  part_5  part_6  part_7  type_of_concept  type_of_intention  \\\n",
       "0       0       0       0       0                0                  1   \n",
       "1       0       0       0       0                1                  0   \n",
       "2       0       1       0       0                1                  0   \n",
       "3       0       1       0       0                1                  0   \n",
       "4       0       0       0       0                1                  0   \n",
       "\n",
       "   type_of_solving_question  type_of_starter  \n",
       "0                         0                0  \n",
       "1                         0                0  \n",
       "2                         0                0  \n",
       "3                         0                0  \n",
       "4                         0                0  \n",
       "\n",
       "[5 rows x 21 columns]"
      ]
     },
     "execution_count": 8,
     "metadata": {},
     "output_type": "execute_result"
    }
   ],
   "source": [
    "train_lectures.head()"
   ]
  },
  {
   "cell_type": "code",
   "execution_count": 9,
   "metadata": {
    "execution": {
     "iopub.execute_input": "2020-10-28T06:22:39.261906Z",
     "iopub.status.busy": "2020-10-28T06:22:39.260920Z",
     "iopub.status.idle": "2020-10-28T06:22:39.550997Z",
     "shell.execute_reply": "2020-10-28T06:22:39.550323Z"
    },
    "papermill": {
     "duration": 0.355509,
     "end_time": "2020-10-28T06:22:39.551122",
     "exception": false,
     "start_time": "2020-10-28T06:22:39.195613",
     "status": "completed"
    },
    "tags": []
   },
   "outputs": [],
   "source": [
    "# collect per user stats\n",
    "user_lecture_stats_part = train_lectures.groupby('user_id')[part_lectures_columns + types_of_lectures_columns].sum()"
   ]
  },
  {
   "cell_type": "code",
   "execution_count": 10,
   "metadata": {
    "execution": {
     "iopub.execute_input": "2020-10-28T06:22:39.684153Z",
     "iopub.status.busy": "2020-10-28T06:22:39.683256Z",
     "iopub.status.idle": "2020-10-28T06:22:39.689164Z",
     "shell.execute_reply": "2020-10-28T06:22:39.688115Z"
    },
    "papermill": {
     "duration": 0.07931,
     "end_time": "2020-10-28T06:22:39.689313",
     "exception": false,
     "start_time": "2020-10-28T06:22:39.610003",
     "status": "completed"
    },
    "tags": []
   },
   "outputs": [
    {
     "data": {
      "text/html": [
       "<div>\n",
       "<style scoped>\n",
       "    .dataframe tbody tr th:only-of-type {\n",
       "        vertical-align: middle;\n",
       "    }\n",
       "\n",
       "    .dataframe tbody tr th {\n",
       "        vertical-align: top;\n",
       "    }\n",
       "\n",
       "    .dataframe thead th {\n",
       "        text-align: right;\n",
       "    }\n",
       "</style>\n",
       "<table border=\"1\" class=\"dataframe\">\n",
       "  <thead>\n",
       "    <tr style=\"text-align: right;\">\n",
       "      <th></th>\n",
       "      <th>part_1</th>\n",
       "      <th>part_2</th>\n",
       "      <th>part_3</th>\n",
       "      <th>part_4</th>\n",
       "      <th>part_5</th>\n",
       "      <th>part_6</th>\n",
       "      <th>part_7</th>\n",
       "      <th>type_of_concept</th>\n",
       "      <th>type_of_intention</th>\n",
       "      <th>type_of_solving_question</th>\n",
       "      <th>type_of_starter</th>\n",
       "    </tr>\n",
       "    <tr>\n",
       "      <th>user_id</th>\n",
       "      <th></th>\n",
       "      <th></th>\n",
       "      <th></th>\n",
       "      <th></th>\n",
       "      <th></th>\n",
       "      <th></th>\n",
       "      <th></th>\n",
       "      <th></th>\n",
       "      <th></th>\n",
       "      <th></th>\n",
       "      <th></th>\n",
       "    </tr>\n",
       "  </thead>\n",
       "  <tbody>\n",
       "    <tr>\n",
       "      <th>2746</th>\n",
       "      <td>0</td>\n",
       "      <td>1</td>\n",
       "      <td>0</td>\n",
       "      <td>0</td>\n",
       "      <td>0</td>\n",
       "      <td>0</td>\n",
       "      <td>0</td>\n",
       "      <td>0</td>\n",
       "      <td>1</td>\n",
       "      <td>0</td>\n",
       "      <td>0</td>\n",
       "    </tr>\n",
       "    <tr>\n",
       "      <th>5382</th>\n",
       "      <td>1</td>\n",
       "      <td>0</td>\n",
       "      <td>0</td>\n",
       "      <td>0</td>\n",
       "      <td>2</td>\n",
       "      <td>0</td>\n",
       "      <td>0</td>\n",
       "      <td>3</td>\n",
       "      <td>0</td>\n",
       "      <td>0</td>\n",
       "      <td>0</td>\n",
       "    </tr>\n",
       "    <tr>\n",
       "      <th>8623</th>\n",
       "      <td>2</td>\n",
       "      <td>1</td>\n",
       "      <td>0</td>\n",
       "      <td>0</td>\n",
       "      <td>0</td>\n",
       "      <td>0</td>\n",
       "      <td>0</td>\n",
       "      <td>3</td>\n",
       "      <td>0</td>\n",
       "      <td>0</td>\n",
       "      <td>0</td>\n",
       "    </tr>\n",
       "    <tr>\n",
       "      <th>12741</th>\n",
       "      <td>0</td>\n",
       "      <td>0</td>\n",
       "      <td>0</td>\n",
       "      <td>3</td>\n",
       "      <td>0</td>\n",
       "      <td>1</td>\n",
       "      <td>2</td>\n",
       "      <td>4</td>\n",
       "      <td>0</td>\n",
       "      <td>2</td>\n",
       "      <td>0</td>\n",
       "    </tr>\n",
       "    <tr>\n",
       "      <th>13134</th>\n",
       "      <td>1</td>\n",
       "      <td>3</td>\n",
       "      <td>0</td>\n",
       "      <td>0</td>\n",
       "      <td>3</td>\n",
       "      <td>0</td>\n",
       "      <td>0</td>\n",
       "      <td>6</td>\n",
       "      <td>1</td>\n",
       "      <td>0</td>\n",
       "      <td>0</td>\n",
       "    </tr>\n",
       "  </tbody>\n",
       "</table>\n",
       "</div>"
      ],
      "text/plain": [
       "         part_1  part_2  part_3  part_4  part_5  part_6  part_7  \\\n",
       "user_id                                                           \n",
       "2746          0       1       0       0       0       0       0   \n",
       "5382          1       0       0       0       2       0       0   \n",
       "8623          2       1       0       0       0       0       0   \n",
       "12741         0       0       0       3       0       1       2   \n",
       "13134         1       3       0       0       3       0       0   \n",
       "\n",
       "         type_of_concept  type_of_intention  type_of_solving_question  \\\n",
       "user_id                                                                 \n",
       "2746                   0                  1                         0   \n",
       "5382                   3                  0                         0   \n",
       "8623                   3                  0                         0   \n",
       "12741                  4                  0                         2   \n",
       "13134                  6                  1                         0   \n",
       "\n",
       "         type_of_starter  \n",
       "user_id                   \n",
       "2746                   0  \n",
       "5382                   0  \n",
       "8623                   0  \n",
       "12741                  0  \n",
       "13134                  0  "
      ]
     },
     "execution_count": 10,
     "metadata": {},
     "output_type": "execute_result"
    }
   ],
   "source": [
    "user_lecture_stats_part.head()"
   ]
  },
  {
   "cell_type": "code",
   "execution_count": 11,
   "metadata": {
    "execution": {
     "iopub.execute_input": "2020-10-28T06:22:39.817208Z",
     "iopub.status.busy": "2020-10-28T06:22:39.816436Z",
     "iopub.status.idle": "2020-10-28T06:22:39.834244Z",
     "shell.execute_reply": "2020-10-28T06:22:39.833560Z"
    },
    "papermill": {
     "duration": 0.083613,
     "end_time": "2020-10-28T06:22:39.834376",
     "exception": false,
     "start_time": "2020-10-28T06:22:39.750763",
     "status": "completed"
    },
    "tags": []
   },
   "outputs": [],
   "source": [
    "# add boolean features\n",
    "for column in user_lecture_stats_part.columns:\n",
    "    bool_column = column + '_boolean'\n",
    "    user_lecture_stats_part[bool_column] = (user_lecture_stats_part[column] > 0).astype(int)"
   ]
  },
  {
   "cell_type": "code",
   "execution_count": 12,
   "metadata": {
    "execution": {
     "iopub.execute_input": "2020-10-28T06:22:39.980719Z",
     "iopub.status.busy": "2020-10-28T06:22:39.979743Z",
     "iopub.status.idle": "2020-10-28T06:22:39.985274Z",
     "shell.execute_reply": "2020-10-28T06:22:39.984477Z"
    },
    "papermill": {
     "duration": 0.090946,
     "end_time": "2020-10-28T06:22:39.985407",
     "exception": false,
     "start_time": "2020-10-28T06:22:39.894461",
     "status": "completed"
    },
    "tags": []
   },
   "outputs": [
    {
     "data": {
      "text/html": [
       "<div>\n",
       "<style scoped>\n",
       "    .dataframe tbody tr th:only-of-type {\n",
       "        vertical-align: middle;\n",
       "    }\n",
       "\n",
       "    .dataframe tbody tr th {\n",
       "        vertical-align: top;\n",
       "    }\n",
       "\n",
       "    .dataframe thead th {\n",
       "        text-align: right;\n",
       "    }\n",
       "</style>\n",
       "<table border=\"1\" class=\"dataframe\">\n",
       "  <thead>\n",
       "    <tr style=\"text-align: right;\">\n",
       "      <th></th>\n",
       "      <th>part_1</th>\n",
       "      <th>part_2</th>\n",
       "      <th>part_3</th>\n",
       "      <th>part_4</th>\n",
       "      <th>part_5</th>\n",
       "      <th>part_6</th>\n",
       "      <th>part_7</th>\n",
       "      <th>type_of_concept</th>\n",
       "      <th>type_of_intention</th>\n",
       "      <th>type_of_solving_question</th>\n",
       "      <th>...</th>\n",
       "      <th>part_2_boolean</th>\n",
       "      <th>part_3_boolean</th>\n",
       "      <th>part_4_boolean</th>\n",
       "      <th>part_5_boolean</th>\n",
       "      <th>part_6_boolean</th>\n",
       "      <th>part_7_boolean</th>\n",
       "      <th>type_of_concept_boolean</th>\n",
       "      <th>type_of_intention_boolean</th>\n",
       "      <th>type_of_solving_question_boolean</th>\n",
       "      <th>type_of_starter_boolean</th>\n",
       "    </tr>\n",
       "    <tr>\n",
       "      <th>user_id</th>\n",
       "      <th></th>\n",
       "      <th></th>\n",
       "      <th></th>\n",
       "      <th></th>\n",
       "      <th></th>\n",
       "      <th></th>\n",
       "      <th></th>\n",
       "      <th></th>\n",
       "      <th></th>\n",
       "      <th></th>\n",
       "      <th></th>\n",
       "      <th></th>\n",
       "      <th></th>\n",
       "      <th></th>\n",
       "      <th></th>\n",
       "      <th></th>\n",
       "      <th></th>\n",
       "      <th></th>\n",
       "      <th></th>\n",
       "      <th></th>\n",
       "      <th></th>\n",
       "    </tr>\n",
       "  </thead>\n",
       "  <tbody>\n",
       "    <tr>\n",
       "      <th>2746</th>\n",
       "      <td>0</td>\n",
       "      <td>1</td>\n",
       "      <td>0</td>\n",
       "      <td>0</td>\n",
       "      <td>0</td>\n",
       "      <td>0</td>\n",
       "      <td>0</td>\n",
       "      <td>0</td>\n",
       "      <td>1</td>\n",
       "      <td>0</td>\n",
       "      <td>...</td>\n",
       "      <td>1</td>\n",
       "      <td>0</td>\n",
       "      <td>0</td>\n",
       "      <td>0</td>\n",
       "      <td>0</td>\n",
       "      <td>0</td>\n",
       "      <td>0</td>\n",
       "      <td>1</td>\n",
       "      <td>0</td>\n",
       "      <td>0</td>\n",
       "    </tr>\n",
       "    <tr>\n",
       "      <th>5382</th>\n",
       "      <td>1</td>\n",
       "      <td>0</td>\n",
       "      <td>0</td>\n",
       "      <td>0</td>\n",
       "      <td>2</td>\n",
       "      <td>0</td>\n",
       "      <td>0</td>\n",
       "      <td>3</td>\n",
       "      <td>0</td>\n",
       "      <td>0</td>\n",
       "      <td>...</td>\n",
       "      <td>0</td>\n",
       "      <td>0</td>\n",
       "      <td>0</td>\n",
       "      <td>1</td>\n",
       "      <td>0</td>\n",
       "      <td>0</td>\n",
       "      <td>1</td>\n",
       "      <td>0</td>\n",
       "      <td>0</td>\n",
       "      <td>0</td>\n",
       "    </tr>\n",
       "    <tr>\n",
       "      <th>8623</th>\n",
       "      <td>2</td>\n",
       "      <td>1</td>\n",
       "      <td>0</td>\n",
       "      <td>0</td>\n",
       "      <td>0</td>\n",
       "      <td>0</td>\n",
       "      <td>0</td>\n",
       "      <td>3</td>\n",
       "      <td>0</td>\n",
       "      <td>0</td>\n",
       "      <td>...</td>\n",
       "      <td>1</td>\n",
       "      <td>0</td>\n",
       "      <td>0</td>\n",
       "      <td>0</td>\n",
       "      <td>0</td>\n",
       "      <td>0</td>\n",
       "      <td>1</td>\n",
       "      <td>0</td>\n",
       "      <td>0</td>\n",
       "      <td>0</td>\n",
       "    </tr>\n",
       "    <tr>\n",
       "      <th>12741</th>\n",
       "      <td>0</td>\n",
       "      <td>0</td>\n",
       "      <td>0</td>\n",
       "      <td>3</td>\n",
       "      <td>0</td>\n",
       "      <td>1</td>\n",
       "      <td>2</td>\n",
       "      <td>4</td>\n",
       "      <td>0</td>\n",
       "      <td>2</td>\n",
       "      <td>...</td>\n",
       "      <td>0</td>\n",
       "      <td>0</td>\n",
       "      <td>1</td>\n",
       "      <td>0</td>\n",
       "      <td>1</td>\n",
       "      <td>1</td>\n",
       "      <td>1</td>\n",
       "      <td>0</td>\n",
       "      <td>1</td>\n",
       "      <td>0</td>\n",
       "    </tr>\n",
       "    <tr>\n",
       "      <th>13134</th>\n",
       "      <td>1</td>\n",
       "      <td>3</td>\n",
       "      <td>0</td>\n",
       "      <td>0</td>\n",
       "      <td>3</td>\n",
       "      <td>0</td>\n",
       "      <td>0</td>\n",
       "      <td>6</td>\n",
       "      <td>1</td>\n",
       "      <td>0</td>\n",
       "      <td>...</td>\n",
       "      <td>1</td>\n",
       "      <td>0</td>\n",
       "      <td>0</td>\n",
       "      <td>1</td>\n",
       "      <td>0</td>\n",
       "      <td>0</td>\n",
       "      <td>1</td>\n",
       "      <td>1</td>\n",
       "      <td>0</td>\n",
       "      <td>0</td>\n",
       "    </tr>\n",
       "  </tbody>\n",
       "</table>\n",
       "<p>5 rows × 22 columns</p>\n",
       "</div>"
      ],
      "text/plain": [
       "         part_1  part_2  part_3  part_4  part_5  part_6  part_7  \\\n",
       "user_id                                                           \n",
       "2746          0       1       0       0       0       0       0   \n",
       "5382          1       0       0       0       2       0       0   \n",
       "8623          2       1       0       0       0       0       0   \n",
       "12741         0       0       0       3       0       1       2   \n",
       "13134         1       3       0       0       3       0       0   \n",
       "\n",
       "         type_of_concept  type_of_intention  type_of_solving_question  ...  \\\n",
       "user_id                                                                ...   \n",
       "2746                   0                  1                         0  ...   \n",
       "5382                   3                  0                         0  ...   \n",
       "8623                   3                  0                         0  ...   \n",
       "12741                  4                  0                         2  ...   \n",
       "13134                  6                  1                         0  ...   \n",
       "\n",
       "         part_2_boolean  part_3_boolean  part_4_boolean  part_5_boolean  \\\n",
       "user_id                                                                   \n",
       "2746                  1               0               0               0   \n",
       "5382                  0               0               0               1   \n",
       "8623                  1               0               0               0   \n",
       "12741                 0               0               1               0   \n",
       "13134                 1               0               0               1   \n",
       "\n",
       "         part_6_boolean  part_7_boolean  type_of_concept_boolean  \\\n",
       "user_id                                                            \n",
       "2746                  0               0                        0   \n",
       "5382                  0               0                        1   \n",
       "8623                  0               0                        1   \n",
       "12741                 1               1                        1   \n",
       "13134                 0               0                        1   \n",
       "\n",
       "         type_of_intention_boolean  type_of_solving_question_boolean  \\\n",
       "user_id                                                                \n",
       "2746                             1                                 0   \n",
       "5382                             0                                 0   \n",
       "8623                             0                                 0   \n",
       "12741                            0                                 1   \n",
       "13134                            1                                 0   \n",
       "\n",
       "         type_of_starter_boolean  \n",
       "user_id                           \n",
       "2746                           0  \n",
       "5382                           0  \n",
       "8623                           0  \n",
       "12741                          0  \n",
       "13134                          0  \n",
       "\n",
       "[5 rows x 22 columns]"
      ]
     },
     "execution_count": 12,
     "metadata": {},
     "output_type": "execute_result"
    }
   ],
   "source": [
    "user_lecture_stats_part.head()"
   ]
  },
  {
   "cell_type": "code",
   "execution_count": 13,
   "metadata": {
    "execution": {
     "iopub.execute_input": "2020-10-28T06:22:40.119335Z",
     "iopub.status.busy": "2020-10-28T06:22:40.118432Z",
     "iopub.status.idle": "2020-10-28T06:22:40.122050Z",
     "shell.execute_reply": "2020-10-28T06:22:40.121295Z"
    },
    "papermill": {
     "duration": 0.069767,
     "end_time": "2020-10-28T06:22:40.122180",
     "exception": false,
     "start_time": "2020-10-28T06:22:40.052413",
     "status": "completed"
    },
    "tags": []
   },
   "outputs": [],
   "source": [
    "#clearing memory\n",
    "del(train_lectures)"
   ]
  },
  {
   "cell_type": "markdown",
   "metadata": {
    "papermill": {
     "duration": 0.061303,
     "end_time": "2020-10-28T06:22:40.245858",
     "exception": false,
     "start_time": "2020-10-28T06:22:40.184555",
     "status": "completed"
    },
    "tags": []
   },
   "source": [
    "Affirmatives (True) for content_type_id are only for those with a different type of content (lectures). These are not real questions."
   ]
  },
  {
   "cell_type": "code",
   "execution_count": 14,
   "metadata": {
    "execution": {
     "iopub.execute_input": "2020-10-28T06:22:40.377646Z",
     "iopub.status.busy": "2020-10-28T06:22:40.376782Z",
     "iopub.status.idle": "2020-10-28T06:23:14.549702Z",
     "shell.execute_reply": "2020-10-28T06:23:14.548761Z"
    },
    "papermill": {
     "duration": 34.242097,
     "end_time": "2020-10-28T06:23:14.549843",
     "exception": false,
     "start_time": "2020-10-28T06:22:40.307746",
     "status": "completed"
    },
    "tags": []
   },
   "outputs": [],
   "source": [
    "#removing True or 1 for content_type_id\n",
    "\n",
    "train = train[train.content_type_id == False].sort_values('timestamp').reset_index(drop = True)"
   ]
  },
  {
   "cell_type": "code",
   "execution_count": 15,
   "metadata": {
    "execution": {
     "iopub.execute_input": "2020-10-28T06:23:14.689462Z",
     "iopub.status.busy": "2020-10-28T06:23:14.687577Z",
     "iopub.status.idle": "2020-10-28T06:23:15.030327Z",
     "shell.execute_reply": "2020-10-28T06:23:15.029087Z"
    },
    "papermill": {
     "duration": 0.416768,
     "end_time": "2020-10-28T06:23:15.030497",
     "exception": false,
     "start_time": "2020-10-28T06:23:14.613729",
     "status": "completed"
    },
    "tags": []
   },
   "outputs": [
    {
     "data": {
      "text/html": [
       "<div>\n",
       "<style scoped>\n",
       "    .dataframe tbody tr th:only-of-type {\n",
       "        vertical-align: middle;\n",
       "    }\n",
       "\n",
       "    .dataframe tbody tr th {\n",
       "        vertical-align: top;\n",
       "    }\n",
       "\n",
       "    .dataframe thead th {\n",
       "        text-align: right;\n",
       "    }\n",
       "</style>\n",
       "<table border=\"1\" class=\"dataframe\">\n",
       "  <thead>\n",
       "    <tr style=\"text-align: right;\">\n",
       "      <th></th>\n",
       "      <th>timestamp</th>\n",
       "      <th>user_id</th>\n",
       "      <th>content_id</th>\n",
       "      <th>content_type_id</th>\n",
       "      <th>task_container_id</th>\n",
       "      <th>answered_correctly</th>\n",
       "      <th>prior_question_elapsed_time</th>\n",
       "      <th>prior_question_had_explanation</th>\n",
       "    </tr>\n",
       "  </thead>\n",
       "  <tbody>\n",
       "    <tr>\n",
       "      <th>98994042</th>\n",
       "      <td>65925681553</td>\n",
       "      <td>982752539</td>\n",
       "      <td>1066</td>\n",
       "      <td>0</td>\n",
       "      <td>9999</td>\n",
       "      <td>1</td>\n",
       "      <td>16000.0</td>\n",
       "      <td>True</td>\n",
       "    </tr>\n",
       "    <tr>\n",
       "      <th>99088950</th>\n",
       "      <td>68754812937</td>\n",
       "      <td>817562598</td>\n",
       "      <td>12306</td>\n",
       "      <td>0</td>\n",
       "      <td>9999</td>\n",
       "      <td>1</td>\n",
       "      <td>22333.0</td>\n",
       "      <td>True</td>\n",
       "    </tr>\n",
       "    <tr>\n",
       "      <th>99088951</th>\n",
       "      <td>68754812937</td>\n",
       "      <td>817562598</td>\n",
       "      <td>12308</td>\n",
       "      <td>0</td>\n",
       "      <td>9999</td>\n",
       "      <td>0</td>\n",
       "      <td>22333.0</td>\n",
       "      <td>True</td>\n",
       "    </tr>\n",
       "    <tr>\n",
       "      <th>99088952</th>\n",
       "      <td>68754812937</td>\n",
       "      <td>817562598</td>\n",
       "      <td>12307</td>\n",
       "      <td>0</td>\n",
       "      <td>9999</td>\n",
       "      <td>1</td>\n",
       "      <td>22333.0</td>\n",
       "      <td>True</td>\n",
       "    </tr>\n",
       "    <tr>\n",
       "      <th>99207455</th>\n",
       "      <td>73928187913</td>\n",
       "      <td>1071085357</td>\n",
       "      <td>1189</td>\n",
       "      <td>0</td>\n",
       "      <td>9999</td>\n",
       "      <td>1</td>\n",
       "      <td>27000.0</td>\n",
       "      <td>True</td>\n",
       "    </tr>\n",
       "  </tbody>\n",
       "</table>\n",
       "</div>"
      ],
      "text/plain": [
       "            timestamp     user_id  content_id  content_type_id  \\\n",
       "98994042  65925681553   982752539        1066                0   \n",
       "99088950  68754812937   817562598       12306                0   \n",
       "99088951  68754812937   817562598       12308                0   \n",
       "99088952  68754812937   817562598       12307                0   \n",
       "99207455  73928187913  1071085357        1189                0   \n",
       "\n",
       "          task_container_id  answered_correctly  prior_question_elapsed_time  \\\n",
       "98994042               9999                   1                      16000.0   \n",
       "99088950               9999                   1                      22333.0   \n",
       "99088951               9999                   0                      22333.0   \n",
       "99088952               9999                   1                      22333.0   \n",
       "99207455               9999                   1                      27000.0   \n",
       "\n",
       "          prior_question_had_explanation  \n",
       "98994042                            True  \n",
       "99088950                            True  \n",
       "99088951                            True  \n",
       "99088952                            True  \n",
       "99207455                            True  "
      ]
     },
     "execution_count": 15,
     "metadata": {},
     "output_type": "execute_result"
    }
   ],
   "source": [
    "train[(train.task_container_id == 9999)].tail()"
   ]
  },
  {
   "cell_type": "code",
   "execution_count": 16,
   "metadata": {
    "execution": {
     "iopub.execute_input": "2020-10-28T06:23:15.171637Z",
     "iopub.status.busy": "2020-10-28T06:23:15.170455Z",
     "iopub.status.idle": "2020-10-28T06:23:20.615195Z",
     "shell.execute_reply": "2020-10-28T06:23:20.614295Z"
    },
    "papermill": {
     "duration": 5.520287,
     "end_time": "2020-10-28T06:23:20.615337",
     "exception": false,
     "start_time": "2020-10-28T06:23:15.095050",
     "status": "completed"
    },
    "tags": []
   },
   "outputs": [
    {
     "data": {
      "text/plain": [
       "10000"
      ]
     },
     "execution_count": 16,
     "metadata": {},
     "output_type": "execute_result"
    }
   ],
   "source": [
    "train[(train.content_type_id == False)].task_container_id.nunique()"
   ]
  },
  {
   "cell_type": "code",
   "execution_count": 17,
   "metadata": {
    "execution": {
     "iopub.execute_input": "2020-10-28T06:23:20.754241Z",
     "iopub.status.busy": "2020-10-28T06:23:20.753419Z",
     "iopub.status.idle": "2020-10-28T06:23:20.913914Z",
     "shell.execute_reply": "2020-10-28T06:23:20.913096Z"
    },
    "papermill": {
     "duration": 0.234752,
     "end_time": "2020-10-28T06:23:20.914065",
     "exception": false,
     "start_time": "2020-10-28T06:23:20.679313",
     "status": "completed"
    },
    "tags": []
   },
   "outputs": [],
   "source": [
    "#saving value to fillna\n",
    "elapsed_mean = train.prior_question_elapsed_time.mean()\n"
   ]
  },
  {
   "cell_type": "code",
   "execution_count": 18,
   "metadata": {
    "execution": {
     "iopub.execute_input": "2020-10-28T06:23:21.052778Z",
     "iopub.status.busy": "2020-10-28T06:23:21.051869Z",
     "iopub.status.idle": "2020-10-28T06:24:49.627249Z",
     "shell.execute_reply": "2020-10-28T06:24:49.626525Z"
    },
    "papermill": {
     "duration": 88.648874,
     "end_time": "2020-10-28T06:24:49.627388",
     "exception": false,
     "start_time": "2020-10-28T06:23:20.978514",
     "status": "completed"
    },
    "tags": []
   },
   "outputs": [],
   "source": [
    "group1 = train.loc[(train.content_type_id == False), ['task_container_id', 'user_id']].groupby(['task_container_id']).agg(['count'])\n",
    "group1.columns = ['avg_questions']\n",
    "group2 = train.loc[(train.content_type_id == False), ['task_container_id', 'user_id']].groupby(['task_container_id']).agg(['nunique'])\n",
    "group2.columns = ['avg_questions']\n",
    "group3 = group1 / group2"
   ]
  },
  {
   "cell_type": "code",
   "execution_count": 19,
   "metadata": {
    "execution": {
     "iopub.execute_input": "2020-10-28T06:24:49.760864Z",
     "iopub.status.busy": "2020-10-28T06:24:49.760047Z",
     "iopub.status.idle": "2020-10-28T06:24:49.767027Z",
     "shell.execute_reply": "2020-10-28T06:24:49.766149Z"
    },
    "papermill": {
     "duration": 0.076599,
     "end_time": "2020-10-28T06:24:49.767213",
     "exception": false,
     "start_time": "2020-10-28T06:24:49.690614",
     "status": "completed"
    },
    "tags": []
   },
   "outputs": [],
   "source": [
    "group3['avg_questions_seen'] = group3.avg_questions.cumsum()"
   ]
  },
  {
   "cell_type": "code",
   "execution_count": 20,
   "metadata": {
    "execution": {
     "iopub.execute_input": "2020-10-28T06:24:49.905913Z",
     "iopub.status.busy": "2020-10-28T06:24:49.904876Z",
     "iopub.status.idle": "2020-10-28T06:24:49.910273Z",
     "shell.execute_reply": "2020-10-28T06:24:49.909669Z"
    },
    "papermill": {
     "duration": 0.077246,
     "end_time": "2020-10-28T06:24:49.910408",
     "exception": false,
     "start_time": "2020-10-28T06:24:49.833162",
     "status": "completed"
    },
    "tags": []
   },
   "outputs": [
    {
     "data": {
      "text/plain": [
       "1.006648868548182"
      ]
     },
     "execution_count": 20,
     "metadata": {},
     "output_type": "execute_result"
    }
   ],
   "source": [
    "group3.iloc[0].avg_questions_seen"
   ]
  },
  {
   "cell_type": "code",
   "execution_count": 21,
   "metadata": {
    "execution": {
     "iopub.execute_input": "2020-10-28T06:24:50.050531Z",
     "iopub.status.busy": "2020-10-28T06:24:50.049689Z",
     "iopub.status.idle": "2020-10-28T06:25:35.143884Z",
     "shell.execute_reply": "2020-10-28T06:25:35.143260Z"
    },
    "papermill": {
     "duration": 45.169198,
     "end_time": "2020-10-28T06:25:35.144042",
     "exception": false,
     "start_time": "2020-10-28T06:24:49.974844",
     "status": "completed"
    },
    "tags": []
   },
   "outputs": [],
   "source": [
    "results_u_final = train.loc[train.content_type_id == False, ['user_id','answered_correctly']].groupby(['user_id']).agg(['mean'])\n",
    "results_u_final.columns = ['answered_correctly_user']\n",
    "\n",
    "results_u2_final = train.loc[train.content_type_id == False, ['user_id','prior_question_had_explanation']].groupby(['user_id']).agg(['mean'])\n",
    "results_u2_final.columns = ['explanation_mean_user']"
   ]
  },
  {
   "cell_type": "code",
   "execution_count": 22,
   "metadata": {
    "execution": {
     "iopub.execute_input": "2020-10-28T06:25:35.280308Z",
     "iopub.status.busy": "2020-10-28T06:25:35.279523Z",
     "iopub.status.idle": "2020-10-28T06:25:35.307667Z",
     "shell.execute_reply": "2020-10-28T06:25:35.306749Z"
    },
    "papermill": {
     "duration": 0.098014,
     "end_time": "2020-10-28T06:25:35.307798",
     "exception": false,
     "start_time": "2020-10-28T06:25:35.209784",
     "status": "completed"
    },
    "tags": []
   },
   "outputs": [
    {
     "data": {
      "text/plain": [
       "count    393569.000000\n",
       "mean          0.566426\n",
       "std           0.360063\n",
       "min           0.000000\n",
       "25%           0.230769\n",
       "50%           0.655172\n",
       "75%           0.904110\n",
       "max           1.000000\n",
       "Name: explanation_mean_user, dtype: float64"
      ]
     },
     "execution_count": 22,
     "metadata": {},
     "output_type": "execute_result"
    }
   ],
   "source": [
    "results_u2_final.explanation_mean_user.describe()"
   ]
  },
  {
   "cell_type": "code",
   "execution_count": 23,
   "metadata": {
    "execution": {
     "iopub.execute_input": "2020-10-28T06:25:35.455087Z",
     "iopub.status.busy": "2020-10-28T06:25:35.453803Z",
     "iopub.status.idle": "2020-10-28T06:25:56.519130Z",
     "shell.execute_reply": "2020-10-28T06:25:56.518316Z"
    },
    "papermill": {
     "duration": 21.136221,
     "end_time": "2020-10-28T06:25:56.519266",
     "exception": false,
     "start_time": "2020-10-28T06:25:35.383045",
     "status": "completed"
    },
    "tags": []
   },
   "outputs": [],
   "source": [
    "train = pd.merge(train, questions_df, left_on = 'content_id', right_on = 'question_id', how = 'left')"
   ]
  },
  {
   "cell_type": "code",
   "execution_count": 24,
   "metadata": {
    "execution": {
     "iopub.execute_input": "2020-10-28T06:25:56.663086Z",
     "iopub.status.busy": "2020-10-28T06:25:56.662270Z",
     "iopub.status.idle": "2020-10-28T06:26:17.368965Z",
     "shell.execute_reply": "2020-10-28T06:26:17.368261Z"
    },
    "papermill": {
     "duration": 20.782057,
     "end_time": "2020-10-28T06:26:17.369130",
     "exception": false,
     "start_time": "2020-10-28T06:25:56.587073",
     "status": "completed"
    },
    "tags": []
   },
   "outputs": [],
   "source": [
    "results_q_final = train.loc[train.content_type_id == False, ['question_id','answered_correctly']].groupby(['question_id']).agg(['mean'])\n",
    "results_q_final.columns = ['quest_pct']"
   ]
  },
  {
   "cell_type": "code",
   "execution_count": 25,
   "metadata": {
    "execution": {
     "iopub.execute_input": "2020-10-28T06:26:17.505786Z",
     "iopub.status.busy": "2020-10-28T06:26:17.505033Z",
     "iopub.status.idle": "2020-10-28T06:26:36.807430Z",
     "shell.execute_reply": "2020-10-28T06:26:36.806640Z"
    },
    "papermill": {
     "duration": 19.373357,
     "end_time": "2020-10-28T06:26:36.807559",
     "exception": false,
     "start_time": "2020-10-28T06:26:17.434202",
     "status": "completed"
    },
    "tags": []
   },
   "outputs": [],
   "source": [
    "results_q2_final = train.loc[train.content_type_id == False, ['question_id','part']].groupby(['question_id']).agg(['count'])\n",
    "results_q2_final.columns = ['count']"
   ]
  },
  {
   "cell_type": "code",
   "execution_count": 26,
   "metadata": {
    "execution": {
     "iopub.execute_input": "2020-10-28T06:26:36.945546Z",
     "iopub.status.busy": "2020-10-28T06:26:36.944722Z",
     "iopub.status.idle": "2020-10-28T06:26:36.953627Z",
     "shell.execute_reply": "2020-10-28T06:26:36.952792Z"
    },
    "papermill": {
     "duration": 0.080067,
     "end_time": "2020-10-28T06:26:36.953756",
     "exception": false,
     "start_time": "2020-10-28T06:26:36.873689",
     "status": "completed"
    },
    "tags": []
   },
   "outputs": [],
   "source": [
    "question2 = pd.merge(questions_df, results_q_final, left_on = 'question_id', right_on = 'question_id', how = 'left')"
   ]
  },
  {
   "cell_type": "code",
   "execution_count": 27,
   "metadata": {
    "execution": {
     "iopub.execute_input": "2020-10-28T06:26:37.094162Z",
     "iopub.status.busy": "2020-10-28T06:26:37.093327Z",
     "iopub.status.idle": "2020-10-28T06:26:37.101945Z",
     "shell.execute_reply": "2020-10-28T06:26:37.102545Z"
    },
    "papermill": {
     "duration": 0.081246,
     "end_time": "2020-10-28T06:26:37.102718",
     "exception": false,
     "start_time": "2020-10-28T06:26:37.021472",
     "status": "completed"
    },
    "tags": []
   },
   "outputs": [],
   "source": [
    "question2 = pd.merge(question2, results_q2_final, left_on = 'question_id', right_on = 'question_id', how = 'left')"
   ]
  },
  {
   "cell_type": "code",
   "execution_count": 28,
   "metadata": {
    "execution": {
     "iopub.execute_input": "2020-10-28T06:26:37.240786Z",
     "iopub.status.busy": "2020-10-28T06:26:37.239869Z",
     "iopub.status.idle": "2020-10-28T06:26:37.244385Z",
     "shell.execute_reply": "2020-10-28T06:26:37.243614Z"
    },
    "papermill": {
     "duration": 0.075361,
     "end_time": "2020-10-28T06:26:37.244520",
     "exception": false,
     "start_time": "2020-10-28T06:26:37.169159",
     "status": "completed"
    },
    "tags": []
   },
   "outputs": [],
   "source": [
    "question2.quest_pct = round(question2.quest_pct,5)"
   ]
  },
  {
   "cell_type": "code",
   "execution_count": 29,
   "metadata": {
    "execution": {
     "iopub.execute_input": "2020-10-28T06:26:37.387669Z",
     "iopub.status.busy": "2020-10-28T06:26:37.386493Z",
     "iopub.status.idle": "2020-10-28T06:26:37.399304Z",
     "shell.execute_reply": "2020-10-28T06:26:37.399869Z"
    },
    "papermill": {
     "duration": 0.090088,
     "end_time": "2020-10-28T06:26:37.400051",
     "exception": false,
     "start_time": "2020-10-28T06:26:37.309963",
     "status": "completed"
    },
    "tags": []
   },
   "outputs": [
    {
     "data": {
      "text/html": [
       "<div>\n",
       "<style scoped>\n",
       "    .dataframe tbody tr th:only-of-type {\n",
       "        vertical-align: middle;\n",
       "    }\n",
       "\n",
       "    .dataframe tbody tr th {\n",
       "        vertical-align: top;\n",
       "    }\n",
       "\n",
       "    .dataframe thead th {\n",
       "        text-align: right;\n",
       "    }\n",
       "</style>\n",
       "<table border=\"1\" class=\"dataframe\">\n",
       "  <thead>\n",
       "    <tr style=\"text-align: right;\">\n",
       "      <th></th>\n",
       "      <th>question_id</th>\n",
       "      <th>part</th>\n",
       "      <th>quest_pct</th>\n",
       "      <th>count</th>\n",
       "    </tr>\n",
       "  </thead>\n",
       "  <tbody>\n",
       "    <tr>\n",
       "      <th>0</th>\n",
       "      <td>0</td>\n",
       "      <td>1</td>\n",
       "      <td>0.90772</td>\n",
       "      <td>6903</td>\n",
       "    </tr>\n",
       "    <tr>\n",
       "      <th>1</th>\n",
       "      <td>1</td>\n",
       "      <td>1</td>\n",
       "      <td>0.89065</td>\n",
       "      <td>7398</td>\n",
       "    </tr>\n",
       "    <tr>\n",
       "      <th>2</th>\n",
       "      <td>2</td>\n",
       "      <td>1</td>\n",
       "      <td>0.55428</td>\n",
       "      <td>44905</td>\n",
       "    </tr>\n",
       "    <tr>\n",
       "      <th>3</th>\n",
       "      <td>3</td>\n",
       "      <td>1</td>\n",
       "      <td>0.77944</td>\n",
       "      <td>22973</td>\n",
       "    </tr>\n",
       "    <tr>\n",
       "      <th>4</th>\n",
       "      <td>4</td>\n",
       "      <td>1</td>\n",
       "      <td>0.61322</td>\n",
       "      <td>31736</td>\n",
       "    </tr>\n",
       "  </tbody>\n",
       "</table>\n",
       "</div>"
      ],
      "text/plain": [
       "   question_id  part  quest_pct  count\n",
       "0            0     1    0.90772   6903\n",
       "1            1     1    0.89065   7398\n",
       "2            2     1    0.55428  44905\n",
       "3            3     1    0.77944  22973\n",
       "4            4     1    0.61322  31736"
      ]
     },
     "metadata": {},
     "output_type": "display_data"
    },
    {
     "data": {
      "text/html": [
       "<div>\n",
       "<style scoped>\n",
       "    .dataframe tbody tr th:only-of-type {\n",
       "        vertical-align: middle;\n",
       "    }\n",
       "\n",
       "    .dataframe tbody tr th {\n",
       "        vertical-align: top;\n",
       "    }\n",
       "\n",
       "    .dataframe thead th {\n",
       "        text-align: right;\n",
       "    }\n",
       "</style>\n",
       "<table border=\"1\" class=\"dataframe\">\n",
       "  <thead>\n",
       "    <tr style=\"text-align: right;\">\n",
       "      <th></th>\n",
       "      <th>question_id</th>\n",
       "      <th>part</th>\n",
       "      <th>quest_pct</th>\n",
       "      <th>count</th>\n",
       "    </tr>\n",
       "  </thead>\n",
       "  <tbody>\n",
       "    <tr>\n",
       "      <th>13518</th>\n",
       "      <td>13518</td>\n",
       "      <td>5</td>\n",
       "      <td>0.78687</td>\n",
       "      <td>868</td>\n",
       "    </tr>\n",
       "    <tr>\n",
       "      <th>13519</th>\n",
       "      <td>13519</td>\n",
       "      <td>5</td>\n",
       "      <td>0.57143</td>\n",
       "      <td>924</td>\n",
       "    </tr>\n",
       "    <tr>\n",
       "      <th>13520</th>\n",
       "      <td>13520</td>\n",
       "      <td>5</td>\n",
       "      <td>0.67247</td>\n",
       "      <td>861</td>\n",
       "    </tr>\n",
       "    <tr>\n",
       "      <th>13521</th>\n",
       "      <td>13521</td>\n",
       "      <td>5</td>\n",
       "      <td>0.80805</td>\n",
       "      <td>870</td>\n",
       "    </tr>\n",
       "    <tr>\n",
       "      <th>13522</th>\n",
       "      <td>13522</td>\n",
       "      <td>5</td>\n",
       "      <td>0.91395</td>\n",
       "      <td>860</td>\n",
       "    </tr>\n",
       "  </tbody>\n",
       "</table>\n",
       "</div>"
      ],
      "text/plain": [
       "       question_id  part  quest_pct  count\n",
       "13518        13518     5    0.78687    868\n",
       "13519        13519     5    0.57143    924\n",
       "13520        13520     5    0.67247    861\n",
       "13521        13521     5    0.80805    870\n",
       "13522        13522     5    0.91395    860"
      ]
     },
     "metadata": {},
     "output_type": "display_data"
    }
   ],
   "source": [
    "display(question2.head(), question2.tail())"
   ]
  },
  {
   "cell_type": "code",
   "execution_count": 30,
   "metadata": {
    "execution": {
     "iopub.execute_input": "2020-10-28T06:26:37.551250Z",
     "iopub.status.busy": "2020-10-28T06:26:37.550064Z",
     "iopub.status.idle": "2020-10-28T06:26:37.555042Z",
     "shell.execute_reply": "2020-10-28T06:26:37.555599Z"
    },
    "papermill": {
     "duration": 0.088064,
     "end_time": "2020-10-28T06:26:37.555767",
     "exception": false,
     "start_time": "2020-10-28T06:26:37.467703",
     "status": "completed"
    },
    "tags": []
   },
   "outputs": [
    {
     "data": {
      "text/html": [
       "<div>\n",
       "<style scoped>\n",
       "    .dataframe tbody tr th:only-of-type {\n",
       "        vertical-align: middle;\n",
       "    }\n",
       "\n",
       "    .dataframe tbody tr th {\n",
       "        vertical-align: top;\n",
       "    }\n",
       "\n",
       "    .dataframe thead th {\n",
       "        text-align: right;\n",
       "    }\n",
       "</style>\n",
       "<table border=\"1\" class=\"dataframe\">\n",
       "  <thead>\n",
       "    <tr style=\"text-align: right;\">\n",
       "      <th></th>\n",
       "      <th>timestamp</th>\n",
       "      <th>user_id</th>\n",
       "      <th>content_id</th>\n",
       "      <th>content_type_id</th>\n",
       "      <th>task_container_id</th>\n",
       "      <th>answered_correctly</th>\n",
       "      <th>prior_question_elapsed_time</th>\n",
       "      <th>prior_question_had_explanation</th>\n",
       "      <th>question_id</th>\n",
       "      <th>part</th>\n",
       "    </tr>\n",
       "  </thead>\n",
       "  <tbody>\n",
       "    <tr>\n",
       "      <th>0</th>\n",
       "      <td>0</td>\n",
       "      <td>115</td>\n",
       "      <td>5692</td>\n",
       "      <td>0</td>\n",
       "      <td>1</td>\n",
       "      <td>1</td>\n",
       "      <td>NaN</td>\n",
       "      <td>&lt;NA&gt;</td>\n",
       "      <td>5692</td>\n",
       "      <td>5</td>\n",
       "    </tr>\n",
       "    <tr>\n",
       "      <th>1</th>\n",
       "      <td>0</td>\n",
       "      <td>1805962620</td>\n",
       "      <td>5547</td>\n",
       "      <td>0</td>\n",
       "      <td>0</td>\n",
       "      <td>0</td>\n",
       "      <td>NaN</td>\n",
       "      <td>&lt;NA&gt;</td>\n",
       "      <td>5547</td>\n",
       "      <td>5</td>\n",
       "    </tr>\n",
       "    <tr>\n",
       "      <th>2</th>\n",
       "      <td>0</td>\n",
       "      <td>2015251289</td>\n",
       "      <td>4024</td>\n",
       "      <td>0</td>\n",
       "      <td>0</td>\n",
       "      <td>1</td>\n",
       "      <td>NaN</td>\n",
       "      <td>&lt;NA&gt;</td>\n",
       "      <td>4024</td>\n",
       "      <td>5</td>\n",
       "    </tr>\n",
       "    <tr>\n",
       "      <th>3</th>\n",
       "      <td>0</td>\n",
       "      <td>867941388</td>\n",
       "      <td>6659</td>\n",
       "      <td>0</td>\n",
       "      <td>0</td>\n",
       "      <td>1</td>\n",
       "      <td>NaN</td>\n",
       "      <td>&lt;NA&gt;</td>\n",
       "      <td>6659</td>\n",
       "      <td>5</td>\n",
       "    </tr>\n",
       "    <tr>\n",
       "      <th>4</th>\n",
       "      <td>0</td>\n",
       "      <td>867946278</td>\n",
       "      <td>3977</td>\n",
       "      <td>0</td>\n",
       "      <td>0</td>\n",
       "      <td>1</td>\n",
       "      <td>NaN</td>\n",
       "      <td>&lt;NA&gt;</td>\n",
       "      <td>3977</td>\n",
       "      <td>5</td>\n",
       "    </tr>\n",
       "  </tbody>\n",
       "</table>\n",
       "</div>"
      ],
      "text/plain": [
       "   timestamp     user_id  content_id  content_type_id  task_container_id  \\\n",
       "0          0         115        5692                0                  1   \n",
       "1          0  1805962620        5547                0                  0   \n",
       "2          0  2015251289        4024                0                  0   \n",
       "3          0   867941388        6659                0                  0   \n",
       "4          0   867946278        3977                0                  0   \n",
       "\n",
       "   answered_correctly  prior_question_elapsed_time  \\\n",
       "0                   1                          NaN   \n",
       "1                   0                          NaN   \n",
       "2                   1                          NaN   \n",
       "3                   1                          NaN   \n",
       "4                   1                          NaN   \n",
       "\n",
       "   prior_question_had_explanation  question_id  part  \n",
       "0                            <NA>         5692     5  \n",
       "1                            <NA>         5547     5  \n",
       "2                            <NA>         4024     5  \n",
       "3                            <NA>         6659     5  \n",
       "4                            <NA>         3977     5  "
      ]
     },
     "execution_count": 30,
     "metadata": {},
     "output_type": "execute_result"
    }
   ],
   "source": [
    "train.head()"
   ]
  },
  {
   "cell_type": "code",
   "execution_count": 31,
   "metadata": {
    "execution": {
     "iopub.execute_input": "2020-10-28T06:26:37.699083Z",
     "iopub.status.busy": "2020-10-28T06:26:37.697886Z",
     "iopub.status.idle": "2020-10-28T06:26:37.702752Z",
     "shell.execute_reply": "2020-10-28T06:26:37.702009Z"
    },
    "papermill": {
     "duration": 0.079162,
     "end_time": "2020-10-28T06:26:37.702889",
     "exception": false,
     "start_time": "2020-10-28T06:26:37.623727",
     "status": "completed"
    },
    "tags": []
   },
   "outputs": [
    {
     "data": {
      "text/plain": [
       "99271300"
      ]
     },
     "execution_count": 31,
     "metadata": {},
     "output_type": "execute_result"
    }
   ],
   "source": [
    "len(train)"
   ]
  },
  {
   "cell_type": "markdown",
   "metadata": {
    "papermill": {
     "duration": 0.068362,
     "end_time": "2020-10-28T06:26:37.839966",
     "exception": false,
     "start_time": "2020-10-28T06:26:37.771604",
     "status": "completed"
    },
    "tags": []
   },
   "source": [
    "## Data Exploration ##"
   ]
  },
  {
   "cell_type": "code",
   "execution_count": 32,
   "metadata": {
    "execution": {
     "iopub.execute_input": "2020-10-28T06:26:38.036916Z",
     "iopub.status.busy": "2020-10-28T06:26:38.036092Z",
     "iopub.status.idle": "2020-10-28T06:26:38.040480Z",
     "shell.execute_reply": "2020-10-28T06:26:38.041169Z"
    },
    "papermill": {
     "duration": 0.08193,
     "end_time": "2020-10-28T06:26:38.041375",
     "exception": false,
     "start_time": "2020-10-28T06:26:37.959445",
     "status": "completed"
    },
    "tags": []
   },
   "outputs": [
    {
     "data": {
      "text/plain": [
       "99271300"
      ]
     },
     "execution_count": 32,
     "metadata": {},
     "output_type": "execute_result"
    }
   ],
   "source": [
    "len(train)"
   ]
  },
  {
   "cell_type": "code",
   "execution_count": 33,
   "metadata": {
    "execution": {
     "iopub.execute_input": "2020-10-28T06:26:38.192207Z",
     "iopub.status.busy": "2020-10-28T06:26:38.191053Z",
     "iopub.status.idle": "2020-10-28T06:26:38.276130Z",
     "shell.execute_reply": "2020-10-28T06:26:38.275417Z"
    },
    "papermill": {
     "duration": 0.161889,
     "end_time": "2020-10-28T06:26:38.276276",
     "exception": false,
     "start_time": "2020-10-28T06:26:38.114387",
     "status": "completed"
    },
    "tags": []
   },
   "outputs": [
    {
     "data": {
      "text/plain": [
       "0.6572355454194717"
      ]
     },
     "execution_count": 33,
     "metadata": {},
     "output_type": "execute_result"
    }
   ],
   "source": [
    "train.answered_correctly.mean()"
   ]
  },
  {
   "cell_type": "code",
   "execution_count": 34,
   "metadata": {
    "execution": {
     "iopub.execute_input": "2020-10-28T06:26:38.423802Z",
     "iopub.status.busy": "2020-10-28T06:26:38.422847Z",
     "iopub.status.idle": "2020-10-28T06:26:38.426578Z",
     "shell.execute_reply": "2020-10-28T06:26:38.427116Z"
    },
    "papermill": {
     "duration": 0.08147,
     "end_time": "2020-10-28T06:26:38.427283",
     "exception": false,
     "start_time": "2020-10-28T06:26:38.345813",
     "status": "completed"
    },
    "tags": []
   },
   "outputs": [],
   "source": [
    "prior_mean_user = results_u2_final.explanation_mean_user.mean()"
   ]
  },
  {
   "cell_type": "code",
   "execution_count": 35,
   "metadata": {
    "execution": {
     "iopub.execute_input": "2020-10-28T06:26:38.585432Z",
     "iopub.status.busy": "2020-10-28T06:26:38.583802Z",
     "iopub.status.idle": "2020-10-28T06:26:38.723803Z",
     "shell.execute_reply": "2020-10-28T06:26:38.722429Z"
    },
    "papermill": {
     "duration": 0.226817,
     "end_time": "2020-10-28T06:26:38.723977",
     "exception": false,
     "start_time": "2020-10-28T06:26:38.497160",
     "status": "completed"
    },
    "tags": []
   },
   "outputs": [
    {
     "data": {
      "text/plain": [
       "0.6787809364253148"
      ]
     },
     "execution_count": 35,
     "metadata": {},
     "output_type": "execute_result"
    }
   ],
   "source": [
    "train.loc[(train.timestamp == 0)].answered_correctly.mean()"
   ]
  },
  {
   "cell_type": "code",
   "execution_count": 36,
   "metadata": {
    "execution": {
     "iopub.execute_input": "2020-10-28T06:26:38.888480Z",
     "iopub.status.busy": "2020-10-28T06:26:38.887310Z",
     "iopub.status.idle": "2020-10-28T06:26:43.954964Z",
     "shell.execute_reply": "2020-10-28T06:26:43.954198Z"
    },
    "papermill": {
     "duration": 5.148802,
     "end_time": "2020-10-28T06:26:43.955112",
     "exception": false,
     "start_time": "2020-10-28T06:26:38.806310",
     "status": "completed"
    },
    "tags": []
   },
   "outputs": [
    {
     "data": {
      "text/plain": [
       "0.6571491814363561"
      ]
     },
     "execution_count": 36,
     "metadata": {},
     "output_type": "execute_result"
    }
   ],
   "source": [
    "train.loc[(train.timestamp != 0)].answered_correctly.mean()"
   ]
  },
  {
   "cell_type": "code",
   "execution_count": 37,
   "metadata": {
    "execution": {
     "iopub.execute_input": "2020-10-28T06:26:44.505186Z",
     "iopub.status.busy": "2020-10-28T06:26:44.503975Z",
     "iopub.status.idle": "2020-10-28T06:26:45.216847Z",
     "shell.execute_reply": "2020-10-28T06:26:45.216143Z"
    },
    "papermill": {
     "duration": 1.189203,
     "end_time": "2020-10-28T06:26:45.217002",
     "exception": false,
     "start_time": "2020-10-28T06:26:44.027799",
     "status": "completed"
    },
    "tags": []
   },
   "outputs": [],
   "source": [
    "train.drop(['timestamp', 'content_type_id', 'question_id', 'part'], axis=1, inplace=True)"
   ]
  },
  {
   "cell_type": "code",
   "execution_count": 38,
   "metadata": {
    "execution": {
     "iopub.execute_input": "2020-10-28T06:26:45.366349Z",
     "iopub.status.busy": "2020-10-28T06:26:45.365093Z",
     "iopub.status.idle": "2020-10-28T06:26:45.369780Z",
     "shell.execute_reply": "2020-10-28T06:26:45.369165Z"
    },
    "papermill": {
     "duration": 0.081388,
     "end_time": "2020-10-28T06:26:45.369919",
     "exception": false,
     "start_time": "2020-10-28T06:26:45.288531",
     "status": "completed"
    },
    "tags": []
   },
   "outputs": [
    {
     "data": {
      "text/plain": [
       "99271300"
      ]
     },
     "execution_count": 38,
     "metadata": {},
     "output_type": "execute_result"
    }
   ],
   "source": [
    "len(train)"
   ]
  },
  {
   "cell_type": "markdown",
   "metadata": {
    "papermill": {
     "duration": 0.071696,
     "end_time": "2020-10-28T06:26:45.514479",
     "exception": false,
     "start_time": "2020-10-28T06:26:45.442783",
     "status": "completed"
    },
    "tags": []
   },
   "source": [
    "## Creating Validation Set (Most Recent Answers by User) ##"
   ]
  },
  {
   "cell_type": "code",
   "execution_count": 39,
   "metadata": {
    "execution": {
     "iopub.execute_input": "2020-10-28T06:26:45.666088Z",
     "iopub.status.busy": "2020-10-28T06:26:45.665265Z",
     "iopub.status.idle": "2020-10-28T06:27:10.752687Z",
     "shell.execute_reply": "2020-10-28T06:27:10.751947Z"
    },
    "papermill": {
     "duration": 25.166416,
     "end_time": "2020-10-28T06:27:10.752824",
     "exception": false,
     "start_time": "2020-10-28T06:26:45.586408",
     "status": "completed"
    },
    "tags": []
   },
   "outputs": [
    {
     "data": {
      "text/plain": [
       "99271300"
      ]
     },
     "execution_count": 39,
     "metadata": {},
     "output_type": "execute_result"
    }
   ],
   "source": [
    "validation = train.groupby('user_id').tail(5)\n",
    "train = train[~train.index.isin(validation.index)]\n",
    "len(train) + len(validation)"
   ]
  },
  {
   "cell_type": "code",
   "execution_count": 40,
   "metadata": {
    "execution": {
     "iopub.execute_input": "2020-10-28T06:27:10.905349Z",
     "iopub.status.busy": "2020-10-28T06:27:10.904571Z",
     "iopub.status.idle": "2020-10-28T06:27:10.911517Z",
     "shell.execute_reply": "2020-10-28T06:27:10.910752Z"
    },
    "papermill": {
     "duration": 0.085915,
     "end_time": "2020-10-28T06:27:10.911643",
     "exception": false,
     "start_time": "2020-10-28T06:27:10.825728",
     "status": "completed"
    },
    "tags": []
   },
   "outputs": [
    {
     "data": {
      "text/plain": [
       "0.5405640978205958"
      ]
     },
     "execution_count": 40,
     "metadata": {},
     "output_type": "execute_result"
    }
   ],
   "source": [
    "validation.answered_correctly.mean()"
   ]
  },
  {
   "cell_type": "code",
   "execution_count": 41,
   "metadata": {
    "execution": {
     "iopub.execute_input": "2020-10-28T06:27:11.067187Z",
     "iopub.status.busy": "2020-10-28T06:27:11.066379Z",
     "iopub.status.idle": "2020-10-28T06:27:11.150107Z",
     "shell.execute_reply": "2020-10-28T06:27:11.149485Z"
    },
    "papermill": {
     "duration": 0.164494,
     "end_time": "2020-10-28T06:27:11.150243",
     "exception": false,
     "start_time": "2020-10-28T06:27:10.985749",
     "status": "completed"
    },
    "tags": []
   },
   "outputs": [
    {
     "data": {
      "text/plain": [
       "0.6595947874457968"
      ]
     },
     "execution_count": 41,
     "metadata": {},
     "output_type": "execute_result"
    }
   ],
   "source": [
    "train.answered_correctly.mean()"
   ]
  },
  {
   "cell_type": "code",
   "execution_count": 42,
   "metadata": {
    "execution": {
     "iopub.execute_input": "2020-10-28T06:27:12.357643Z",
     "iopub.status.busy": "2020-10-28T06:27:12.356770Z",
     "iopub.status.idle": "2020-10-28T06:27:32.024032Z",
     "shell.execute_reply": "2020-10-28T06:27:32.023249Z"
    },
    "papermill": {
     "duration": 20.799575,
     "end_time": "2020-10-28T06:27:32.024172",
     "exception": false,
     "start_time": "2020-10-28T06:27:11.224597",
     "status": "completed"
    },
    "tags": []
   },
   "outputs": [],
   "source": [
    "results_u_val = train[['user_id','answered_correctly']].groupby(['user_id']).agg(['mean'])\n",
    "results_u_val.columns = ['answered_correctly_user']\n",
    "\n",
    "results_u2_val = train[['user_id','prior_question_had_explanation']].groupby(['user_id']).agg(['mean'])\n",
    "results_u2_val.columns = ['explanation_mean_user']"
   ]
  },
  {
   "cell_type": "markdown",
   "metadata": {
    "papermill": {
     "duration": 0.076106,
     "end_time": "2020-10-28T06:27:32.174339",
     "exception": false,
     "start_time": "2020-10-28T06:27:32.098233",
     "status": "completed"
    },
    "tags": []
   },
   "source": [
    "Does it make sense to use last questions as validation? Why is the rate of correct answers so low?\n",
    "I am convinced there is a better way to match the test data."
   ]
  },
  {
   "cell_type": "markdown",
   "metadata": {
    "papermill": {
     "duration": 0.074466,
     "end_time": "2020-10-28T06:27:32.323223",
     "exception": false,
     "start_time": "2020-10-28T06:27:32.248757",
     "status": "completed"
    },
    "tags": []
   },
   "source": [
    "## Extracting Training Data ##"
   ]
  },
  {
   "cell_type": "code",
   "execution_count": 43,
   "metadata": {
    "execution": {
     "iopub.execute_input": "2020-10-28T06:27:32.479781Z",
     "iopub.status.busy": "2020-10-28T06:27:32.478948Z",
     "iopub.status.idle": "2020-10-28T06:28:01.736976Z",
     "shell.execute_reply": "2020-10-28T06:28:01.737658Z"
    },
    "papermill": {
     "duration": 29.33991,
     "end_time": "2020-10-28T06:28:01.737840",
     "exception": false,
     "start_time": "2020-10-28T06:27:32.397930",
     "status": "completed"
    },
    "tags": []
   },
   "outputs": [
    {
     "data": {
      "text/plain": [
       "99271300"
      ]
     },
     "execution_count": 43,
     "metadata": {},
     "output_type": "execute_result"
    }
   ],
   "source": [
    "X = train.groupby('user_id').tail(18)\n",
    "train = train[~train.index.isin(X.index)]\n",
    "len(X) + len(train) + len(validation)"
   ]
  },
  {
   "cell_type": "code",
   "execution_count": 44,
   "metadata": {
    "execution": {
     "iopub.execute_input": "2020-10-28T06:28:01.893892Z",
     "iopub.status.busy": "2020-10-28T06:28:01.893140Z",
     "iopub.status.idle": "2020-10-28T06:28:01.903923Z",
     "shell.execute_reply": "2020-10-28T06:28:01.903143Z"
    },
    "papermill": {
     "duration": 0.090948,
     "end_time": "2020-10-28T06:28:01.904085",
     "exception": false,
     "start_time": "2020-10-28T06:28:01.813137",
     "status": "completed"
    },
    "tags": []
   },
   "outputs": [
    {
     "data": {
      "text/plain": [
       "0.5518996164435279"
      ]
     },
     "execution_count": 44,
     "metadata": {},
     "output_type": "execute_result"
    }
   ],
   "source": [
    "X.answered_correctly.mean()"
   ]
  },
  {
   "cell_type": "code",
   "execution_count": 45,
   "metadata": {
    "execution": {
     "iopub.execute_input": "2020-10-28T06:28:02.070820Z",
     "iopub.status.busy": "2020-10-28T06:28:02.070015Z",
     "iopub.status.idle": "2020-10-28T06:28:02.146551Z",
     "shell.execute_reply": "2020-10-28T06:28:02.145814Z"
    },
    "papermill": {
     "duration": 0.158799,
     "end_time": "2020-10-28T06:28:02.146688",
     "exception": false,
     "start_time": "2020-10-28T06:28:01.987889",
     "status": "completed"
    },
    "tags": []
   },
   "outputs": [
    {
     "data": {
      "text/plain": [
       "0.6674455337037223"
      ]
     },
     "execution_count": 45,
     "metadata": {},
     "output_type": "execute_result"
    }
   ],
   "source": [
    "train.answered_correctly.mean()"
   ]
  },
  {
   "cell_type": "code",
   "execution_count": 46,
   "metadata": {
    "execution": {
     "iopub.execute_input": "2020-10-28T06:28:03.247597Z",
     "iopub.status.busy": "2020-10-28T06:28:02.662515Z",
     "iopub.status.idle": "2020-10-28T06:28:21.187147Z",
     "shell.execute_reply": "2020-10-28T06:28:21.187728Z"
    },
    "papermill": {
     "duration": 18.962833,
     "end_time": "2020-10-28T06:28:21.187924",
     "exception": false,
     "start_time": "2020-10-28T06:28:02.225091",
     "status": "completed"
    },
    "tags": []
   },
   "outputs": [],
   "source": [
    "results_u_X = train[['user_id','answered_correctly']].groupby(['user_id']).agg(['mean'])\n",
    "results_u_X.columns = ['answered_correctly_user']\n",
    "\n",
    "results_u2_X = train[['user_id','prior_question_had_explanation']].groupby(['user_id']).agg(['mean'])\n",
    "results_u2_X.columns = ['explanation_mean_user']"
   ]
  },
  {
   "cell_type": "markdown",
   "metadata": {
    "papermill": {
     "duration": 0.074899,
     "end_time": "2020-10-28T06:28:21.338808",
     "exception": false,
     "start_time": "2020-10-28T06:28:21.263909",
     "status": "completed"
    },
    "tags": []
   },
   "source": [
    "## Merging Data ##"
   ]
  },
  {
   "cell_type": "code",
   "execution_count": 47,
   "metadata": {
    "execution": {
     "iopub.execute_input": "2020-10-28T06:28:21.619010Z",
     "iopub.status.busy": "2020-10-28T06:28:21.617917Z",
     "iopub.status.idle": "2020-10-28T06:28:21.621739Z",
     "shell.execute_reply": "2020-10-28T06:28:21.621143Z"
    },
    "papermill": {
     "duration": 0.207989,
     "end_time": "2020-10-28T06:28:21.621872",
     "exception": false,
     "start_time": "2020-10-28T06:28:21.413883",
     "status": "completed"
    },
    "tags": []
   },
   "outputs": [],
   "source": [
    "#clearing memory\n",
    "del(train)"
   ]
  },
  {
   "cell_type": "code",
   "execution_count": 48,
   "metadata": {
    "execution": {
     "iopub.execute_input": "2020-10-28T06:28:21.786548Z",
     "iopub.status.busy": "2020-10-28T06:28:21.785747Z",
     "iopub.status.idle": "2020-10-28T06:28:27.151249Z",
     "shell.execute_reply": "2020-10-28T06:28:27.151864Z"
    },
    "papermill": {
     "duration": 5.450682,
     "end_time": "2020-10-28T06:28:27.152076",
     "exception": false,
     "start_time": "2020-10-28T06:28:21.701394",
     "status": "completed"
    },
    "tags": []
   },
   "outputs": [],
   "source": [
    "X = pd.merge(X, group3, left_on=['task_container_id'], right_index= True, how=\"left\")\n",
    "X = pd.merge(X, results_u_X, on=['user_id'], how=\"left\")\n",
    "X = pd.merge(X, results_u2_X, on=['user_id'], how=\"left\")\n",
    "\n",
    "X = pd.merge(X, user_lecture_stats_part, on=['user_id'], how=\"left\")"
   ]
  },
  {
   "cell_type": "code",
   "execution_count": 49,
   "metadata": {
    "execution": {
     "iopub.execute_input": "2020-10-28T06:28:27.313674Z",
     "iopub.status.busy": "2020-10-28T06:28:27.312806Z",
     "iopub.status.idle": "2020-10-28T06:28:28.974139Z",
     "shell.execute_reply": "2020-10-28T06:28:28.973478Z"
    },
    "papermill": {
     "duration": 1.745234,
     "end_time": "2020-10-28T06:28:28.974263",
     "exception": false,
     "start_time": "2020-10-28T06:28:27.229029",
     "status": "completed"
    },
    "tags": []
   },
   "outputs": [],
   "source": [
    "validation = pd.merge(validation, group3, left_on=['task_container_id'], right_index= True, how=\"left\")\n",
    "validation = pd.merge(validation, results_u_val, on=['user_id'], how=\"left\")\n",
    "validation = pd.merge(validation, results_u2_val, on=['user_id'], how=\"left\")\n",
    "\n",
    "validation = pd.merge(validation, user_lecture_stats_part, on=['user_id'], how=\"left\")"
   ]
  },
  {
   "cell_type": "code",
   "execution_count": 50,
   "metadata": {
    "execution": {
     "iopub.execute_input": "2020-10-28T06:28:29.147669Z",
     "iopub.status.busy": "2020-10-28T06:28:29.145363Z",
     "iopub.status.idle": "2020-10-28T06:28:32.505065Z",
     "shell.execute_reply": "2020-10-28T06:28:32.504428Z"
    },
    "papermill": {
     "duration": 3.44961,
     "end_time": "2020-10-28T06:28:32.505201",
     "exception": false,
     "start_time": "2020-10-28T06:28:29.055591",
     "status": "completed"
    },
    "tags": []
   },
   "outputs": [],
   "source": [
    "from sklearn.preprocessing import LabelEncoder\n",
    "\n",
    "lb_make = LabelEncoder()\n",
    "\n",
    "X.prior_question_had_explanation.fillna(False, inplace = True)\n",
    "validation.prior_question_had_explanation.fillna(False, inplace = True)\n",
    "\n",
    "validation[\"prior_question_had_explanation_enc\"] = lb_make.fit_transform(validation[\"prior_question_had_explanation\"])\n",
    "X[\"prior_question_had_explanation_enc\"] = lb_make.fit_transform(X[\"prior_question_had_explanation\"])"
   ]
  },
  {
   "cell_type": "code",
   "execution_count": 51,
   "metadata": {
    "execution": {
     "iopub.execute_input": "2020-10-28T06:28:32.663326Z",
     "iopub.status.busy": "2020-10-28T06:28:32.662538Z",
     "iopub.status.idle": "2020-10-28T06:28:32.665930Z",
     "shell.execute_reply": "2020-10-28T06:28:32.665357Z"
    },
    "papermill": {
     "duration": 0.083698,
     "end_time": "2020-10-28T06:28:32.666096",
     "exception": false,
     "start_time": "2020-10-28T06:28:32.582398",
     "status": "completed"
    },
    "tags": []
   },
   "outputs": [],
   "source": [
    "#reading in question df\n",
    "#question2 = pd.read_csv('/kaggle/input/question2/question2.csv)"
   ]
  },
  {
   "cell_type": "code",
   "execution_count": 52,
   "metadata": {
    "execution": {
     "iopub.execute_input": "2020-10-28T06:28:32.828615Z",
     "iopub.status.busy": "2020-10-28T06:28:32.827266Z",
     "iopub.status.idle": "2020-10-28T06:28:32.833280Z",
     "shell.execute_reply": "2020-10-28T06:28:32.832495Z"
    },
    "papermill": {
     "duration": 0.089235,
     "end_time": "2020-10-28T06:28:32.833488",
     "exception": false,
     "start_time": "2020-10-28T06:28:32.744253",
     "status": "completed"
    },
    "tags": []
   },
   "outputs": [
    {
     "data": {
      "text/plain": [
       "0.7094600658138017"
      ]
     },
     "execution_count": 52,
     "metadata": {},
     "output_type": "execute_result"
    }
   ],
   "source": [
    "content_mean = question2.quest_pct.mean()\n",
    "\n",
    "question2.quest_pct.mean()\n",
    "#there are a lot of high percentage questions, should use median instead?"
   ]
  },
  {
   "cell_type": "code",
   "execution_count": 53,
   "metadata": {
    "execution": {
     "iopub.execute_input": "2020-10-28T06:28:33.026925Z",
     "iopub.status.busy": "2020-10-28T06:28:33.025713Z",
     "iopub.status.idle": "2020-10-28T06:28:33.035952Z",
     "shell.execute_reply": "2020-10-28T06:28:33.035165Z"
    },
    "papermill": {
     "duration": 0.110037,
     "end_time": "2020-10-28T06:28:33.036107",
     "exception": false,
     "start_time": "2020-10-28T06:28:32.926070",
     "status": "completed"
    },
    "tags": []
   },
   "outputs": [],
   "source": [
    "#filling questions with no info with a new value\n",
    "question2.quest_pct = question2.quest_pct.mask((question2['count'] < 3), .65)\n",
    "\n",
    "\n",
    "#filling very hard new questions with a more reasonable value\n",
    "question2.quest_pct = question2.quest_pct.mask((question2.quest_pct < .2) & (question2['count'] < 21), .2)\n",
    "\n",
    "#filling very easy new questions with a more reasonable value\n",
    "question2.quest_pct = question2.quest_pct.mask((question2.quest_pct > .95) & (question2['count'] < 21), .95)"
   ]
  },
  {
   "cell_type": "code",
   "execution_count": 54,
   "metadata": {
    "execution": {
     "iopub.execute_input": "2020-10-28T06:28:33.200847Z",
     "iopub.status.busy": "2020-10-28T06:28:33.200084Z",
     "iopub.status.idle": "2020-10-28T06:28:36.316937Z",
     "shell.execute_reply": "2020-10-28T06:28:36.316213Z"
    },
    "papermill": {
     "duration": 3.20241,
     "end_time": "2020-10-28T06:28:36.317089",
     "exception": false,
     "start_time": "2020-10-28T06:28:33.114679",
     "status": "completed"
    },
    "tags": []
   },
   "outputs": [],
   "source": [
    "X = pd.merge(X, question2, left_on = 'content_id', right_on = 'question_id', how = 'left')\n",
    "validation = pd.merge(validation, question2, left_on = 'content_id', right_on = 'question_id', how = 'left')\n",
    "X.part = X.part - 1\n",
    "validation.part = validation.part - 1"
   ]
  },
  {
   "cell_type": "code",
   "execution_count": 55,
   "metadata": {
    "execution": {
     "iopub.execute_input": "2020-10-28T06:28:36.485826Z",
     "iopub.status.busy": "2020-10-28T06:28:36.482328Z",
     "iopub.status.idle": "2020-10-28T06:28:36.511613Z",
     "shell.execute_reply": "2020-10-28T06:28:36.510940Z"
    },
    "papermill": {
     "duration": 0.116873,
     "end_time": "2020-10-28T06:28:36.511746",
     "exception": false,
     "start_time": "2020-10-28T06:28:36.394873",
     "status": "completed"
    },
    "tags": []
   },
   "outputs": [
    {
     "data": {
      "text/html": [
       "<div>\n",
       "<style scoped>\n",
       "    .dataframe tbody tr th:only-of-type {\n",
       "        vertical-align: middle;\n",
       "    }\n",
       "\n",
       "    .dataframe tbody tr th {\n",
       "        vertical-align: top;\n",
       "    }\n",
       "\n",
       "    .dataframe thead th {\n",
       "        text-align: right;\n",
       "    }\n",
       "</style>\n",
       "<table border=\"1\" class=\"dataframe\">\n",
       "  <thead>\n",
       "    <tr style=\"text-align: right;\">\n",
       "      <th></th>\n",
       "      <th>user_id</th>\n",
       "      <th>content_id</th>\n",
       "      <th>task_container_id</th>\n",
       "      <th>answered_correctly</th>\n",
       "      <th>prior_question_elapsed_time</th>\n",
       "      <th>prior_question_had_explanation</th>\n",
       "      <th>avg_questions</th>\n",
       "      <th>avg_questions_seen</th>\n",
       "      <th>answered_correctly_user</th>\n",
       "      <th>explanation_mean_user</th>\n",
       "      <th>...</th>\n",
       "      <th>part_7_boolean</th>\n",
       "      <th>type_of_concept_boolean</th>\n",
       "      <th>type_of_intention_boolean</th>\n",
       "      <th>type_of_solving_question_boolean</th>\n",
       "      <th>type_of_starter_boolean</th>\n",
       "      <th>prior_question_had_explanation_enc</th>\n",
       "      <th>question_id</th>\n",
       "      <th>part</th>\n",
       "      <th>quest_pct</th>\n",
       "      <th>count</th>\n",
       "    </tr>\n",
       "  </thead>\n",
       "  <tbody>\n",
       "    <tr>\n",
       "      <th>0</th>\n",
       "      <td>867946278</td>\n",
       "      <td>3977</td>\n",
       "      <td>0</td>\n",
       "      <td>1</td>\n",
       "      <td>NaN</td>\n",
       "      <td>False</td>\n",
       "      <td>1.006649</td>\n",
       "      <td>1.006649</td>\n",
       "      <td>NaN</td>\n",
       "      <td>NaN</td>\n",
       "      <td>...</td>\n",
       "      <td>NaN</td>\n",
       "      <td>NaN</td>\n",
       "      <td>NaN</td>\n",
       "      <td>NaN</td>\n",
       "      <td>NaN</td>\n",
       "      <td>0</td>\n",
       "      <td>3977</td>\n",
       "      <td>4</td>\n",
       "      <td>0.87455</td>\n",
       "      <td>14428</td>\n",
       "    </tr>\n",
       "    <tr>\n",
       "      <th>1</th>\n",
       "      <td>1440786713</td>\n",
       "      <td>3889</td>\n",
       "      <td>0</td>\n",
       "      <td>1</td>\n",
       "      <td>NaN</td>\n",
       "      <td>False</td>\n",
       "      <td>1.006649</td>\n",
       "      <td>1.006649</td>\n",
       "      <td>NaN</td>\n",
       "      <td>NaN</td>\n",
       "      <td>...</td>\n",
       "      <td>NaN</td>\n",
       "      <td>NaN</td>\n",
       "      <td>NaN</td>\n",
       "      <td>NaN</td>\n",
       "      <td>NaN</td>\n",
       "      <td>0</td>\n",
       "      <td>3889</td>\n",
       "      <td>4</td>\n",
       "      <td>0.70104</td>\n",
       "      <td>6633</td>\n",
       "    </tr>\n",
       "    <tr>\n",
       "      <th>2</th>\n",
       "      <td>1805972720</td>\n",
       "      <td>5796</td>\n",
       "      <td>0</td>\n",
       "      <td>0</td>\n",
       "      <td>NaN</td>\n",
       "      <td>False</td>\n",
       "      <td>1.006649</td>\n",
       "      <td>1.006649</td>\n",
       "      <td>NaN</td>\n",
       "      <td>NaN</td>\n",
       "      <td>...</td>\n",
       "      <td>NaN</td>\n",
       "      <td>NaN</td>\n",
       "      <td>NaN</td>\n",
       "      <td>NaN</td>\n",
       "      <td>NaN</td>\n",
       "      <td>0</td>\n",
       "      <td>5796</td>\n",
       "      <td>4</td>\n",
       "      <td>0.74372</td>\n",
       "      <td>3859</td>\n",
       "    </tr>\n",
       "    <tr>\n",
       "      <th>3</th>\n",
       "      <td>1805982086</td>\n",
       "      <td>6004</td>\n",
       "      <td>0</td>\n",
       "      <td>1</td>\n",
       "      <td>NaN</td>\n",
       "      <td>False</td>\n",
       "      <td>1.006649</td>\n",
       "      <td>1.006649</td>\n",
       "      <td>NaN</td>\n",
       "      <td>NaN</td>\n",
       "      <td>...</td>\n",
       "      <td>NaN</td>\n",
       "      <td>NaN</td>\n",
       "      <td>NaN</td>\n",
       "      <td>NaN</td>\n",
       "      <td>NaN</td>\n",
       "      <td>0</td>\n",
       "      <td>6004</td>\n",
       "      <td>4</td>\n",
       "      <td>0.64486</td>\n",
       "      <td>23022</td>\n",
       "    </tr>\n",
       "    <tr>\n",
       "      <th>4</th>\n",
       "      <td>1653617030</td>\n",
       "      <td>4123</td>\n",
       "      <td>0</td>\n",
       "      <td>1</td>\n",
       "      <td>NaN</td>\n",
       "      <td>False</td>\n",
       "      <td>1.006649</td>\n",
       "      <td>1.006649</td>\n",
       "      <td>NaN</td>\n",
       "      <td>NaN</td>\n",
       "      <td>...</td>\n",
       "      <td>NaN</td>\n",
       "      <td>NaN</td>\n",
       "      <td>NaN</td>\n",
       "      <td>NaN</td>\n",
       "      <td>NaN</td>\n",
       "      <td>0</td>\n",
       "      <td>4123</td>\n",
       "      <td>4</td>\n",
       "      <td>0.73155</td>\n",
       "      <td>39825</td>\n",
       "    </tr>\n",
       "  </tbody>\n",
       "</table>\n",
       "<p>5 rows × 37 columns</p>\n",
       "</div>"
      ],
      "text/plain": [
       "      user_id  content_id  task_container_id  answered_correctly  \\\n",
       "0   867946278        3977                  0                   1   \n",
       "1  1440786713        3889                  0                   1   \n",
       "2  1805972720        5796                  0                   0   \n",
       "3  1805982086        6004                  0                   1   \n",
       "4  1653617030        4123                  0                   1   \n",
       "\n",
       "   prior_question_elapsed_time  prior_question_had_explanation  avg_questions  \\\n",
       "0                          NaN                           False       1.006649   \n",
       "1                          NaN                           False       1.006649   \n",
       "2                          NaN                           False       1.006649   \n",
       "3                          NaN                           False       1.006649   \n",
       "4                          NaN                           False       1.006649   \n",
       "\n",
       "   avg_questions_seen  answered_correctly_user  explanation_mean_user  ...  \\\n",
       "0            1.006649                      NaN                    NaN  ...   \n",
       "1            1.006649                      NaN                    NaN  ...   \n",
       "2            1.006649                      NaN                    NaN  ...   \n",
       "3            1.006649                      NaN                    NaN  ...   \n",
       "4            1.006649                      NaN                    NaN  ...   \n",
       "\n",
       "   part_7_boolean  type_of_concept_boolean  type_of_intention_boolean  \\\n",
       "0             NaN                      NaN                        NaN   \n",
       "1             NaN                      NaN                        NaN   \n",
       "2             NaN                      NaN                        NaN   \n",
       "3             NaN                      NaN                        NaN   \n",
       "4             NaN                      NaN                        NaN   \n",
       "\n",
       "   type_of_solving_question_boolean  type_of_starter_boolean  \\\n",
       "0                               NaN                      NaN   \n",
       "1                               NaN                      NaN   \n",
       "2                               NaN                      NaN   \n",
       "3                               NaN                      NaN   \n",
       "4                               NaN                      NaN   \n",
       "\n",
       "   prior_question_had_explanation_enc  question_id  part  quest_pct  count  \n",
       "0                                   0         3977     4    0.87455  14428  \n",
       "1                                   0         3889     4    0.70104   6633  \n",
       "2                                   0         5796     4    0.74372   3859  \n",
       "3                                   0         6004     4    0.64486  23022  \n",
       "4                                   0         4123     4    0.73155  39825  \n",
       "\n",
       "[5 rows x 37 columns]"
      ]
     },
     "execution_count": 55,
     "metadata": {},
     "output_type": "execute_result"
    }
   ],
   "source": [
    "X.head()"
   ]
  },
  {
   "cell_type": "code",
   "execution_count": 56,
   "metadata": {
    "execution": {
     "iopub.execute_input": "2020-10-28T06:28:36.679405Z",
     "iopub.status.busy": "2020-10-28T06:28:36.678621Z",
     "iopub.status.idle": "2020-10-28T06:28:38.951722Z",
     "shell.execute_reply": "2020-10-28T06:28:38.951082Z"
    },
    "papermill": {
     "duration": 2.359465,
     "end_time": "2020-10-28T06:28:38.951866",
     "exception": false,
     "start_time": "2020-10-28T06:28:36.592401",
     "status": "completed"
    },
    "tags": []
   },
   "outputs": [],
   "source": [
    "y = X['answered_correctly']\n",
    "X = X.drop(['answered_correctly'], axis=1)\n",
    "X.head()\n",
    "\n",
    "y_val = validation['answered_correctly']\n",
    "X_val = validation.drop(['answered_correctly'], axis=1)"
   ]
  },
  {
   "cell_type": "code",
   "execution_count": 57,
   "metadata": {
    "execution": {
     "iopub.execute_input": "2020-10-28T06:28:39.829920Z",
     "iopub.status.busy": "2020-10-28T06:28:39.827683Z",
     "iopub.status.idle": "2020-10-28T06:28:39.833690Z",
     "shell.execute_reply": "2020-10-28T06:28:39.832921Z"
    },
    "papermill": {
     "duration": 0.800588,
     "end_time": "2020-10-28T06:28:39.833826",
     "exception": false,
     "start_time": "2020-10-28T06:28:39.033238",
     "status": "completed"
    },
    "tags": []
   },
   "outputs": [],
   "source": [
    "X = X[['answered_correctly_user', 'explanation_mean_user', 'quest_pct', 'avg_questions_seen',\n",
    "       'prior_question_elapsed_time','prior_question_had_explanation_enc', 'part',\n",
    "       'part_1', 'part_2', 'part_3', 'part_4', 'part_5', 'part_6', 'part_7',\n",
    "       'type_of_concept', 'type_of_intention', 'type_of_solving_question', 'type_of_starter',\n",
    "       'part_1_boolean', 'part_2_boolean', 'part_3_boolean', 'part_4_boolean', 'part_5_boolean', 'part_6_boolean', 'part_7_boolean',\n",
    "       'type_of_concept_boolean', 'type_of_intention_boolean', 'type_of_solving_question_boolean', 'type_of_starter_boolean']]\n",
    "X_val = X_val[['answered_correctly_user', 'explanation_mean_user', 'quest_pct', 'avg_questions_seen',\n",
    "               'prior_question_elapsed_time','prior_question_had_explanation_enc', 'part',\n",
    "               'part_1', 'part_2', 'part_3', 'part_4', 'part_5', 'part_6', 'part_7',\n",
    "               'type_of_concept', 'type_of_intention', 'type_of_solving_question', 'type_of_starter',\n",
    "               'part_1_boolean', 'part_2_boolean', 'part_3_boolean', 'part_4_boolean', 'part_5_boolean', 'part_6_boolean', 'part_7_boolean',\n",
    "               'type_of_concept_boolean', 'type_of_intention_boolean', 'type_of_solving_question_boolean', 'type_of_starter_boolean']]"
   ]
  },
  {
   "cell_type": "code",
   "execution_count": 58,
   "metadata": {
    "execution": {
     "iopub.execute_input": "2020-10-28T06:28:40.009586Z",
     "iopub.status.busy": "2020-10-28T06:28:40.003841Z",
     "iopub.status.idle": "2020-10-28T06:28:40.652812Z",
     "shell.execute_reply": "2020-10-28T06:28:40.652022Z"
    },
    "papermill": {
     "duration": 0.738496,
     "end_time": "2020-10-28T06:28:40.652942",
     "exception": false,
     "start_time": "2020-10-28T06:28:39.914446",
     "status": "completed"
    },
    "tags": []
   },
   "outputs": [],
   "source": [
    "\n",
    "# Filling with 0.5 for simplicity; there could likely be a better value\n",
    "X['answered_correctly_user'].fillna(0.65,  inplace=True)\n",
    "X['explanation_mean_user'].fillna(prior_mean_user,  inplace=True)\n",
    "X['quest_pct'].fillna(content_mean, inplace=True)\n",
    "\n",
    "X['part'].fillna(4, inplace = True)\n",
    "X['avg_questions_seen'].fillna(1, inplace = True)\n",
    "X['prior_question_elapsed_time'].fillna(elapsed_mean, inplace = True)\n",
    "X['prior_question_had_explanation_enc'].fillna(0, inplace = True)\n",
    "\n",
    "X['part_1'].fillna(0, inplace = True)\n",
    "X['part_2'].fillna(0, inplace = True)\n",
    "X['part_3'].fillna(0, inplace = True)\n",
    "X['part_4'].fillna(0, inplace = True)\n",
    "X['part_5'].fillna(0, inplace = True)\n",
    "X['part_6'].fillna(0, inplace = True)\n",
    "X['part_7'].fillna(0, inplace = True)\n",
    "X['type_of_concept'].fillna(0, inplace = True)\n",
    "X['type_of_intention'].fillna(0, inplace = True)\n",
    "X['type_of_solving_question'].fillna(0, inplace = True)\n",
    "X['type_of_starter'].fillna(0, inplace = True)\n",
    "X['part_1_boolean'].fillna(0, inplace = True)\n",
    "X['part_2_boolean'].fillna(0, inplace = True)\n",
    "X['part_3_boolean'].fillna(0, inplace = True)\n",
    "X['part_4_boolean'].fillna(0, inplace = True)\n",
    "X['part_5_boolean'].fillna(0, inplace = True)\n",
    "X['part_6_boolean'].fillna(0, inplace = True)\n",
    "X['part_7_boolean'].fillna(0, inplace = True)\n",
    "X['type_of_concept_boolean'].fillna(0, inplace = True)\n",
    "X['type_of_intention_boolean'].fillna(0, inplace = True)\n",
    "X['type_of_solving_question_boolean'].fillna(0, inplace = True)\n",
    "X['type_of_starter_boolean'].fillna(0, inplace = True)"
   ]
  },
  {
   "cell_type": "code",
   "execution_count": 59,
   "metadata": {
    "execution": {
     "iopub.execute_input": "2020-10-28T06:28:40.833024Z",
     "iopub.status.busy": "2020-10-28T06:28:40.832230Z",
     "iopub.status.idle": "2020-10-28T06:28:41.042040Z",
     "shell.execute_reply": "2020-10-28T06:28:41.041299Z"
    },
    "papermill": {
     "duration": 0.30887,
     "end_time": "2020-10-28T06:28:41.042170",
     "exception": false,
     "start_time": "2020-10-28T06:28:40.733300",
     "status": "completed"
    },
    "tags": []
   },
   "outputs": [],
   "source": [
    "X_val['answered_correctly_user'].fillna(0.65,  inplace=True)\n",
    "X_val['explanation_mean_user'].fillna(prior_mean_user,  inplace=True)\n",
    "X_val['quest_pct'].fillna(content_mean,  inplace=True)\n",
    "\n",
    "X_val['part'].fillna(4, inplace = True)\n",
    "X_val['avg_questions_seen'].fillna(1, inplace = True)\n",
    "X_val['prior_question_elapsed_time'].fillna(elapsed_mean, inplace = True)\n",
    "X_val['prior_question_had_explanation_enc'].fillna(0, inplace = True)\n",
    "\n",
    "X_val['part_1'].fillna(0, inplace = True)\n",
    "X_val['part_2'].fillna(0, inplace = True)\n",
    "X_val['part_3'].fillna(0, inplace = True)\n",
    "X_val['part_4'].fillna(0, inplace = True)\n",
    "X_val['part_5'].fillna(0, inplace = True)\n",
    "X_val['part_6'].fillna(0, inplace = True)\n",
    "X_val['part_7'].fillna(0, inplace = True)\n",
    "X_val['type_of_concept'].fillna(0, inplace = True)\n",
    "X_val['type_of_intention'].fillna(0, inplace = True)\n",
    "X_val['type_of_solving_question'].fillna(0, inplace = True)\n",
    "X_val['type_of_starter'].fillna(0, inplace = True)\n",
    "X_val['part_1_boolean'].fillna(0, inplace = True)\n",
    "X_val['part_2_boolean'].fillna(0, inplace = True)\n",
    "X_val['part_3_boolean'].fillna(0, inplace = True)\n",
    "X_val['part_4_boolean'].fillna(0, inplace = True)\n",
    "X_val['part_5_boolean'].fillna(0, inplace = True)\n",
    "X_val['part_6_boolean'].fillna(0, inplace = True)\n",
    "X_val['part_7_boolean'].fillna(0, inplace = True)\n",
    "X_val['type_of_concept_boolean'].fillna(0, inplace = True)\n",
    "X_val['type_of_intention_boolean'].fillna(0, inplace = True)\n",
    "X_val['type_of_solving_question_boolean'].fillna(0, inplace = True)\n",
    "X_val['type_of_starter_boolean'].fillna(0, inplace = True)"
   ]
  },
  {
   "cell_type": "markdown",
   "metadata": {
    "papermill": {
     "duration": 0.081448,
     "end_time": "2020-10-28T06:28:41.203156",
     "exception": false,
     "start_time": "2020-10-28T06:28:41.121708",
     "status": "completed"
    },
    "tags": []
   },
   "source": [
    "## Modeling ##"
   ]
  },
  {
   "cell_type": "code",
   "execution_count": 60,
   "metadata": {
    "execution": {
     "iopub.execute_input": "2020-10-28T06:28:41.375342Z",
     "iopub.status.busy": "2020-10-28T06:28:41.374563Z",
     "iopub.status.idle": "2020-10-28T06:28:41.462777Z",
     "shell.execute_reply": "2020-10-28T06:28:41.461944Z"
    },
    "papermill": {
     "duration": 0.174943,
     "end_time": "2020-10-28T06:28:41.462909",
     "exception": false,
     "start_time": "2020-10-28T06:28:41.287966",
     "status": "completed"
    },
    "tags": []
   },
   "outputs": [],
   "source": [
    "import lightgbm as lgb\n",
    "\n",
    "params = {\n",
    "    'objective': 'binary',\n",
    "    'boosting' : 'gbdt',\n",
    "    'max_bin': 800,\n",
    "    'learning_rate': 0.0175,\n",
    "    'num_leaves': 80\n",
    "}\n",
    "\n",
    "lgb_train = lgb.Dataset(X, y, categorical_feature = ['part', 'prior_question_had_explanation_enc'])\n",
    "lgb_eval = lgb.Dataset(X_val, y_val, categorical_feature = ['part', 'prior_question_had_explanation_enc'], reference=lgb_train)"
   ]
  },
  {
   "cell_type": "code",
   "execution_count": 61,
   "metadata": {
    "execution": {
     "iopub.execute_input": "2020-10-28T06:28:41.631096Z",
     "iopub.status.busy": "2020-10-28T06:28:41.630358Z",
     "iopub.status.idle": "2020-10-28T07:07:06.812415Z",
     "shell.execute_reply": "2020-10-28T07:07:06.813545Z"
    },
    "papermill": {
     "duration": 2305.268821,
     "end_time": "2020-10-28T07:07:06.814155",
     "exception": false,
     "start_time": "2020-10-28T06:28:41.545334",
     "status": "completed"
    },
    "tags": []
   },
   "outputs": [
    {
     "name": "stderr",
     "output_type": "stream",
     "text": [
      "/opt/conda/lib/python3.7/site-packages/lightgbm/basic.py:1291: UserWarning: Using categorical_feature in Dataset.\n",
      "  warnings.warn('Using categorical_feature in Dataset.')\n"
     ]
    },
    {
     "name": "stdout",
     "output_type": "stream",
     "text": [
      "Training until validation scores don't improve for 12 rounds\n",
      "[50]\ttraining's binary_logloss: 0.612883\tvalid_1's binary_logloss: 0.625766\n",
      "[100]\ttraining's binary_logloss: 0.596003\tvalid_1's binary_logloss: 0.611887\n",
      "[150]\ttraining's binary_logloss: 0.591433\tvalid_1's binary_logloss: 0.608187\n",
      "[200]\ttraining's binary_logloss: 0.589696\tvalid_1's binary_logloss: 0.606672\n",
      "[250]\ttraining's binary_logloss: 0.588795\tvalid_1's binary_logloss: 0.605956\n",
      "[300]\ttraining's binary_logloss: 0.588176\tvalid_1's binary_logloss: 0.605341\n",
      "[350]\ttraining's binary_logloss: 0.587742\tvalid_1's binary_logloss: 0.604948\n",
      "[400]\ttraining's binary_logloss: 0.587407\tvalid_1's binary_logloss: 0.604669\n",
      "[450]\ttraining's binary_logloss: 0.587145\tvalid_1's binary_logloss: 0.604449\n",
      "[500]\ttraining's binary_logloss: 0.586931\tvalid_1's binary_logloss: 0.604277\n",
      "[550]\ttraining's binary_logloss: 0.586754\tvalid_1's binary_logloss: 0.604151\n",
      "[600]\ttraining's binary_logloss: 0.586607\tvalid_1's binary_logloss: 0.604078\n",
      "[650]\ttraining's binary_logloss: 0.586477\tvalid_1's binary_logloss: 0.604023\n",
      "[700]\ttraining's binary_logloss: 0.586349\tvalid_1's binary_logloss: 0.603972\n",
      "[750]\ttraining's binary_logloss: 0.586231\tvalid_1's binary_logloss: 0.603922\n",
      "[800]\ttraining's binary_logloss: 0.586117\tvalid_1's binary_logloss: 0.603877\n",
      "[850]\ttraining's binary_logloss: 0.586013\tvalid_1's binary_logloss: 0.603839\n",
      "[900]\ttraining's binary_logloss: 0.585914\tvalid_1's binary_logloss: 0.603804\n",
      "[950]\ttraining's binary_logloss: 0.585802\tvalid_1's binary_logloss: 0.603741\n",
      "[1000]\ttraining's binary_logloss: 0.585703\tvalid_1's binary_logloss: 0.603702\n",
      "[1050]\ttraining's binary_logloss: 0.585603\tvalid_1's binary_logloss: 0.603665\n",
      "[1100]\ttraining's binary_logloss: 0.585506\tvalid_1's binary_logloss: 0.603633\n",
      "[1150]\ttraining's binary_logloss: 0.585404\tvalid_1's binary_logloss: 0.603593\n",
      "[1200]\ttraining's binary_logloss: 0.585302\tvalid_1's binary_logloss: 0.603548\n",
      "[1250]\ttraining's binary_logloss: 0.585198\tvalid_1's binary_logloss: 0.603509\n",
      "[1300]\ttraining's binary_logloss: 0.585092\tvalid_1's binary_logloss: 0.603433\n",
      "[1350]\ttraining's binary_logloss: 0.585002\tvalid_1's binary_logloss: 0.603401\n",
      "[1400]\ttraining's binary_logloss: 0.584912\tvalid_1's binary_logloss: 0.60337\n",
      "[1450]\ttraining's binary_logloss: 0.584812\tvalid_1's binary_logloss: 0.603321\n",
      "[1500]\ttraining's binary_logloss: 0.584721\tvalid_1's binary_logloss: 0.603299\n",
      "[1550]\ttraining's binary_logloss: 0.584632\tvalid_1's binary_logloss: 0.603274\n",
      "[1600]\ttraining's binary_logloss: 0.584542\tvalid_1's binary_logloss: 0.603231\n",
      "[1650]\ttraining's binary_logloss: 0.584454\tvalid_1's binary_logloss: 0.603202\n",
      "[1700]\ttraining's binary_logloss: 0.584372\tvalid_1's binary_logloss: 0.603185\n",
      "[1750]\ttraining's binary_logloss: 0.58429\tvalid_1's binary_logloss: 0.603161\n",
      "[1800]\ttraining's binary_logloss: 0.584209\tvalid_1's binary_logloss: 0.60314\n",
      "[1850]\ttraining's binary_logloss: 0.584129\tvalid_1's binary_logloss: 0.603118\n",
      "[1900]\ttraining's binary_logloss: 0.584049\tvalid_1's binary_logloss: 0.603109\n",
      "[1950]\ttraining's binary_logloss: 0.583973\tvalid_1's binary_logloss: 0.603093\n",
      "[2000]\ttraining's binary_logloss: 0.583899\tvalid_1's binary_logloss: 0.603083\n",
      "[2050]\ttraining's binary_logloss: 0.583824\tvalid_1's binary_logloss: 0.603075\n",
      "[2100]\ttraining's binary_logloss: 0.583749\tvalid_1's binary_logloss: 0.60306\n",
      "[2150]\ttraining's binary_logloss: 0.583671\tvalid_1's binary_logloss: 0.603051\n",
      "[2200]\ttraining's binary_logloss: 0.583591\tvalid_1's binary_logloss: 0.603028\n",
      "[2250]\ttraining's binary_logloss: 0.583517\tvalid_1's binary_logloss: 0.603018\n",
      "[2300]\ttraining's binary_logloss: 0.583443\tvalid_1's binary_logloss: 0.603004\n",
      "[2350]\ttraining's binary_logloss: 0.583365\tvalid_1's binary_logloss: 0.60299\n",
      "[2400]\ttraining's binary_logloss: 0.583288\tvalid_1's binary_logloss: 0.602973\n",
      "[2450]\ttraining's binary_logloss: 0.583216\tvalid_1's binary_logloss: 0.602967\n",
      "[2500]\ttraining's binary_logloss: 0.583143\tvalid_1's binary_logloss: 0.602955\n",
      "[2550]\ttraining's binary_logloss: 0.583063\tvalid_1's binary_logloss: 0.602932\n",
      "[2600]\ttraining's binary_logloss: 0.582984\tvalid_1's binary_logloss: 0.602912\n",
      "[2650]\ttraining's binary_logloss: 0.582906\tvalid_1's binary_logloss: 0.602891\n",
      "Early stopping, best iteration is:\n",
      "[2658]\ttraining's binary_logloss: 0.582893\tvalid_1's binary_logloss: 0.602889\n"
     ]
    }
   ],
   "source": [
    "model = lgb.train(\n",
    "    params, lgb_train,\n",
    "    valid_sets=[lgb_train, lgb_eval],\n",
    "    verbose_eval=50,\n",
    "    num_boost_round=10000,\n",
    "    early_stopping_rounds=12\n",
    ")"
   ]
  },
  {
   "cell_type": "code",
   "execution_count": 62,
   "metadata": {
    "execution": {
     "iopub.execute_input": "2020-10-28T07:07:07.055702Z",
     "iopub.status.busy": "2020-10-28T07:07:07.054853Z",
     "iopub.status.idle": "2020-10-28T07:10:19.348244Z",
     "shell.execute_reply": "2020-10-28T07:10:19.348843Z"
    },
    "papermill": {
     "duration": 192.41155,
     "end_time": "2020-10-28T07:10:19.349044",
     "exception": false,
     "start_time": "2020-10-28T07:07:06.937494",
     "status": "completed"
    },
    "tags": []
   },
   "outputs": [
    {
     "data": {
      "text/plain": [
       "0.734954071037816"
      ]
     },
     "execution_count": 62,
     "metadata": {},
     "output_type": "execute_result"
    }
   ],
   "source": [
    "y_pred = model.predict(X_val)\n",
    "y_true = np.array(y_val)\n",
    "roc_auc_score(y_true, y_pred)"
   ]
  },
  {
   "cell_type": "markdown",
   "metadata": {
    "papermill": {
     "duration": 0.103676,
     "end_time": "2020-10-28T07:10:19.556250",
     "exception": false,
     "start_time": "2020-10-28T07:10:19.452574",
     "status": "completed"
    },
    "tags": []
   },
   "source": [
    "## Examining Feature Importance ##"
   ]
  },
  {
   "cell_type": "code",
   "execution_count": 63,
   "metadata": {
    "execution": {
     "iopub.execute_input": "2020-10-28T07:10:19.769142Z",
     "iopub.status.busy": "2020-10-28T07:10:19.768333Z",
     "iopub.status.idle": "2020-10-28T07:10:19.926154Z",
     "shell.execute_reply": "2020-10-28T07:10:19.925306Z"
    },
    "papermill": {
     "duration": 0.266402,
     "end_time": "2020-10-28T07:10:19.926290",
     "exception": false,
     "start_time": "2020-10-28T07:10:19.659888",
     "status": "completed"
    },
    "tags": []
   },
   "outputs": [],
   "source": [
    "import matplotlib.pyplot as plt\n",
    "import seaborn as sns"
   ]
  },
  {
   "cell_type": "code",
   "execution_count": 64,
   "metadata": {
    "execution": {
     "iopub.execute_input": "2020-10-28T07:10:20.143403Z",
     "iopub.status.busy": "2020-10-28T07:10:20.142122Z",
     "iopub.status.idle": "2020-10-28T07:10:20.803326Z",
     "shell.execute_reply": "2020-10-28T07:10:20.802655Z"
    },
    "papermill": {
     "duration": 0.772425,
     "end_time": "2020-10-28T07:10:20.803462",
     "exception": false,
     "start_time": "2020-10-28T07:10:20.031037",
     "status": "completed"
    },
    "tags": []
   },
   "outputs": [
    {
     "data": {
      "image/png": "[encoded data removed]",
      "text/plain": [
       "<Figure size 432x288 with 1 Axes>"
      ]
     },
     "metadata": {
      "needs_background": "light"
     },
     "output_type": "display_data"
    }
   ],
   "source": [
    "#displaying the most important features by split\n",
    "lgb.plot_importance(model)\n",
    "plt.show()"
   ]
  },
  {
   "cell_type": "code",
   "execution_count": 65,
   "metadata": {
    "execution": {
     "iopub.execute_input": "2020-10-28T07:10:21.027231Z",
     "iopub.status.busy": "2020-10-28T07:10:21.026420Z",
     "iopub.status.idle": "2020-10-28T07:10:21.497913Z",
     "shell.execute_reply": "2020-10-28T07:10:21.497144Z"
    },
    "papermill": {
     "duration": 0.587191,
     "end_time": "2020-10-28T07:10:21.498091",
     "exception": false,
     "start_time": "2020-10-28T07:10:20.910900",
     "status": "completed"
    },
    "tags": []
   },
   "outputs": [
    {
     "data": {
      "image/png": "[encoded data removed]",
      "text/plain": [
       "<Figure size 432x288 with 1 Axes>"
      ]
     },
     "metadata": {
      "needs_background": "light"
     },
     "output_type": "display_data"
    }
   ],
   "source": [
    "#displaying the most important features by gain\n",
    "lgb.plot_importance(model, importance_type = 'gain')\n",
    "plt.show()"
   ]
  },
  {
   "cell_type": "markdown",
   "metadata": {
    "papermill": {
     "duration": 0.120918,
     "end_time": "2020-10-28T07:10:21.731710",
     "exception": false,
     "start_time": "2020-10-28T07:10:21.610792",
     "status": "completed"
    },
    "tags": []
   },
   "source": [
    "## Making Predictions for New Data ##"
   ]
  },
  {
   "cell_type": "code",
   "execution_count": 66,
   "metadata": {
    "execution": {
     "iopub.execute_input": "2020-10-28T07:10:21.976151Z",
     "iopub.status.busy": "2020-10-28T07:10:21.975347Z",
     "iopub.status.idle": "2020-10-28T07:10:21.979566Z",
     "shell.execute_reply": "2020-10-28T07:10:21.978837Z"
    },
    "papermill": {
     "duration": 0.12026,
     "end_time": "2020-10-28T07:10:21.979712",
     "exception": false,
     "start_time": "2020-10-28T07:10:21.859452",
     "status": "completed"
    },
    "tags": []
   },
   "outputs": [],
   "source": [
    "iter_test = env.iter_test()"
   ]
  },
  {
   "cell_type": "code",
   "execution_count": 67,
   "metadata": {
    "execution": {
     "iopub.execute_input": "2020-10-28T07:10:22.239755Z",
     "iopub.status.busy": "2020-10-28T07:10:22.226082Z",
     "iopub.status.idle": "2020-10-28T07:10:23.648826Z",
     "shell.execute_reply": "2020-10-28T07:10:23.648072Z"
    },
    "papermill": {
     "duration": 1.556188,
     "end_time": "2020-10-28T07:10:23.648975",
     "exception": false,
     "start_time": "2020-10-28T07:10:22.092787",
     "status": "completed"
    },
    "tags": []
   },
   "outputs": [],
   "source": [
    "for (test_df, sample_prediction_df) in iter_test:\n",
    "    test_df['task_container_id'] = test_df.task_container_id.mask(test_df.task_container_id > 9999, 9999)\n",
    "    test_df = pd.merge(test_df, group3, left_on=['task_container_id'], right_index= True, how=\"left\")\n",
    "    test_df = pd.merge(test_df, question2, left_on = 'content_id', right_on = 'question_id', how = 'left')\n",
    "    test_df = pd.merge(test_df, results_u_final, on=['user_id'],  how=\"left\")\n",
    "    test_df = pd.merge(test_df, results_u2_final, on=['user_id'],  how=\"left\")\n",
    "    \n",
    "    test_df = pd.merge(test_df, user_lecture_stats_part, on=['user_id'], how=\"left\")\n",
    "    test_df['part_1'].fillna(0, inplace = True)\n",
    "    test_df['part_2'].fillna(0, inplace = True)\n",
    "    test_df['part_3'].fillna(0, inplace = True)\n",
    "    test_df['part_4'].fillna(0, inplace = True)\n",
    "    test_df['part_5'].fillna(0, inplace = True)\n",
    "    test_df['part_6'].fillna(0, inplace = True)\n",
    "    test_df['part_7'].fillna(0, inplace = True)\n",
    "    test_df['type_of_concept'].fillna(0, inplace = True)\n",
    "    test_df['type_of_intention'].fillna(0, inplace = True)\n",
    "    test_df['type_of_solving_question'].fillna(0, inplace = True)\n",
    "    test_df['type_of_starter'].fillna(0, inplace = True)\n",
    "    test_df['part_1_boolean'].fillna(0, inplace = True)\n",
    "    test_df['part_2_boolean'].fillna(0, inplace = True)\n",
    "    test_df['part_3_boolean'].fillna(0, inplace = True)\n",
    "    test_df['part_4_boolean'].fillna(0, inplace = True)\n",
    "    test_df['part_5_boolean'].fillna(0, inplace = True)\n",
    "    test_df['part_6_boolean'].fillna(0, inplace = True)\n",
    "    test_df['part_7_boolean'].fillna(0, inplace = True)\n",
    "    test_df['type_of_concept_boolean'].fillna(0, inplace = True)\n",
    "    test_df['type_of_intention_boolean'].fillna(0, inplace = True)\n",
    "    test_df['type_of_solving_question_boolean'].fillna(0, inplace = True)\n",
    "    test_df['type_of_starter_boolean'].fillna(0, inplace = True)\n",
    "    \n",
    "    test_df['answered_correctly_user'].fillna(0.65,  inplace=True)\n",
    "    test_df['explanation_mean_user'].fillna(prior_mean_user,  inplace=True)\n",
    "    test_df['quest_pct'].fillna(content_mean,  inplace=True)\n",
    "    test_df['part'] = test_df.part - 1\n",
    "\n",
    "    test_df['part'].fillna(4, inplace = True)\n",
    "    test_df['avg_questions_seen'].fillna(1, inplace = True)\n",
    "    test_df['prior_question_elapsed_time'].fillna(elapsed_mean, inplace = True)\n",
    "    test_df['prior_question_had_explanation'].fillna(False, inplace=True)\n",
    "    test_df[\"prior_question_had_explanation_enc\"] = lb_make.fit_transform(test_df[\"prior_question_had_explanation\"])\n",
    "    \n",
    "    test_df['answered_correctly'] =  model.predict(test_df[['answered_correctly_user', 'explanation_mean_user', 'quest_pct', 'avg_questions_seen',\n",
    "                                                            'prior_question_elapsed_time','prior_question_had_explanation_enc', 'part',\n",
    "                                                            'part_1', 'part_2', 'part_3', 'part_4', 'part_5', 'part_6', 'part_7',\n",
    "                                                            'type_of_concept', 'type_of_intention', 'type_of_solving_question', 'type_of_starter',\n",
    "                                                            'part_1_boolean', 'part_2_boolean', 'part_3_boolean', 'part_4_boolean', 'part_5_boolean', 'part_6_boolean', 'part_7_boolean',\n",
    "                                                            'type_of_concept_boolean', 'type_of_intention_boolean', 'type_of_solving_question_boolean', 'type_of_starter_boolean']])\n",
    "    env.predict(test_df.loc[test_df['content_type_id'] == 0, ['row_id', 'answered_correctly']])"
   ]
  },
  {
   "cell_type": "code",
   "execution_count": 68,
   "metadata": {
    "execution": {
     "iopub.execute_input": "2020-10-28T07:10:23.870523Z",
     "iopub.status.busy": "2020-10-28T07:10:23.869395Z",
     "iopub.status.idle": "2020-10-28T07:10:23.873332Z",
     "shell.execute_reply": "2020-10-28T07:10:23.872571Z"
    },
    "papermill": {
     "duration": 0.116395,
     "end_time": "2020-10-28T07:10:23.873470",
     "exception": false,
     "start_time": "2020-10-28T07:10:23.757075",
     "status": "completed"
    },
    "tags": []
   },
   "outputs": [],
   "source": [
    "#students don't appear in every task container ID what can I do about this, can't always follow sequentially?"
   ]
  }
 ],
 "metadata": {
  "kernelspec": {
   "display_name": "Python 3",
   "language": "python",
   "name": "python3"
  },
  "language_info": {
   "codemirror_mode": {
    "name": "ipython",
    "version": 3
   },
   "file_extension": ".py",
   "mimetype": "text/x-python",
   "name": "python",
   "nbconvert_exporter": "python",
   "pygments_lexer": "ipython3",
   "version": "3.7.6"
  },
  "papermill": {
   "duration": 3179.481101,
   "end_time": "2020-10-28T07:10:24.094270",
   "environment_variables": {},
   "exception": null,
   "input_path": "__notebook__.ipynb",
   "output_path": "__notebook__.ipynb",
   "parameters": {},
   "start_time": "2020-10-28T06:17:24.613169",
   "version": "2.1.0"
  }
 },
 "nbformat": 4,
 "nbformat_minor": 4
}

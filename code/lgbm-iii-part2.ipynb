{
 "cells": [
  {
   "cell_type": "markdown",
   "metadata": {
    "papermill": {
     "duration": 0.048668,
     "end_time": "2020-10-23T03:58:39.255543",
     "exception": false,
     "start_time": "2020-10-23T03:58:39.206875",
     "status": "completed"
    },
    "tags": []
   },
   "source": [
    "This is a small modification to https://www.kaggle.com/dwit392/lgbm-iii converting the question2 file into python code."
   ]
  },
  {
   "cell_type": "markdown",
   "metadata": {
    "papermill": {
     "duration": 0.045896,
     "end_time": "2020-10-23T03:58:39.347556",
     "exception": false,
     "start_time": "2020-10-23T03:58:39.301660",
     "status": "completed"
    },
    "tags": []
   },
   "source": [
    "## Reading Data and Importing Libraries ##"
   ]
  },
  {
   "cell_type": "code",
   "execution_count": 1,
   "metadata": {
    "execution": {
     "iopub.execute_input": "2020-10-23T03:58:39.447081Z",
     "iopub.status.busy": "2020-10-23T03:58:39.446219Z",
     "iopub.status.idle": "2020-10-23T03:58:40.430709Z",
     "shell.execute_reply": "2020-10-23T03:58:40.429400Z"
    },
    "papermill": {
     "duration": 1.035866,
     "end_time": "2020-10-23T03:58:40.430869",
     "exception": false,
     "start_time": "2020-10-23T03:58:39.395003",
     "status": "completed"
    },
    "tags": []
   },
   "outputs": [],
   "source": [
    "import riiideducation\n",
    "# import dask.dataframe as dd\n",
    "import pandas as pd\n",
    "import numpy as np\n",
    "from sklearn.metrics import roc_auc_score\n",
    "env = riiideducation.make_env()"
   ]
  },
  {
   "cell_type": "code",
   "execution_count": 2,
   "metadata": {
    "execution": {
     "iopub.execute_input": "2020-10-23T03:58:40.534311Z",
     "iopub.status.busy": "2020-10-23T03:58:40.533588Z",
     "iopub.status.idle": "2020-10-23T04:04:00.543755Z",
     "shell.execute_reply": "2020-10-23T04:04:00.542425Z"
    },
    "papermill": {
     "duration": 320.066278,
     "end_time": "2020-10-23T04:04:00.543932",
     "exception": false,
     "start_time": "2020-10-23T03:58:40.477654",
     "status": "completed"
    },
    "tags": []
   },
   "outputs": [],
   "source": [
    "train = pd.read_csv('/kaggle/input/riiid-test-answer-prediction/train.csv',\n",
    "                   usecols=[1, 2, 3, 4, 5, 7, 8, 9],\n",
    "                   dtype={'timestamp': 'int64',\n",
    "                          'user_id': 'int32',\n",
    "                          'content_id': 'int16',\n",
    "                          'content_type_id': 'int8',\n",
    "                          'task_container_id': 'int16',\n",
    "                          'answered_correctly':'int8',\n",
    "                          'prior_question_elapsed_time': 'float32',\n",
    "                          'prior_question_had_explanation': 'boolean'}\n",
    "                   )"
   ]
  },
  {
   "cell_type": "code",
   "execution_count": 3,
   "metadata": {
    "execution": {
     "iopub.execute_input": "2020-10-23T04:04:00.649299Z",
     "iopub.status.busy": "2020-10-23T04:04:00.648242Z",
     "iopub.status.idle": "2020-10-23T04:04:00.657213Z",
     "shell.execute_reply": "2020-10-23T04:04:00.656652Z"
    },
    "papermill": {
     "duration": 0.066351,
     "end_time": "2020-10-23T04:04:00.657330",
     "exception": false,
     "start_time": "2020-10-23T04:04:00.590979",
     "status": "completed"
    },
    "tags": []
   },
   "outputs": [],
   "source": [
    "#reading in question df\n",
    "questions_df = pd.read_csv('/kaggle/input/riiid-test-answer-prediction/questions.csv',                         \n",
    "                            usecols=[0, 3],\n",
    "                            dtype={'question_id': 'int16',\n",
    "                              'part': 'int8'}\n",
    "                          )"
   ]
  },
  {
   "cell_type": "markdown",
   "metadata": {
    "papermill": {
     "duration": 0.047651,
     "end_time": "2020-10-23T04:04:00.752163",
     "exception": false,
     "start_time": "2020-10-23T04:04:00.704512",
     "status": "completed"
    },
    "tags": []
   },
   "source": [
    "Affirmatives (True) for content_type_id are only for those with a different type of content (lectures). These are not real questions."
   ]
  },
  {
   "cell_type": "code",
   "execution_count": 4,
   "metadata": {
    "execution": {
     "iopub.execute_input": "2020-10-23T04:04:00.859703Z",
     "iopub.status.busy": "2020-10-23T04:04:00.858879Z",
     "iopub.status.idle": "2020-10-23T04:04:36.699055Z",
     "shell.execute_reply": "2020-10-23T04:04:36.698434Z"
    },
    "papermill": {
     "duration": 35.899076,
     "end_time": "2020-10-23T04:04:36.699184",
     "exception": false,
     "start_time": "2020-10-23T04:04:00.800108",
     "status": "completed"
    },
    "tags": []
   },
   "outputs": [],
   "source": [
    "#removing True or 1 for content_type_id\n",
    "\n",
    "train = train[train.content_type_id == False].sort_values('timestamp').reset_index(drop = True)"
   ]
  },
  {
   "cell_type": "code",
   "execution_count": 5,
   "metadata": {
    "execution": {
     "iopub.execute_input": "2020-10-23T04:04:36.796937Z",
     "iopub.status.busy": "2020-10-23T04:04:36.796073Z",
     "iopub.status.idle": "2020-10-23T04:04:37.113674Z",
     "shell.execute_reply": "2020-10-23T04:04:37.114284Z"
    },
    "papermill": {
     "duration": 0.369537,
     "end_time": "2020-10-23T04:04:37.114433",
     "exception": false,
     "start_time": "2020-10-23T04:04:36.744896",
     "status": "completed"
    },
    "tags": []
   },
   "outputs": [
    {
     "data": {
      "text/html": [
       "<div>\n",
       "<style scoped>\n",
       "    .dataframe tbody tr th:only-of-type {\n",
       "        vertical-align: middle;\n",
       "    }\n",
       "\n",
       "    .dataframe tbody tr th {\n",
       "        vertical-align: top;\n",
       "    }\n",
       "\n",
       "    .dataframe thead th {\n",
       "        text-align: right;\n",
       "    }\n",
       "</style>\n",
       "<table border=\"1\" class=\"dataframe\">\n",
       "  <thead>\n",
       "    <tr style=\"text-align: right;\">\n",
       "      <th></th>\n",
       "      <th>timestamp</th>\n",
       "      <th>user_id</th>\n",
       "      <th>content_id</th>\n",
       "      <th>content_type_id</th>\n",
       "      <th>task_container_id</th>\n",
       "      <th>answered_correctly</th>\n",
       "      <th>prior_question_elapsed_time</th>\n",
       "      <th>prior_question_had_explanation</th>\n",
       "    </tr>\n",
       "  </thead>\n",
       "  <tbody>\n",
       "    <tr>\n",
       "      <th>98994042</th>\n",
       "      <td>65925681553</td>\n",
       "      <td>982752539</td>\n",
       "      <td>1066</td>\n",
       "      <td>0</td>\n",
       "      <td>9999</td>\n",
       "      <td>1</td>\n",
       "      <td>16000.0</td>\n",
       "      <td>True</td>\n",
       "    </tr>\n",
       "    <tr>\n",
       "      <th>99088950</th>\n",
       "      <td>68754812937</td>\n",
       "      <td>817562598</td>\n",
       "      <td>12306</td>\n",
       "      <td>0</td>\n",
       "      <td>9999</td>\n",
       "      <td>1</td>\n",
       "      <td>22333.0</td>\n",
       "      <td>True</td>\n",
       "    </tr>\n",
       "    <tr>\n",
       "      <th>99088951</th>\n",
       "      <td>68754812937</td>\n",
       "      <td>817562598</td>\n",
       "      <td>12308</td>\n",
       "      <td>0</td>\n",
       "      <td>9999</td>\n",
       "      <td>0</td>\n",
       "      <td>22333.0</td>\n",
       "      <td>True</td>\n",
       "    </tr>\n",
       "    <tr>\n",
       "      <th>99088952</th>\n",
       "      <td>68754812937</td>\n",
       "      <td>817562598</td>\n",
       "      <td>12307</td>\n",
       "      <td>0</td>\n",
       "      <td>9999</td>\n",
       "      <td>1</td>\n",
       "      <td>22333.0</td>\n",
       "      <td>True</td>\n",
       "    </tr>\n",
       "    <tr>\n",
       "      <th>99207455</th>\n",
       "      <td>73928187913</td>\n",
       "      <td>1071085357</td>\n",
       "      <td>1189</td>\n",
       "      <td>0</td>\n",
       "      <td>9999</td>\n",
       "      <td>1</td>\n",
       "      <td>27000.0</td>\n",
       "      <td>True</td>\n",
       "    </tr>\n",
       "  </tbody>\n",
       "</table>\n",
       "</div>"
      ],
      "text/plain": [
       "            timestamp     user_id  content_id  content_type_id  \\\n",
       "98994042  65925681553   982752539        1066                0   \n",
       "99088950  68754812937   817562598       12306                0   \n",
       "99088951  68754812937   817562598       12308                0   \n",
       "99088952  68754812937   817562598       12307                0   \n",
       "99207455  73928187913  1071085357        1189                0   \n",
       "\n",
       "          task_container_id  answered_correctly  prior_question_elapsed_time  \\\n",
       "98994042               9999                   1                      16000.0   \n",
       "99088950               9999                   1                      22333.0   \n",
       "99088951               9999                   0                      22333.0   \n",
       "99088952               9999                   1                      22333.0   \n",
       "99207455               9999                   1                      27000.0   \n",
       "\n",
       "          prior_question_had_explanation  \n",
       "98994042                            True  \n",
       "99088950                            True  \n",
       "99088951                            True  \n",
       "99088952                            True  \n",
       "99207455                            True  "
      ]
     },
     "execution_count": 5,
     "metadata": {},
     "output_type": "execute_result"
    }
   ],
   "source": [
    "train[(train.task_container_id == 9999)].tail()"
   ]
  },
  {
   "cell_type": "code",
   "execution_count": 6,
   "metadata": {
    "execution": {
     "iopub.execute_input": "2020-10-23T04:04:37.221986Z",
     "iopub.status.busy": "2020-10-23T04:04:37.220386Z",
     "iopub.status.idle": "2020-10-23T04:04:42.458525Z",
     "shell.execute_reply": "2020-10-23T04:04:42.460158Z"
    },
    "papermill": {
     "duration": 5.293903,
     "end_time": "2020-10-23T04:04:42.460530",
     "exception": false,
     "start_time": "2020-10-23T04:04:37.166627",
     "status": "completed"
    },
    "tags": []
   },
   "outputs": [
    {
     "data": {
      "text/plain": [
       "10000"
      ]
     },
     "execution_count": 6,
     "metadata": {},
     "output_type": "execute_result"
    }
   ],
   "source": [
    "train[(train.content_type_id == False)].task_container_id.nunique()"
   ]
  },
  {
   "cell_type": "code",
   "execution_count": 7,
   "metadata": {
    "execution": {
     "iopub.execute_input": "2020-10-23T04:04:42.616458Z",
     "iopub.status.busy": "2020-10-23T04:04:42.615540Z",
     "iopub.status.idle": "2020-10-23T04:04:42.801137Z",
     "shell.execute_reply": "2020-10-23T04:04:42.802423Z"
    },
    "papermill": {
     "duration": 0.270399,
     "end_time": "2020-10-23T04:04:42.802659",
     "exception": false,
     "start_time": "2020-10-23T04:04:42.532260",
     "status": "completed"
    },
    "tags": []
   },
   "outputs": [],
   "source": [
    "#saving value to fillna\n",
    "elapsed_mean = train.prior_question_elapsed_time.mean()\n"
   ]
  },
  {
   "cell_type": "code",
   "execution_count": 8,
   "metadata": {
    "execution": {
     "iopub.execute_input": "2020-10-23T04:04:42.963058Z",
     "iopub.status.busy": "2020-10-23T04:04:42.962112Z",
     "iopub.status.idle": "2020-10-23T04:06:07.023524Z",
     "shell.execute_reply": "2020-10-23T04:06:07.022315Z"
    },
    "papermill": {
     "duration": 84.141555,
     "end_time": "2020-10-23T04:06:07.023674",
     "exception": false,
     "start_time": "2020-10-23T04:04:42.882119",
     "status": "completed"
    },
    "tags": []
   },
   "outputs": [],
   "source": [
    "group1 = train.loc[(train.content_type_id == False), ['task_container_id', 'user_id']].groupby(['task_container_id']).agg(['count'])\n",
    "group1.columns = ['avg_questions']\n",
    "group2 = train.loc[(train.content_type_id == False), ['task_container_id', 'user_id']].groupby(['task_container_id']).agg(['nunique'])\n",
    "group2.columns = ['avg_questions']\n",
    "group3 = group1 / group2"
   ]
  },
  {
   "cell_type": "code",
   "execution_count": 9,
   "metadata": {
    "execution": {
     "iopub.execute_input": "2020-10-23T04:06:07.129970Z",
     "iopub.status.busy": "2020-10-23T04:06:07.127994Z",
     "iopub.status.idle": "2020-10-23T04:06:07.130655Z",
     "shell.execute_reply": "2020-10-23T04:06:07.131165Z"
    },
    "papermill": {
     "duration": 0.058821,
     "end_time": "2020-10-23T04:06:07.131296",
     "exception": false,
     "start_time": "2020-10-23T04:06:07.072475",
     "status": "completed"
    },
    "tags": []
   },
   "outputs": [],
   "source": [
    "group3['avg_questions_seen'] = group3.avg_questions.cumsum()"
   ]
  },
  {
   "cell_type": "code",
   "execution_count": 10,
   "metadata": {
    "execution": {
     "iopub.execute_input": "2020-10-23T04:06:07.234884Z",
     "iopub.status.busy": "2020-10-23T04:06:07.234127Z",
     "iopub.status.idle": "2020-10-23T04:06:07.239476Z",
     "shell.execute_reply": "2020-10-23T04:06:07.238915Z"
    },
    "papermill": {
     "duration": 0.059599,
     "end_time": "2020-10-23T04:06:07.239592",
     "exception": false,
     "start_time": "2020-10-23T04:06:07.179993",
     "status": "completed"
    },
    "tags": []
   },
   "outputs": [
    {
     "data": {
      "text/plain": [
       "1.006648868548182"
      ]
     },
     "execution_count": 10,
     "metadata": {},
     "output_type": "execute_result"
    }
   ],
   "source": [
    "group3.iloc[0].avg_questions_seen"
   ]
  },
  {
   "cell_type": "code",
   "execution_count": 11,
   "metadata": {
    "execution": {
     "iopub.execute_input": "2020-10-23T04:06:07.347742Z",
     "iopub.status.busy": "2020-10-23T04:06:07.346176Z",
     "iopub.status.idle": "2020-10-23T04:06:44.800408Z",
     "shell.execute_reply": "2020-10-23T04:06:44.799811Z"
    },
    "papermill": {
     "duration": 37.512294,
     "end_time": "2020-10-23T04:06:44.800599",
     "exception": false,
     "start_time": "2020-10-23T04:06:07.288305",
     "status": "completed"
    },
    "tags": []
   },
   "outputs": [],
   "source": [
    "results_u_final = train.loc[train.content_type_id == False, ['user_id','answered_correctly']].groupby(['user_id']).agg(['mean'])\n",
    "results_u_final.columns = ['answered_correctly_user']\n",
    "\n",
    "results_u2_final = train.loc[train.content_type_id == False, ['user_id','prior_question_had_explanation']].groupby(['user_id']).agg(['mean'])\n",
    "results_u2_final.columns = ['explanation_mean_user']"
   ]
  },
  {
   "cell_type": "code",
   "execution_count": 12,
   "metadata": {
    "execution": {
     "iopub.execute_input": "2020-10-23T04:06:44.908598Z",
     "iopub.status.busy": "2020-10-23T04:06:44.907559Z",
     "iopub.status.idle": "2020-10-23T04:06:44.933158Z",
     "shell.execute_reply": "2020-10-23T04:06:44.933834Z"
    },
    "papermill": {
     "duration": 0.083581,
     "end_time": "2020-10-23T04:06:44.934000",
     "exception": false,
     "start_time": "2020-10-23T04:06:44.850419",
     "status": "completed"
    },
    "tags": []
   },
   "outputs": [
    {
     "data": {
      "text/plain": [
       "count    393569.000000\n",
       "mean          0.566426\n",
       "std           0.360063\n",
       "min           0.000000\n",
       "25%           0.230769\n",
       "50%           0.655172\n",
       "75%           0.904110\n",
       "max           1.000000\n",
       "Name: explanation_mean_user, dtype: float64"
      ]
     },
     "execution_count": 12,
     "metadata": {},
     "output_type": "execute_result"
    }
   ],
   "source": [
    "results_u2_final.explanation_mean_user.describe()"
   ]
  },
  {
   "cell_type": "code",
   "execution_count": 13,
   "metadata": {
    "execution": {
     "iopub.execute_input": "2020-10-23T04:06:45.048016Z",
     "iopub.status.busy": "2020-10-23T04:06:45.046737Z",
     "iopub.status.idle": "2020-10-23T04:07:06.051258Z",
     "shell.execute_reply": "2020-10-23T04:07:06.050612Z"
    },
    "papermill": {
     "duration": 21.060446,
     "end_time": "2020-10-23T04:07:06.051393",
     "exception": false,
     "start_time": "2020-10-23T04:06:44.990947",
     "status": "completed"
    },
    "tags": []
   },
   "outputs": [],
   "source": [
    "train = pd.merge(train, questions_df, left_on = 'content_id', right_on = 'question_id', how = 'left')"
   ]
  },
  {
   "cell_type": "code",
   "execution_count": 14,
   "metadata": {
    "execution": {
     "iopub.execute_input": "2020-10-23T04:07:06.162182Z",
     "iopub.status.busy": "2020-10-23T04:07:06.160653Z",
     "iopub.status.idle": "2020-10-23T04:07:25.690380Z",
     "shell.execute_reply": "2020-10-23T04:07:25.688933Z"
    },
    "papermill": {
     "duration": 19.588217,
     "end_time": "2020-10-23T04:07:25.690552",
     "exception": false,
     "start_time": "2020-10-23T04:07:06.102335",
     "status": "completed"
    },
    "tags": []
   },
   "outputs": [],
   "source": [
    "results_q_final = train.loc[train.content_type_id == False, ['question_id','answered_correctly']].groupby(['question_id']).agg(['mean'])\n",
    "results_q_final.columns = ['quest_pct']"
   ]
  },
  {
   "cell_type": "code",
   "execution_count": 15,
   "metadata": {
    "execution": {
     "iopub.execute_input": "2020-10-23T04:07:25.813608Z",
     "iopub.status.busy": "2020-10-23T04:07:25.811905Z",
     "iopub.status.idle": "2020-10-23T04:07:44.542469Z",
     "shell.execute_reply": "2020-10-23T04:07:44.543033Z"
    },
    "papermill": {
     "duration": 18.796213,
     "end_time": "2020-10-23T04:07:44.543211",
     "exception": false,
     "start_time": "2020-10-23T04:07:25.746998",
     "status": "completed"
    },
    "tags": []
   },
   "outputs": [],
   "source": [
    "results_q2_final = train.loc[train.content_type_id == False, ['question_id','part']].groupby(['question_id']).agg(['count'])\n",
    "results_q2_final.columns = ['count']"
   ]
  },
  {
   "cell_type": "code",
   "execution_count": 16,
   "metadata": {
    "execution": {
     "iopub.execute_input": "2020-10-23T04:07:44.653092Z",
     "iopub.status.busy": "2020-10-23T04:07:44.651976Z",
     "iopub.status.idle": "2020-10-23T04:07:44.661120Z",
     "shell.execute_reply": "2020-10-23T04:07:44.660539Z"
    },
    "papermill": {
     "duration": 0.066629,
     "end_time": "2020-10-23T04:07:44.661238",
     "exception": false,
     "start_time": "2020-10-23T04:07:44.594609",
     "status": "completed"
    },
    "tags": []
   },
   "outputs": [],
   "source": [
    "question2 = pd.merge(questions_df, results_q_final, left_on = 'question_id', right_on = 'question_id', how = 'left')"
   ]
  },
  {
   "cell_type": "code",
   "execution_count": 17,
   "metadata": {
    "execution": {
     "iopub.execute_input": "2020-10-23T04:07:44.770435Z",
     "iopub.status.busy": "2020-10-23T04:07:44.769253Z",
     "iopub.status.idle": "2020-10-23T04:07:44.778087Z",
     "shell.execute_reply": "2020-10-23T04:07:44.777473Z"
    },
    "papermill": {
     "duration": 0.065487,
     "end_time": "2020-10-23T04:07:44.778206",
     "exception": false,
     "start_time": "2020-10-23T04:07:44.712719",
     "status": "completed"
    },
    "tags": []
   },
   "outputs": [],
   "source": [
    "question2 = pd.merge(question2, results_q2_final, left_on = 'question_id', right_on = 'question_id', how = 'left')"
   ]
  },
  {
   "cell_type": "code",
   "execution_count": 18,
   "metadata": {
    "execution": {
     "iopub.execute_input": "2020-10-23T04:07:44.890266Z",
     "iopub.status.busy": "2020-10-23T04:07:44.889064Z",
     "iopub.status.idle": "2020-10-23T04:07:44.893023Z",
     "shell.execute_reply": "2020-10-23T04:07:44.892333Z"
    },
    "papermill": {
     "duration": 0.062147,
     "end_time": "2020-10-23T04:07:44.893149",
     "exception": false,
     "start_time": "2020-10-23T04:07:44.831002",
     "status": "completed"
    },
    "tags": []
   },
   "outputs": [],
   "source": [
    "question2.quest_pct = round(question2.quest_pct,5)"
   ]
  },
  {
   "cell_type": "code",
   "execution_count": 19,
   "metadata": {
    "execution": {
     "iopub.execute_input": "2020-10-23T04:07:45.022531Z",
     "iopub.status.busy": "2020-10-23T04:07:45.021231Z",
     "iopub.status.idle": "2020-10-23T04:07:45.035008Z",
     "shell.execute_reply": "2020-10-23T04:07:45.034349Z"
    },
    "papermill": {
     "duration": 0.0838,
     "end_time": "2020-10-23T04:07:45.035151",
     "exception": false,
     "start_time": "2020-10-23T04:07:44.951351",
     "status": "completed"
    },
    "tags": []
   },
   "outputs": [
    {
     "data": {
      "text/html": [
       "<div>\n",
       "<style scoped>\n",
       "    .dataframe tbody tr th:only-of-type {\n",
       "        vertical-align: middle;\n",
       "    }\n",
       "\n",
       "    .dataframe tbody tr th {\n",
       "        vertical-align: top;\n",
       "    }\n",
       "\n",
       "    .dataframe thead th {\n",
       "        text-align: right;\n",
       "    }\n",
       "</style>\n",
       "<table border=\"1\" class=\"dataframe\">\n",
       "  <thead>\n",
       "    <tr style=\"text-align: right;\">\n",
       "      <th></th>\n",
       "      <th>question_id</th>\n",
       "      <th>part</th>\n",
       "      <th>quest_pct</th>\n",
       "      <th>count</th>\n",
       "    </tr>\n",
       "  </thead>\n",
       "  <tbody>\n",
       "    <tr>\n",
       "      <th>0</th>\n",
       "      <td>0</td>\n",
       "      <td>1</td>\n",
       "      <td>0.90772</td>\n",
       "      <td>6903</td>\n",
       "    </tr>\n",
       "    <tr>\n",
       "      <th>1</th>\n",
       "      <td>1</td>\n",
       "      <td>1</td>\n",
       "      <td>0.89065</td>\n",
       "      <td>7398</td>\n",
       "    </tr>\n",
       "    <tr>\n",
       "      <th>2</th>\n",
       "      <td>2</td>\n",
       "      <td>1</td>\n",
       "      <td>0.55428</td>\n",
       "      <td>44905</td>\n",
       "    </tr>\n",
       "    <tr>\n",
       "      <th>3</th>\n",
       "      <td>3</td>\n",
       "      <td>1</td>\n",
       "      <td>0.77944</td>\n",
       "      <td>22973</td>\n",
       "    </tr>\n",
       "    <tr>\n",
       "      <th>4</th>\n",
       "      <td>4</td>\n",
       "      <td>1</td>\n",
       "      <td>0.61322</td>\n",
       "      <td>31736</td>\n",
       "    </tr>\n",
       "  </tbody>\n",
       "</table>\n",
       "</div>"
      ],
      "text/plain": [
       "   question_id  part  quest_pct  count\n",
       "0            0     1    0.90772   6903\n",
       "1            1     1    0.89065   7398\n",
       "2            2     1    0.55428  44905\n",
       "3            3     1    0.77944  22973\n",
       "4            4     1    0.61322  31736"
      ]
     },
     "metadata": {},
     "output_type": "display_data"
    },
    {
     "data": {
      "text/html": [
       "<div>\n",
       "<style scoped>\n",
       "    .dataframe tbody tr th:only-of-type {\n",
       "        vertical-align: middle;\n",
       "    }\n",
       "\n",
       "    .dataframe tbody tr th {\n",
       "        vertical-align: top;\n",
       "    }\n",
       "\n",
       "    .dataframe thead th {\n",
       "        text-align: right;\n",
       "    }\n",
       "</style>\n",
       "<table border=\"1\" class=\"dataframe\">\n",
       "  <thead>\n",
       "    <tr style=\"text-align: right;\">\n",
       "      <th></th>\n",
       "      <th>question_id</th>\n",
       "      <th>part</th>\n",
       "      <th>quest_pct</th>\n",
       "      <th>count</th>\n",
       "    </tr>\n",
       "  </thead>\n",
       "  <tbody>\n",
       "    <tr>\n",
       "      <th>13518</th>\n",
       "      <td>13518</td>\n",
       "      <td>5</td>\n",
       "      <td>0.78687</td>\n",
       "      <td>868</td>\n",
       "    </tr>\n",
       "    <tr>\n",
       "      <th>13519</th>\n",
       "      <td>13519</td>\n",
       "      <td>5</td>\n",
       "      <td>0.57143</td>\n",
       "      <td>924</td>\n",
       "    </tr>\n",
       "    <tr>\n",
       "      <th>13520</th>\n",
       "      <td>13520</td>\n",
       "      <td>5</td>\n",
       "      <td>0.67247</td>\n",
       "      <td>861</td>\n",
       "    </tr>\n",
       "    <tr>\n",
       "      <th>13521</th>\n",
       "      <td>13521</td>\n",
       "      <td>5</td>\n",
       "      <td>0.80805</td>\n",
       "      <td>870</td>\n",
       "    </tr>\n",
       "    <tr>\n",
       "      <th>13522</th>\n",
       "      <td>13522</td>\n",
       "      <td>5</td>\n",
       "      <td>0.91395</td>\n",
       "      <td>860</td>\n",
       "    </tr>\n",
       "  </tbody>\n",
       "</table>\n",
       "</div>"
      ],
      "text/plain": [
       "       question_id  part  quest_pct  count\n",
       "13518        13518     5    0.78687    868\n",
       "13519        13519     5    0.57143    924\n",
       "13520        13520     5    0.67247    861\n",
       "13521        13521     5    0.80805    870\n",
       "13522        13522     5    0.91395    860"
      ]
     },
     "metadata": {},
     "output_type": "display_data"
    }
   ],
   "source": [
    "display(question2.head(), question2.tail())"
   ]
  },
  {
   "cell_type": "code",
   "execution_count": 20,
   "metadata": {
    "execution": {
     "iopub.execute_input": "2020-10-23T04:07:45.163574Z",
     "iopub.status.busy": "2020-10-23T04:07:45.162346Z",
     "iopub.status.idle": "2020-10-23T04:07:45.167751Z",
     "shell.execute_reply": "2020-10-23T04:07:45.167060Z"
    },
    "papermill": {
     "duration": 0.073645,
     "end_time": "2020-10-23T04:07:45.167881",
     "exception": false,
     "start_time": "2020-10-23T04:07:45.094236",
     "status": "completed"
    },
    "tags": []
   },
   "outputs": [
    {
     "data": {
      "text/html": [
       "<div>\n",
       "<style scoped>\n",
       "    .dataframe tbody tr th:only-of-type {\n",
       "        vertical-align: middle;\n",
       "    }\n",
       "\n",
       "    .dataframe tbody tr th {\n",
       "        vertical-align: top;\n",
       "    }\n",
       "\n",
       "    .dataframe thead th {\n",
       "        text-align: right;\n",
       "    }\n",
       "</style>\n",
       "<table border=\"1\" class=\"dataframe\">\n",
       "  <thead>\n",
       "    <tr style=\"text-align: right;\">\n",
       "      <th></th>\n",
       "      <th>timestamp</th>\n",
       "      <th>user_id</th>\n",
       "      <th>content_id</th>\n",
       "      <th>content_type_id</th>\n",
       "      <th>task_container_id</th>\n",
       "      <th>answered_correctly</th>\n",
       "      <th>prior_question_elapsed_time</th>\n",
       "      <th>prior_question_had_explanation</th>\n",
       "      <th>question_id</th>\n",
       "      <th>part</th>\n",
       "    </tr>\n",
       "  </thead>\n",
       "  <tbody>\n",
       "    <tr>\n",
       "      <th>0</th>\n",
       "      <td>0</td>\n",
       "      <td>115</td>\n",
       "      <td>5692</td>\n",
       "      <td>0</td>\n",
       "      <td>1</td>\n",
       "      <td>1</td>\n",
       "      <td>NaN</td>\n",
       "      <td>&lt;NA&gt;</td>\n",
       "      <td>5692</td>\n",
       "      <td>5</td>\n",
       "    </tr>\n",
       "    <tr>\n",
       "      <th>1</th>\n",
       "      <td>0</td>\n",
       "      <td>1805962620</td>\n",
       "      <td>5547</td>\n",
       "      <td>0</td>\n",
       "      <td>0</td>\n",
       "      <td>0</td>\n",
       "      <td>NaN</td>\n",
       "      <td>&lt;NA&gt;</td>\n",
       "      <td>5547</td>\n",
       "      <td>5</td>\n",
       "    </tr>\n",
       "    <tr>\n",
       "      <th>2</th>\n",
       "      <td>0</td>\n",
       "      <td>2015251289</td>\n",
       "      <td>4024</td>\n",
       "      <td>0</td>\n",
       "      <td>0</td>\n",
       "      <td>1</td>\n",
       "      <td>NaN</td>\n",
       "      <td>&lt;NA&gt;</td>\n",
       "      <td>4024</td>\n",
       "      <td>5</td>\n",
       "    </tr>\n",
       "    <tr>\n",
       "      <th>3</th>\n",
       "      <td>0</td>\n",
       "      <td>867941388</td>\n",
       "      <td>6659</td>\n",
       "      <td>0</td>\n",
       "      <td>0</td>\n",
       "      <td>1</td>\n",
       "      <td>NaN</td>\n",
       "      <td>&lt;NA&gt;</td>\n",
       "      <td>6659</td>\n",
       "      <td>5</td>\n",
       "    </tr>\n",
       "    <tr>\n",
       "      <th>4</th>\n",
       "      <td>0</td>\n",
       "      <td>867946278</td>\n",
       "      <td>3977</td>\n",
       "      <td>0</td>\n",
       "      <td>0</td>\n",
       "      <td>1</td>\n",
       "      <td>NaN</td>\n",
       "      <td>&lt;NA&gt;</td>\n",
       "      <td>3977</td>\n",
       "      <td>5</td>\n",
       "    </tr>\n",
       "  </tbody>\n",
       "</table>\n",
       "</div>"
      ],
      "text/plain": [
       "   timestamp     user_id  content_id  content_type_id  task_container_id  \\\n",
       "0          0         115        5692                0                  1   \n",
       "1          0  1805962620        5547                0                  0   \n",
       "2          0  2015251289        4024                0                  0   \n",
       "3          0   867941388        6659                0                  0   \n",
       "4          0   867946278        3977                0                  0   \n",
       "\n",
       "   answered_correctly  prior_question_elapsed_time  \\\n",
       "0                   1                          NaN   \n",
       "1                   0                          NaN   \n",
       "2                   1                          NaN   \n",
       "3                   1                          NaN   \n",
       "4                   1                          NaN   \n",
       "\n",
       "   prior_question_had_explanation  question_id  part  \n",
       "0                            <NA>         5692     5  \n",
       "1                            <NA>         5547     5  \n",
       "2                            <NA>         4024     5  \n",
       "3                            <NA>         6659     5  \n",
       "4                            <NA>         3977     5  "
      ]
     },
     "execution_count": 20,
     "metadata": {},
     "output_type": "execute_result"
    }
   ],
   "source": [
    "train.head()"
   ]
  },
  {
   "cell_type": "code",
   "execution_count": 21,
   "metadata": {
    "execution": {
     "iopub.execute_input": "2020-10-23T04:07:45.281497Z",
     "iopub.status.busy": "2020-10-23T04:07:45.280680Z",
     "iopub.status.idle": "2020-10-23T04:07:45.283960Z",
     "shell.execute_reply": "2020-10-23T04:07:45.284521Z"
    },
    "papermill": {
     "duration": 0.062976,
     "end_time": "2020-10-23T04:07:45.284671",
     "exception": false,
     "start_time": "2020-10-23T04:07:45.221695",
     "status": "completed"
    },
    "tags": []
   },
   "outputs": [
    {
     "data": {
      "text/plain": [
       "99271300"
      ]
     },
     "execution_count": 21,
     "metadata": {},
     "output_type": "execute_result"
    }
   ],
   "source": [
    "len(train)"
   ]
  },
  {
   "cell_type": "markdown",
   "metadata": {
    "papermill": {
     "duration": 0.054704,
     "end_time": "2020-10-23T04:07:45.392867",
     "exception": false,
     "start_time": "2020-10-23T04:07:45.338163",
     "status": "completed"
    },
    "tags": []
   },
   "source": [
    "## Data Exploration ##"
   ]
  },
  {
   "cell_type": "code",
   "execution_count": 22,
   "metadata": {
    "execution": {
     "iopub.execute_input": "2020-10-23T04:07:45.508141Z",
     "iopub.status.busy": "2020-10-23T04:07:45.507183Z",
     "iopub.status.idle": "2020-10-23T04:07:45.511435Z",
     "shell.execute_reply": "2020-10-23T04:07:45.510865Z"
    },
    "papermill": {
     "duration": 0.063469,
     "end_time": "2020-10-23T04:07:45.511564",
     "exception": false,
     "start_time": "2020-10-23T04:07:45.448095",
     "status": "completed"
    },
    "tags": []
   },
   "outputs": [
    {
     "data": {
      "text/plain": [
       "99271300"
      ]
     },
     "execution_count": 22,
     "metadata": {},
     "output_type": "execute_result"
    }
   ],
   "source": [
    "len(train)"
   ]
  },
  {
   "cell_type": "code",
   "execution_count": 23,
   "metadata": {
    "execution": {
     "iopub.execute_input": "2020-10-23T04:07:45.628691Z",
     "iopub.status.busy": "2020-10-23T04:07:45.627567Z",
     "iopub.status.idle": "2020-10-23T04:07:45.712684Z",
     "shell.execute_reply": "2020-10-23T04:07:45.713245Z"
    },
    "papermill": {
     "duration": 0.147007,
     "end_time": "2020-10-23T04:07:45.713399",
     "exception": false,
     "start_time": "2020-10-23T04:07:45.566392",
     "status": "completed"
    },
    "tags": []
   },
   "outputs": [
    {
     "data": {
      "text/plain": [
       "0.6572355454194717"
      ]
     },
     "execution_count": 23,
     "metadata": {},
     "output_type": "execute_result"
    }
   ],
   "source": [
    "train.answered_correctly.mean()"
   ]
  },
  {
   "cell_type": "code",
   "execution_count": 24,
   "metadata": {
    "execution": {
     "iopub.execute_input": "2020-10-23T04:07:45.829194Z",
     "iopub.status.busy": "2020-10-23T04:07:45.828369Z",
     "iopub.status.idle": "2020-10-23T04:07:45.832243Z",
     "shell.execute_reply": "2020-10-23T04:07:45.831644Z"
    },
    "papermill": {
     "duration": 0.063885,
     "end_time": "2020-10-23T04:07:45.832374",
     "exception": false,
     "start_time": "2020-10-23T04:07:45.768489",
     "status": "completed"
    },
    "tags": []
   },
   "outputs": [],
   "source": [
    "prior_mean_user = results_u2_final.explanation_mean_user.mean()"
   ]
  },
  {
   "cell_type": "code",
   "execution_count": 25,
   "metadata": {
    "execution": {
     "iopub.execute_input": "2020-10-23T04:07:45.964749Z",
     "iopub.status.busy": "2020-10-23T04:07:45.963686Z",
     "iopub.status.idle": "2020-10-23T04:07:46.100470Z",
     "shell.execute_reply": "2020-10-23T04:07:46.101079Z"
    },
    "papermill": {
     "duration": 0.212743,
     "end_time": "2020-10-23T04:07:46.101243",
     "exception": false,
     "start_time": "2020-10-23T04:07:45.888500",
     "status": "completed"
    },
    "tags": []
   },
   "outputs": [
    {
     "data": {
      "text/plain": [
       "0.6787809364253148"
      ]
     },
     "execution_count": 25,
     "metadata": {},
     "output_type": "execute_result"
    }
   ],
   "source": [
    "train.loc[(train.timestamp == 0)].answered_correctly.mean()"
   ]
  },
  {
   "cell_type": "code",
   "execution_count": 26,
   "metadata": {
    "execution": {
     "iopub.execute_input": "2020-10-23T04:07:46.227116Z",
     "iopub.status.busy": "2020-10-23T04:07:46.226099Z",
     "iopub.status.idle": "2020-10-23T04:07:51.441556Z",
     "shell.execute_reply": "2020-10-23T04:07:51.440957Z"
    },
    "papermill": {
     "duration": 5.283502,
     "end_time": "2020-10-23T04:07:51.441685",
     "exception": false,
     "start_time": "2020-10-23T04:07:46.158183",
     "status": "completed"
    },
    "tags": []
   },
   "outputs": [
    {
     "data": {
      "text/plain": [
       "0.6571491814363561"
      ]
     },
     "execution_count": 26,
     "metadata": {},
     "output_type": "execute_result"
    }
   ],
   "source": [
    "train.loc[(train.timestamp != 0)].answered_correctly.mean()"
   ]
  },
  {
   "cell_type": "code",
   "execution_count": 27,
   "metadata": {
    "execution": {
     "iopub.execute_input": "2020-10-23T04:07:52.908333Z",
     "iopub.status.busy": "2020-10-23T04:07:52.518574Z",
     "iopub.status.idle": "2020-10-23T04:07:52.918203Z",
     "shell.execute_reply": "2020-10-23T04:07:52.919036Z"
    },
    "papermill": {
     "duration": 1.421064,
     "end_time": "2020-10-23T04:07:52.919264",
     "exception": false,
     "start_time": "2020-10-23T04:07:51.498200",
     "status": "completed"
    },
    "tags": []
   },
   "outputs": [],
   "source": [
    "train.drop(['timestamp', 'content_type_id', 'question_id', 'part'], axis=1, inplace=True)"
   ]
  },
  {
   "cell_type": "code",
   "execution_count": 28,
   "metadata": {
    "execution": {
     "iopub.execute_input": "2020-10-23T04:07:53.123274Z",
     "iopub.status.busy": "2020-10-23T04:07:53.122239Z",
     "iopub.status.idle": "2020-10-23T04:07:53.130870Z",
     "shell.execute_reply": "2020-10-23T04:07:53.132021Z"
    },
    "papermill": {
     "duration": 0.111323,
     "end_time": "2020-10-23T04:07:53.132230",
     "exception": false,
     "start_time": "2020-10-23T04:07:53.020907",
     "status": "completed"
    },
    "tags": []
   },
   "outputs": [
    {
     "data": {
      "text/plain": [
       "99271300"
      ]
     },
     "execution_count": 28,
     "metadata": {},
     "output_type": "execute_result"
    }
   ],
   "source": [
    "len(train)"
   ]
  },
  {
   "cell_type": "markdown",
   "metadata": {
    "papermill": {
     "duration": 0.215396,
     "end_time": "2020-10-23T04:07:53.526075",
     "exception": false,
     "start_time": "2020-10-23T04:07:53.310679",
     "status": "completed"
    },
    "tags": []
   },
   "source": [
    "## Creating Validation Set (Most Recent Answers by User) ##"
   ]
  },
  {
   "cell_type": "code",
   "execution_count": 29,
   "metadata": {
    "execution": {
     "iopub.execute_input": "2020-10-23T04:07:53.830696Z",
     "iopub.status.busy": "2020-10-23T04:07:53.829789Z",
     "iopub.status.idle": "2020-10-23T04:08:18.812556Z",
     "shell.execute_reply": "2020-10-23T04:08:18.811892Z"
    },
    "papermill": {
     "duration": 25.107514,
     "end_time": "2020-10-23T04:08:18.812681",
     "exception": false,
     "start_time": "2020-10-23T04:07:53.705167",
     "status": "completed"
    },
    "tags": []
   },
   "outputs": [
    {
     "data": {
      "text/plain": [
       "99271300"
      ]
     },
     "execution_count": 29,
     "metadata": {},
     "output_type": "execute_result"
    }
   ],
   "source": [
    "validation = train.groupby('user_id').tail(5)\n",
    "train = train[~train.index.isin(validation.index)]\n",
    "len(train) + len(validation)"
   ]
  },
  {
   "cell_type": "code",
   "execution_count": 30,
   "metadata": {
    "execution": {
     "iopub.execute_input": "2020-10-23T04:08:18.936835Z",
     "iopub.status.busy": "2020-10-23T04:08:18.935654Z",
     "iopub.status.idle": "2020-10-23T04:08:18.943722Z",
     "shell.execute_reply": "2020-10-23T04:08:18.943155Z"
    },
    "papermill": {
     "duration": 0.072805,
     "end_time": "2020-10-23T04:08:18.943841",
     "exception": false,
     "start_time": "2020-10-23T04:08:18.871036",
     "status": "completed"
    },
    "tags": []
   },
   "outputs": [
    {
     "data": {
      "text/plain": [
       "0.5405640978205958"
      ]
     },
     "execution_count": 30,
     "metadata": {},
     "output_type": "execute_result"
    }
   ],
   "source": [
    "validation.answered_correctly.mean()"
   ]
  },
  {
   "cell_type": "code",
   "execution_count": 31,
   "metadata": {
    "execution": {
     "iopub.execute_input": "2020-10-23T04:08:19.070429Z",
     "iopub.status.busy": "2020-10-23T04:08:19.069301Z",
     "iopub.status.idle": "2020-10-23T04:08:19.150611Z",
     "shell.execute_reply": "2020-10-23T04:08:19.151179Z"
    },
    "papermill": {
     "duration": 0.146666,
     "end_time": "2020-10-23T04:08:19.151329",
     "exception": false,
     "start_time": "2020-10-23T04:08:19.004663",
     "status": "completed"
    },
    "tags": []
   },
   "outputs": [
    {
     "data": {
      "text/plain": [
       "0.6595947874457968"
      ]
     },
     "execution_count": 31,
     "metadata": {},
     "output_type": "execute_result"
    }
   ],
   "source": [
    "train.answered_correctly.mean()"
   ]
  },
  {
   "cell_type": "code",
   "execution_count": 32,
   "metadata": {
    "execution": {
     "iopub.execute_input": "2020-10-23T04:08:20.256276Z",
     "iopub.status.busy": "2020-10-23T04:08:20.254930Z",
     "iopub.status.idle": "2020-10-23T04:08:39.548768Z",
     "shell.execute_reply": "2020-10-23T04:08:39.547162Z"
    },
    "papermill": {
     "duration": 20.337613,
     "end_time": "2020-10-23T04:08:39.548903",
     "exception": false,
     "start_time": "2020-10-23T04:08:19.211290",
     "status": "completed"
    },
    "tags": []
   },
   "outputs": [],
   "source": [
    "results_u_val = train[['user_id','answered_correctly']].groupby(['user_id']).agg(['mean'])\n",
    "results_u_val.columns = ['answered_correctly_user']\n",
    "\n",
    "results_u2_val = train[['user_id','prior_question_had_explanation']].groupby(['user_id']).agg(['mean'])\n",
    "results_u2_val.columns = ['explanation_mean_user']"
   ]
  },
  {
   "cell_type": "markdown",
   "metadata": {
    "papermill": {
     "duration": 0.060595,
     "end_time": "2020-10-23T04:08:39.670306",
     "exception": false,
     "start_time": "2020-10-23T04:08:39.609711",
     "status": "completed"
    },
    "tags": []
   },
   "source": [
    "Does it make sense to use last questions as validation? Why is the rate of correct answers so low?\n",
    "I am convinced there is a better way to match the test data."
   ]
  },
  {
   "cell_type": "markdown",
   "metadata": {
    "papermill": {
     "duration": 0.060807,
     "end_time": "2020-10-23T04:08:39.791942",
     "exception": false,
     "start_time": "2020-10-23T04:08:39.731135",
     "status": "completed"
    },
    "tags": []
   },
   "source": [
    "## Extracting Training Data ##"
   ]
  },
  {
   "cell_type": "code",
   "execution_count": 33,
   "metadata": {
    "execution": {
     "iopub.execute_input": "2020-10-23T04:08:39.968999Z",
     "iopub.status.busy": "2020-10-23T04:08:39.967619Z",
     "iopub.status.idle": "2020-10-23T04:09:08.661791Z",
     "shell.execute_reply": "2020-10-23T04:09:08.661153Z"
    },
    "papermill": {
     "duration": 28.809931,
     "end_time": "2020-10-23T04:09:08.661938",
     "exception": false,
     "start_time": "2020-10-23T04:08:39.852007",
     "status": "completed"
    },
    "tags": []
   },
   "outputs": [
    {
     "data": {
      "text/plain": [
       "99271300"
      ]
     },
     "execution_count": 33,
     "metadata": {},
     "output_type": "execute_result"
    }
   ],
   "source": [
    "X = train.groupby('user_id').tail(18)\n",
    "train = train[~train.index.isin(X.index)]\n",
    "len(X) + len(train) + len(validation)"
   ]
  },
  {
   "cell_type": "code",
   "execution_count": 34,
   "metadata": {
    "execution": {
     "iopub.execute_input": "2020-10-23T04:09:08.790662Z",
     "iopub.status.busy": "2020-10-23T04:09:08.789524Z",
     "iopub.status.idle": "2020-10-23T04:09:08.801228Z",
     "shell.execute_reply": "2020-10-23T04:09:08.800655Z"
    },
    "papermill": {
     "duration": 0.078346,
     "end_time": "2020-10-23T04:09:08.801351",
     "exception": false,
     "start_time": "2020-10-23T04:09:08.723005",
     "status": "completed"
    },
    "tags": []
   },
   "outputs": [
    {
     "data": {
      "text/plain": [
       "0.5518996164435279"
      ]
     },
     "execution_count": 34,
     "metadata": {},
     "output_type": "execute_result"
    }
   ],
   "source": [
    "X.answered_correctly.mean()"
   ]
  },
  {
   "cell_type": "code",
   "execution_count": 35,
   "metadata": {
    "execution": {
     "iopub.execute_input": "2020-10-23T04:09:08.929159Z",
     "iopub.status.busy": "2020-10-23T04:09:08.928123Z",
     "iopub.status.idle": "2020-10-23T04:09:09.004232Z",
     "shell.execute_reply": "2020-10-23T04:09:09.004874Z"
    },
    "papermill": {
     "duration": 0.142528,
     "end_time": "2020-10-23T04:09:09.005052",
     "exception": false,
     "start_time": "2020-10-23T04:09:08.862524",
     "status": "completed"
    },
    "tags": []
   },
   "outputs": [
    {
     "data": {
      "text/plain": [
       "0.6674455337037223"
      ]
     },
     "execution_count": 35,
     "metadata": {},
     "output_type": "execute_result"
    }
   ],
   "source": [
    "train.answered_correctly.mean()"
   ]
  },
  {
   "cell_type": "code",
   "execution_count": 36,
   "metadata": {
    "execution": {
     "iopub.execute_input": "2020-10-23T04:09:09.561715Z",
     "iopub.status.busy": "2020-10-23T04:09:09.560473Z",
     "iopub.status.idle": "2020-10-23T04:09:27.537771Z",
     "shell.execute_reply": "2020-10-23T04:09:27.536496Z"
    },
    "papermill": {
     "duration": 18.469692,
     "end_time": "2020-10-23T04:09:27.537918",
     "exception": false,
     "start_time": "2020-10-23T04:09:09.068226",
     "status": "completed"
    },
    "tags": []
   },
   "outputs": [],
   "source": [
    "results_u_X = train[['user_id','answered_correctly']].groupby(['user_id']).agg(['mean'])\n",
    "results_u_X.columns = ['answered_correctly_user']\n",
    "\n",
    "results_u2_X = train[['user_id','prior_question_had_explanation']].groupby(['user_id']).agg(['mean'])\n",
    "results_u2_X.columns = ['explanation_mean_user']"
   ]
  },
  {
   "cell_type": "markdown",
   "metadata": {
    "papermill": {
     "duration": 0.061142,
     "end_time": "2020-10-23T04:09:27.660532",
     "exception": false,
     "start_time": "2020-10-23T04:09:27.599390",
     "status": "completed"
    },
    "tags": []
   },
   "source": [
    "## Merging Data ##"
   ]
  },
  {
   "cell_type": "code",
   "execution_count": 37,
   "metadata": {
    "execution": {
     "iopub.execute_input": "2020-10-23T04:09:27.918840Z",
     "iopub.status.busy": "2020-10-23T04:09:27.917211Z",
     "iopub.status.idle": "2020-10-23T04:09:27.919586Z",
     "shell.execute_reply": "2020-10-23T04:09:27.920115Z"
    },
    "papermill": {
     "duration": 0.19652,
     "end_time": "2020-10-23T04:09:27.920261",
     "exception": false,
     "start_time": "2020-10-23T04:09:27.723741",
     "status": "completed"
    },
    "tags": []
   },
   "outputs": [],
   "source": [
    "#clearing memory\n",
    "del(train)"
   ]
  },
  {
   "cell_type": "code",
   "execution_count": 38,
   "metadata": {
    "execution": {
     "iopub.execute_input": "2020-10-23T04:09:28.054742Z",
     "iopub.status.busy": "2020-10-23T04:09:28.053081Z",
     "iopub.status.idle": "2020-10-23T04:09:30.710554Z",
     "shell.execute_reply": "2020-10-23T04:09:30.709929Z"
    },
    "papermill": {
     "duration": 2.72816,
     "end_time": "2020-10-23T04:09:30.710699",
     "exception": false,
     "start_time": "2020-10-23T04:09:27.982539",
     "status": "completed"
    },
    "tags": []
   },
   "outputs": [],
   "source": [
    "X = pd.merge(X, group3, left_on=['task_container_id'], right_index= True, how=\"left\")\n",
    "X = pd.merge(X, results_u_X, on=['user_id'], how=\"left\")\n",
    "X = pd.merge(X, results_u2_X, on=['user_id'], how=\"left\")"
   ]
  },
  {
   "cell_type": "code",
   "execution_count": 39,
   "metadata": {
    "execution": {
     "iopub.execute_input": "2020-10-23T04:09:30.844988Z",
     "iopub.status.busy": "2020-10-23T04:09:30.843955Z",
     "iopub.status.idle": "2020-10-23T04:09:31.983819Z",
     "shell.execute_reply": "2020-10-23T04:09:31.982356Z"
    },
    "papermill": {
     "duration": 1.21026,
     "end_time": "2020-10-23T04:09:31.983991",
     "exception": false,
     "start_time": "2020-10-23T04:09:30.773731",
     "status": "completed"
    },
    "tags": []
   },
   "outputs": [],
   "source": [
    "validation = pd.merge(validation, group3, left_on=['task_container_id'], right_index= True, how=\"left\")\n",
    "validation = pd.merge(validation, results_u_val, on=['user_id'], how=\"left\")\n",
    "validation = pd.merge(validation, results_u2_val, on=['user_id'], how=\"left\")"
   ]
  },
  {
   "cell_type": "code",
   "execution_count": 40,
   "metadata": {
    "execution": {
     "iopub.execute_input": "2020-10-23T04:09:32.359665Z",
     "iopub.status.busy": "2020-10-23T04:09:32.358661Z",
     "iopub.status.idle": "2020-10-23T04:09:36.164332Z",
     "shell.execute_reply": "2020-10-23T04:09:36.163671Z"
    },
    "papermill": {
     "duration": 3.99332,
     "end_time": "2020-10-23T04:09:36.164492",
     "exception": false,
     "start_time": "2020-10-23T04:09:32.171172",
     "status": "completed"
    },
    "tags": []
   },
   "outputs": [],
   "source": [
    "from sklearn.preprocessing import LabelEncoder\n",
    "\n",
    "lb_make = LabelEncoder()\n",
    "\n",
    "X.prior_question_had_explanation.fillna(False, inplace = True)\n",
    "validation.prior_question_had_explanation.fillna(False, inplace = True)\n",
    "\n",
    "validation[\"prior_question_had_explanation_enc\"] = lb_make.fit_transform(validation[\"prior_question_had_explanation\"])\n",
    "X[\"prior_question_had_explanation_enc\"] = lb_make.fit_transform(X[\"prior_question_had_explanation\"])"
   ]
  },
  {
   "cell_type": "code",
   "execution_count": 41,
   "metadata": {
    "execution": {
     "iopub.execute_input": "2020-10-23T04:09:36.298277Z",
     "iopub.status.busy": "2020-10-23T04:09:36.296076Z",
     "iopub.status.idle": "2020-10-23T04:09:36.299080Z",
     "shell.execute_reply": "2020-10-23T04:09:36.299646Z"
    },
    "papermill": {
     "duration": 0.07147,
     "end_time": "2020-10-23T04:09:36.299794",
     "exception": false,
     "start_time": "2020-10-23T04:09:36.228324",
     "status": "completed"
    },
    "tags": []
   },
   "outputs": [],
   "source": [
    "#reading in question df\n",
    "#question2 = pd.read_csv('/kaggle/input/question2/question2.csv)"
   ]
  },
  {
   "cell_type": "code",
   "execution_count": 42,
   "metadata": {
    "execution": {
     "iopub.execute_input": "2020-10-23T04:09:36.435206Z",
     "iopub.status.busy": "2020-10-23T04:09:36.433170Z",
     "iopub.status.idle": "2020-10-23T04:09:36.438525Z",
     "shell.execute_reply": "2020-10-23T04:09:36.439108Z"
    },
    "papermill": {
     "duration": 0.076105,
     "end_time": "2020-10-23T04:09:36.439248",
     "exception": false,
     "start_time": "2020-10-23T04:09:36.363143",
     "status": "completed"
    },
    "tags": []
   },
   "outputs": [
    {
     "data": {
      "text/plain": [
       "0.7094600658138017"
      ]
     },
     "execution_count": 42,
     "metadata": {},
     "output_type": "execute_result"
    }
   ],
   "source": [
    "content_mean = question2.quest_pct.mean()\n",
    "\n",
    "question2.quest_pct.mean()\n",
    "#there are a lot of high percentage questions, should use median instead?"
   ]
  },
  {
   "cell_type": "code",
   "execution_count": 43,
   "metadata": {
    "execution": {
     "iopub.execute_input": "2020-10-23T04:09:36.573718Z",
     "iopub.status.busy": "2020-10-23T04:09:36.572729Z",
     "iopub.status.idle": "2020-10-23T04:09:36.583591Z",
     "shell.execute_reply": "2020-10-23T04:09:36.584055Z"
    },
    "papermill": {
     "duration": 0.082976,
     "end_time": "2020-10-23T04:09:36.584198",
     "exception": false,
     "start_time": "2020-10-23T04:09:36.501222",
     "status": "completed"
    },
    "tags": []
   },
   "outputs": [],
   "source": [
    "#filling questions with no info with a new value\n",
    "question2.quest_pct = question2.quest_pct.mask((question2['count'] < 3), .65)\n",
    "\n",
    "\n",
    "#filling very hard new questions with a more reasonable value\n",
    "question2.quest_pct = question2.quest_pct.mask((question2.quest_pct < .2) & (question2['count'] < 21), .2)\n",
    "\n",
    "#filling very easy new questions with a more reasonable value\n",
    "question2.quest_pct = question2.quest_pct.mask((question2.quest_pct > .95) & (question2['count'] < 21), .95)"
   ]
  },
  {
   "cell_type": "code",
   "execution_count": 44,
   "metadata": {
    "execution": {
     "iopub.execute_input": "2020-10-23T04:09:36.721311Z",
     "iopub.status.busy": "2020-10-23T04:09:36.719600Z",
     "iopub.status.idle": "2020-10-23T04:09:38.288679Z",
     "shell.execute_reply": "2020-10-23T04:09:38.288005Z"
    },
    "papermill": {
     "duration": 1.641522,
     "end_time": "2020-10-23T04:09:38.288816",
     "exception": false,
     "start_time": "2020-10-23T04:09:36.647294",
     "status": "completed"
    },
    "tags": []
   },
   "outputs": [],
   "source": [
    "X = pd.merge(X, question2, left_on = 'content_id', right_on = 'question_id', how = 'left')\n",
    "validation = pd.merge(validation, question2, left_on = 'content_id', right_on = 'question_id', how = 'left')\n",
    "X.part = X.part - 1\n",
    "validation.part = validation.part - 1"
   ]
  },
  {
   "cell_type": "code",
   "execution_count": 45,
   "metadata": {
    "execution": {
     "iopub.execute_input": "2020-10-23T04:09:38.441689Z",
     "iopub.status.busy": "2020-10-23T04:09:38.440669Z",
     "iopub.status.idle": "2020-10-23T04:09:38.444961Z",
     "shell.execute_reply": "2020-10-23T04:09:38.445618Z"
    },
    "papermill": {
     "duration": 0.092606,
     "end_time": "2020-10-23T04:09:38.445791",
     "exception": false,
     "start_time": "2020-10-23T04:09:38.353185",
     "status": "completed"
    },
    "tags": []
   },
   "outputs": [
    {
     "data": {
      "text/html": [
       "<div>\n",
       "<style scoped>\n",
       "    .dataframe tbody tr th:only-of-type {\n",
       "        vertical-align: middle;\n",
       "    }\n",
       "\n",
       "    .dataframe tbody tr th {\n",
       "        vertical-align: top;\n",
       "    }\n",
       "\n",
       "    .dataframe thead th {\n",
       "        text-align: right;\n",
       "    }\n",
       "</style>\n",
       "<table border=\"1\" class=\"dataframe\">\n",
       "  <thead>\n",
       "    <tr style=\"text-align: right;\">\n",
       "      <th></th>\n",
       "      <th>user_id</th>\n",
       "      <th>content_id</th>\n",
       "      <th>task_container_id</th>\n",
       "      <th>answered_correctly</th>\n",
       "      <th>prior_question_elapsed_time</th>\n",
       "      <th>prior_question_had_explanation</th>\n",
       "      <th>avg_questions</th>\n",
       "      <th>avg_questions_seen</th>\n",
       "      <th>answered_correctly_user</th>\n",
       "      <th>explanation_mean_user</th>\n",
       "      <th>prior_question_had_explanation_enc</th>\n",
       "      <th>question_id</th>\n",
       "      <th>part</th>\n",
       "      <th>quest_pct</th>\n",
       "      <th>count</th>\n",
       "    </tr>\n",
       "  </thead>\n",
       "  <tbody>\n",
       "    <tr>\n",
       "      <th>0</th>\n",
       "      <td>867946278</td>\n",
       "      <td>3977</td>\n",
       "      <td>0</td>\n",
       "      <td>1</td>\n",
       "      <td>NaN</td>\n",
       "      <td>False</td>\n",
       "      <td>1.006649</td>\n",
       "      <td>1.006649</td>\n",
       "      <td>NaN</td>\n",
       "      <td>NaN</td>\n",
       "      <td>0</td>\n",
       "      <td>3977</td>\n",
       "      <td>4</td>\n",
       "      <td>0.87455</td>\n",
       "      <td>14428</td>\n",
       "    </tr>\n",
       "    <tr>\n",
       "      <th>1</th>\n",
       "      <td>1440786713</td>\n",
       "      <td>3889</td>\n",
       "      <td>0</td>\n",
       "      <td>1</td>\n",
       "      <td>NaN</td>\n",
       "      <td>False</td>\n",
       "      <td>1.006649</td>\n",
       "      <td>1.006649</td>\n",
       "      <td>NaN</td>\n",
       "      <td>NaN</td>\n",
       "      <td>0</td>\n",
       "      <td>3889</td>\n",
       "      <td>4</td>\n",
       "      <td>0.70104</td>\n",
       "      <td>6633</td>\n",
       "    </tr>\n",
       "    <tr>\n",
       "      <th>2</th>\n",
       "      <td>1805972720</td>\n",
       "      <td>5796</td>\n",
       "      <td>0</td>\n",
       "      <td>0</td>\n",
       "      <td>NaN</td>\n",
       "      <td>False</td>\n",
       "      <td>1.006649</td>\n",
       "      <td>1.006649</td>\n",
       "      <td>NaN</td>\n",
       "      <td>NaN</td>\n",
       "      <td>0</td>\n",
       "      <td>5796</td>\n",
       "      <td>4</td>\n",
       "      <td>0.74372</td>\n",
       "      <td>3859</td>\n",
       "    </tr>\n",
       "    <tr>\n",
       "      <th>3</th>\n",
       "      <td>1805982086</td>\n",
       "      <td>6004</td>\n",
       "      <td>0</td>\n",
       "      <td>1</td>\n",
       "      <td>NaN</td>\n",
       "      <td>False</td>\n",
       "      <td>1.006649</td>\n",
       "      <td>1.006649</td>\n",
       "      <td>NaN</td>\n",
       "      <td>NaN</td>\n",
       "      <td>0</td>\n",
       "      <td>6004</td>\n",
       "      <td>4</td>\n",
       "      <td>0.64486</td>\n",
       "      <td>23022</td>\n",
       "    </tr>\n",
       "    <tr>\n",
       "      <th>4</th>\n",
       "      <td>1653617030</td>\n",
       "      <td>4123</td>\n",
       "      <td>0</td>\n",
       "      <td>1</td>\n",
       "      <td>NaN</td>\n",
       "      <td>False</td>\n",
       "      <td>1.006649</td>\n",
       "      <td>1.006649</td>\n",
       "      <td>NaN</td>\n",
       "      <td>NaN</td>\n",
       "      <td>0</td>\n",
       "      <td>4123</td>\n",
       "      <td>4</td>\n",
       "      <td>0.73155</td>\n",
       "      <td>39825</td>\n",
       "    </tr>\n",
       "  </tbody>\n",
       "</table>\n",
       "</div>"
      ],
      "text/plain": [
       "      user_id  content_id  task_container_id  answered_correctly  \\\n",
       "0   867946278        3977                  0                   1   \n",
       "1  1440786713        3889                  0                   1   \n",
       "2  1805972720        5796                  0                   0   \n",
       "3  1805982086        6004                  0                   1   \n",
       "4  1653617030        4123                  0                   1   \n",
       "\n",
       "   prior_question_elapsed_time  prior_question_had_explanation  avg_questions  \\\n",
       "0                          NaN                           False       1.006649   \n",
       "1                          NaN                           False       1.006649   \n",
       "2                          NaN                           False       1.006649   \n",
       "3                          NaN                           False       1.006649   \n",
       "4                          NaN                           False       1.006649   \n",
       "\n",
       "   avg_questions_seen  answered_correctly_user  explanation_mean_user  \\\n",
       "0            1.006649                      NaN                    NaN   \n",
       "1            1.006649                      NaN                    NaN   \n",
       "2            1.006649                      NaN                    NaN   \n",
       "3            1.006649                      NaN                    NaN   \n",
       "4            1.006649                      NaN                    NaN   \n",
       "\n",
       "   prior_question_had_explanation_enc  question_id  part  quest_pct  count  \n",
       "0                                   0         3977     4    0.87455  14428  \n",
       "1                                   0         3889     4    0.70104   6633  \n",
       "2                                   0         5796     4    0.74372   3859  \n",
       "3                                   0         6004     4    0.64486  23022  \n",
       "4                                   0         4123     4    0.73155  39825  "
      ]
     },
     "execution_count": 45,
     "metadata": {},
     "output_type": "execute_result"
    }
   ],
   "source": [
    "X.head()"
   ]
  },
  {
   "cell_type": "code",
   "execution_count": 46,
   "metadata": {
    "execution": {
     "iopub.execute_input": "2020-10-23T04:09:38.591264Z",
     "iopub.status.busy": "2020-10-23T04:09:38.589889Z",
     "iopub.status.idle": "2020-10-23T04:09:39.150257Z",
     "shell.execute_reply": "2020-10-23T04:09:39.149680Z"
    },
    "papermill": {
     "duration": 0.630673,
     "end_time": "2020-10-23T04:09:39.150393",
     "exception": false,
     "start_time": "2020-10-23T04:09:38.519720",
     "status": "completed"
    },
    "tags": []
   },
   "outputs": [],
   "source": [
    "y = X['answered_correctly']\n",
    "X = X.drop(['answered_correctly'], axis=1)\n",
    "X.head()\n",
    "\n",
    "y_val = validation['answered_correctly']\n",
    "X_val = validation.drop(['answered_correctly'], axis=1)"
   ]
  },
  {
   "cell_type": "code",
   "execution_count": 47,
   "metadata": {
    "execution": {
     "iopub.execute_input": "2020-10-23T04:09:39.413699Z",
     "iopub.status.busy": "2020-10-23T04:09:39.389631Z",
     "iopub.status.idle": "2020-10-23T04:09:39.445784Z",
     "shell.execute_reply": "2020-10-23T04:09:39.445127Z"
    },
    "papermill": {
     "duration": 0.229306,
     "end_time": "2020-10-23T04:09:39.445905",
     "exception": false,
     "start_time": "2020-10-23T04:09:39.216599",
     "status": "completed"
    },
    "tags": []
   },
   "outputs": [],
   "source": [
    "X = X[['answered_correctly_user', 'explanation_mean_user', 'quest_pct', 'avg_questions_seen',\n",
    "       'prior_question_elapsed_time','prior_question_had_explanation_enc', 'part']]\n",
    "X_val = X_val[['answered_correctly_user', 'explanation_mean_user', 'quest_pct', 'avg_questions_seen',\n",
    "       'prior_question_elapsed_time','prior_question_had_explanation_enc', 'part']]"
   ]
  },
  {
   "cell_type": "code",
   "execution_count": 48,
   "metadata": {
    "execution": {
     "iopub.execute_input": "2020-10-23T04:09:39.584192Z",
     "iopub.status.busy": "2020-10-23T04:09:39.582931Z",
     "iopub.status.idle": "2020-10-23T04:09:39.663501Z",
     "shell.execute_reply": "2020-10-23T04:09:39.662856Z"
    },
    "papermill": {
     "duration": 0.153721,
     "end_time": "2020-10-23T04:09:39.663625",
     "exception": false,
     "start_time": "2020-10-23T04:09:39.509904",
     "status": "completed"
    },
    "tags": []
   },
   "outputs": [],
   "source": [
    "\n",
    "# Filling with 0.5 for simplicity; there could likely be a better value\n",
    "X['answered_correctly_user'].fillna(0.65,  inplace=True)\n",
    "X['explanation_mean_user'].fillna(prior_mean_user,  inplace=True)\n",
    "X['quest_pct'].fillna(content_mean, inplace=True)\n",
    "\n",
    "X['part'].fillna(4, inplace = True)\n",
    "X['avg_questions_seen'].fillna(1, inplace = True)\n",
    "X['prior_question_elapsed_time'].fillna(elapsed_mean, inplace = True)\n",
    "X['prior_question_had_explanation_enc'].fillna(0, inplace = True)\n"
   ]
  },
  {
   "cell_type": "code",
   "execution_count": 49,
   "metadata": {
    "execution": {
     "iopub.execute_input": "2020-10-23T04:09:39.805677Z",
     "iopub.status.busy": "2020-10-23T04:09:39.804599Z",
     "iopub.status.idle": "2020-10-23T04:09:39.839331Z",
     "shell.execute_reply": "2020-10-23T04:09:39.839939Z"
    },
    "papermill": {
     "duration": 0.110373,
     "end_time": "2020-10-23T04:09:39.840121",
     "exception": false,
     "start_time": "2020-10-23T04:09:39.729748",
     "status": "completed"
    },
    "tags": []
   },
   "outputs": [],
   "source": [
    "X_val['answered_correctly_user'].fillna(0.65,  inplace=True)\n",
    "X_val['explanation_mean_user'].fillna(prior_mean_user,  inplace=True)\n",
    "X_val['quest_pct'].fillna(content_mean,  inplace=True)\n",
    "\n",
    "X_val['part'].fillna(4, inplace = True)\n",
    "X['avg_questions_seen'].fillna(1, inplace = True)\n",
    "X_val['prior_question_elapsed_time'].fillna(elapsed_mean, inplace = True)\n",
    "X_val['prior_question_had_explanation_enc'].fillna(0, inplace = True)"
   ]
  },
  {
   "cell_type": "markdown",
   "metadata": {
    "papermill": {
     "duration": 0.063442,
     "end_time": "2020-10-23T04:09:39.968644",
     "exception": false,
     "start_time": "2020-10-23T04:09:39.905202",
     "status": "completed"
    },
    "tags": []
   },
   "source": [
    "## Modeling ##"
   ]
  },
  {
   "cell_type": "code",
   "execution_count": 50,
   "metadata": {
    "execution": {
     "iopub.execute_input": "2020-10-23T04:09:40.106247Z",
     "iopub.status.busy": "2020-10-23T04:09:40.105329Z",
     "iopub.status.idle": "2020-10-23T04:09:40.171497Z",
     "shell.execute_reply": "2020-10-23T04:09:40.170675Z"
    },
    "papermill": {
     "duration": 0.137987,
     "end_time": "2020-10-23T04:09:40.171634",
     "exception": false,
     "start_time": "2020-10-23T04:09:40.033647",
     "status": "completed"
    },
    "tags": []
   },
   "outputs": [],
   "source": [
    "import lightgbm as lgb\n",
    "\n",
    "params = {\n",
    "    'objective': 'binary',\n",
    "    'boosting' : 'gbdt',\n",
    "    'max_bin': 800,\n",
    "    'learning_rate': 0.0175,\n",
    "    'num_leaves': 80\n",
    "}\n",
    "\n",
    "lgb_train = lgb.Dataset(X, y, categorical_feature = ['part', 'prior_question_had_explanation_enc'])\n",
    "lgb_eval = lgb.Dataset(X_val, y_val, categorical_feature = ['part', 'prior_question_had_explanation_enc'], reference=lgb_train)"
   ]
  },
  {
   "cell_type": "code",
   "execution_count": 51,
   "metadata": {
    "execution": {
     "iopub.execute_input": "2020-10-23T04:09:40.309940Z",
     "iopub.status.busy": "2020-10-23T04:09:40.309119Z",
     "iopub.status.idle": "2020-10-23T04:35:09.962097Z",
     "shell.execute_reply": "2020-10-23T04:35:09.963733Z"
    },
    "papermill": {
     "duration": 1529.726751,
     "end_time": "2020-10-23T04:35:09.963974",
     "exception": false,
     "start_time": "2020-10-23T04:09:40.237223",
     "status": "completed"
    },
    "tags": []
   },
   "outputs": [
    {
     "name": "stderr",
     "output_type": "stream",
     "text": [
      "/opt/conda/lib/python3.7/site-packages/lightgbm/basic.py:1291: UserWarning: Using categorical_feature in Dataset.\n",
      "  warnings.warn('Using categorical_feature in Dataset.')\n"
     ]
    },
    {
     "name": "stdout",
     "output_type": "stream",
     "text": [
      "Training until validation scores don't improve for 8 rounds\n",
      "[50]\ttraining's binary_logloss: 0.613029\tvalid_1's binary_logloss: 0.625549\n",
      "[100]\ttraining's binary_logloss: 0.596317\tvalid_1's binary_logloss: 0.611383\n",
      "[150]\ttraining's binary_logloss: 0.591898\tvalid_1's binary_logloss: 0.607579\n",
      "[200]\ttraining's binary_logloss: 0.590305\tvalid_1's binary_logloss: 0.606042\n",
      "[250]\ttraining's binary_logloss: 0.58953\tvalid_1's binary_logloss: 0.605268\n",
      "[300]\ttraining's binary_logloss: 0.589029\tvalid_1's binary_logloss: 0.604692\n",
      "[350]\ttraining's binary_logloss: 0.588659\tvalid_1's binary_logloss: 0.604279\n",
      "[400]\ttraining's binary_logloss: 0.588366\tvalid_1's binary_logloss: 0.60395\n",
      "[450]\ttraining's binary_logloss: 0.588166\tvalid_1's binary_logloss: 0.603755\n",
      "[500]\ttraining's binary_logloss: 0.588022\tvalid_1's binary_logloss: 0.603643\n",
      "[550]\ttraining's binary_logloss: 0.58789\tvalid_1's binary_logloss: 0.603558\n",
      "[600]\ttraining's binary_logloss: 0.587773\tvalid_1's binary_logloss: 0.603503\n",
      "[650]\ttraining's binary_logloss: 0.587659\tvalid_1's binary_logloss: 0.603433\n",
      "[700]\ttraining's binary_logloss: 0.587561\tvalid_1's binary_logloss: 0.603392\n",
      "[750]\ttraining's binary_logloss: 0.587467\tvalid_1's binary_logloss: 0.603362\n",
      "[800]\ttraining's binary_logloss: 0.58737\tvalid_1's binary_logloss: 0.603316\n",
      "[850]\ttraining's binary_logloss: 0.587281\tvalid_1's binary_logloss: 0.603283\n",
      "[900]\ttraining's binary_logloss: 0.587181\tvalid_1's binary_logloss: 0.603235\n",
      "[950]\ttraining's binary_logloss: 0.587097\tvalid_1's binary_logloss: 0.603211\n",
      "[1000]\ttraining's binary_logloss: 0.587015\tvalid_1's binary_logloss: 0.603188\n",
      "[1050]\ttraining's binary_logloss: 0.586928\tvalid_1's binary_logloss: 0.603161\n",
      "[1100]\ttraining's binary_logloss: 0.586848\tvalid_1's binary_logloss: 0.603141\n",
      "[1150]\ttraining's binary_logloss: 0.586761\tvalid_1's binary_logloss: 0.60312\n",
      "[1200]\ttraining's binary_logloss: 0.586667\tvalid_1's binary_logloss: 0.603084\n",
      "[1250]\ttraining's binary_logloss: 0.586566\tvalid_1's binary_logloss: 0.603023\n",
      "[1300]\ttraining's binary_logloss: 0.586472\tvalid_1's binary_logloss: 0.602971\n",
      "Did not meet early stopping. Best iteration is:\n",
      "[1300]\ttraining's binary_logloss: 0.586472\tvalid_1's binary_logloss: 0.602971\n"
     ]
    }
   ],
   "source": [
    "model = lgb.train(\n",
    "    params, lgb_train,\n",
    "    valid_sets=[lgb_train, lgb_eval],\n",
    "    verbose_eval=50,\n",
    "    num_boost_round=1300,\n",
    "    early_stopping_rounds=8\n",
    ")"
   ]
  },
  {
   "cell_type": "code",
   "execution_count": 52,
   "metadata": {
    "execution": {
     "iopub.execute_input": "2020-10-23T04:35:10.275287Z",
     "iopub.status.busy": "2020-10-23T04:35:10.274062Z",
     "iopub.status.idle": "2020-10-23T04:38:38.931038Z",
     "shell.execute_reply": "2020-10-23T04:38:38.931693Z"
    },
    "papermill": {
     "duration": 208.778073,
     "end_time": "2020-10-23T04:38:38.931857",
     "exception": false,
     "start_time": "2020-10-23T04:35:10.153784",
     "status": "completed"
    },
    "tags": []
   },
   "outputs": [
    {
     "data": {
      "text/plain": [
       "0.7340952253354308"
      ]
     },
     "execution_count": 52,
     "metadata": {},
     "output_type": "execute_result"
    }
   ],
   "source": [
    "y_pred = model.predict(X_val)\n",
    "y_true = np.array(y_val)\n",
    "roc_auc_score(y_true, y_pred)"
   ]
  },
  {
   "cell_type": "markdown",
   "metadata": {
    "papermill": {
     "duration": 0.076183,
     "end_time": "2020-10-23T04:38:39.086787",
     "exception": false,
     "start_time": "2020-10-23T04:38:39.010604",
     "status": "completed"
    },
    "tags": []
   },
   "source": [
    "## Examining Feature Importance ##"
   ]
  },
  {
   "cell_type": "code",
   "execution_count": 53,
   "metadata": {
    "execution": {
     "iopub.execute_input": "2020-10-23T04:38:39.249132Z",
     "iopub.status.busy": "2020-10-23T04:38:39.248241Z",
     "iopub.status.idle": "2020-10-23T04:38:39.372703Z",
     "shell.execute_reply": "2020-10-23T04:38:39.371985Z"
    },
    "papermill": {
     "duration": 0.207686,
     "end_time": "2020-10-23T04:38:39.372835",
     "exception": false,
     "start_time": "2020-10-23T04:38:39.165149",
     "status": "completed"
    },
    "tags": []
   },
   "outputs": [],
   "source": [
    "import matplotlib.pyplot as plt\n",
    "import seaborn as sns"
   ]
  },
  {
   "cell_type": "code",
   "execution_count": 54,
   "metadata": {
    "execution": {
     "iopub.execute_input": "2020-10-23T04:38:39.535199Z",
     "iopub.status.busy": "2020-10-23T04:38:39.534260Z",
     "iopub.status.idle": "2020-10-23T04:38:39.783131Z",
     "shell.execute_reply": "2020-10-23T04:38:39.782398Z"
    },
    "papermill": {
     "duration": 0.33244,
     "end_time": "2020-10-23T04:38:39.783262",
     "exception": false,
     "start_time": "2020-10-23T04:38:39.450822",
     "status": "completed"
    },
    "tags": []
   },
   "outputs": [
    {
     "data": {
      "image/png": "[encoded data removed]",
      "text/plain": [
       "<Figure size 432x288 with 1 Axes>"
      ]
     },
     "metadata": {
      "needs_background": "light"
     },
     "output_type": "display_data"
    }
   ],
   "source": [
    "#displaying the most important features by split\n",
    "lgb.plot_importance(model)\n",
    "plt.show()"
   ]
  },
  {
   "cell_type": "code",
   "execution_count": 55,
   "metadata": {
    "execution": {
     "iopub.execute_input": "2020-10-23T04:38:39.966292Z",
     "iopub.status.busy": "2020-10-23T04:38:39.965144Z",
     "iopub.status.idle": "2020-10-23T04:38:40.171235Z",
     "shell.execute_reply": "2020-10-23T04:38:40.171902Z"
    },
    "papermill": {
     "duration": 0.300333,
     "end_time": "2020-10-23T04:38:40.172059",
     "exception": false,
     "start_time": "2020-10-23T04:38:39.871726",
     "status": "completed"
    },
    "tags": []
   },
   "outputs": [
    {
     "data": {
      "image/png": "[encoded data removed]",
      "text/plain": [
       "<Figure size 432x288 with 1 Axes>"
      ]
     },
     "metadata": {
      "needs_background": "light"
     },
     "output_type": "display_data"
    }
   ],
   "source": [
    "#displaying the most important features by gain\n",
    "lgb.plot_importance(model, importance_type = 'gain')\n",
    "plt.show()"
   ]
  },
  {
   "cell_type": "markdown",
   "metadata": {
    "papermill": {
     "duration": 0.081038,
     "end_time": "2020-10-23T04:38:40.334066",
     "exception": false,
     "start_time": "2020-10-23T04:38:40.253028",
     "status": "completed"
    },
    "tags": []
   },
   "source": [
    "## Making Predictions for New Data ##"
   ]
  },
  {
   "cell_type": "code",
   "execution_count": 56,
   "metadata": {
    "execution": {
     "iopub.execute_input": "2020-10-23T04:38:40.593899Z",
     "iopub.status.busy": "2020-10-23T04:38:40.592729Z",
     "iopub.status.idle": "2020-10-23T04:38:40.598655Z",
     "shell.execute_reply": "2020-10-23T04:38:40.597770Z"
    },
    "papermill": {
     "duration": 0.137375,
     "end_time": "2020-10-23T04:38:40.598832",
     "exception": false,
     "start_time": "2020-10-23T04:38:40.461457",
     "status": "completed"
    },
    "tags": []
   },
   "outputs": [],
   "source": [
    "iter_test = env.iter_test()"
   ]
  },
  {
   "cell_type": "code",
   "execution_count": 57,
   "metadata": {
    "execution": {
     "iopub.execute_input": "2020-10-23T04:38:40.943676Z",
     "iopub.status.busy": "2020-10-23T04:38:40.942600Z",
     "iopub.status.idle": "2020-10-23T04:38:42.338971Z",
     "shell.execute_reply": "2020-10-23T04:38:42.337802Z"
    },
    "papermill": {
     "duration": 1.626312,
     "end_time": "2020-10-23T04:38:42.339102",
     "exception": false,
     "start_time": "2020-10-23T04:38:40.712790",
     "status": "completed"
    },
    "tags": []
   },
   "outputs": [],
   "source": [
    "for (test_df, sample_prediction_df) in iter_test:\n",
    "    test_df['task_container_id'] = test_df.task_container_id.mask(test_df.task_container_id > 9999, 9999)\n",
    "    test_df = pd.merge(test_df, group3, left_on=['task_container_id'], right_index= True, how=\"left\")\n",
    "    test_df = pd.merge(test_df, question2, left_on = 'content_id', right_on = 'question_id', how = 'left')\n",
    "    test_df = pd.merge(test_df, results_u_final, on=['user_id'],  how=\"left\")\n",
    "    test_df = pd.merge(test_df, results_u2_final, on=['user_id'],  how=\"left\")\n",
    "    test_df['answered_correctly_user'].fillna(0.65,  inplace=True)\n",
    "    test_df['explanation_mean_user'].fillna(prior_mean_user,  inplace=True)\n",
    "    test_df['quest_pct'].fillna(content_mean,  inplace=True)\n",
    "    test_df['part'] = test_df.part - 1\n",
    "\n",
    "    test_df['part'].fillna(4, inplace = True)\n",
    "    test_df['avg_questions_seen'].fillna(1, inplace = True)\n",
    "    test_df['prior_question_elapsed_time'].fillna(elapsed_mean, inplace = True)\n",
    "    test_df['prior_question_had_explanation'].fillna(False, inplace=True)\n",
    "    test_df[\"prior_question_had_explanation_enc\"] = lb_make.fit_transform(test_df[\"prior_question_had_explanation\"])\n",
    "    \n",
    "    test_df['answered_correctly'] =  model.predict(test_df[['answered_correctly_user', 'explanation_mean_user', 'quest_pct', 'avg_questions_seen',\n",
    "                                                            'prior_question_elapsed_time','prior_question_had_explanation_enc', 'part']])\n",
    "    env.predict(test_df.loc[test_df['content_type_id'] == 0, ['row_id', 'answered_correctly']])"
   ]
  },
  {
   "cell_type": "code",
   "execution_count": 58,
   "metadata": {
    "execution": {
     "iopub.execute_input": "2020-10-23T04:38:42.508655Z",
     "iopub.status.busy": "2020-10-23T04:38:42.506614Z",
     "iopub.status.idle": "2020-10-23T04:38:42.509463Z",
     "shell.execute_reply": "2020-10-23T04:38:42.509997Z"
    },
    "papermill": {
     "duration": 0.088599,
     "end_time": "2020-10-23T04:38:42.510130",
     "exception": false,
     "start_time": "2020-10-23T04:38:42.421531",
     "status": "completed"
    },
    "tags": []
   },
   "outputs": [],
   "source": [
    "#students don't appear in every task container ID what can I do about this, can't always follow sequentially?"
   ]
  }
 ],
 "metadata": {
  "kernelspec": {
   "display_name": "Python 3",
   "language": "python",
   "name": "python3"
  },
  "language_info": {
   "codemirror_mode": {
    "name": "ipython",
    "version": 3
   },
   "file_extension": ".py",
   "mimetype": "text/x-python",
   "name": "python",
   "nbconvert_exporter": "python",
   "pygments_lexer": "ipython3",
   "version": "3.7.6"
  },
  "papermill": {
   "duration": 2408.167816,
   "end_time": "2020-10-23T04:38:42.698276",
   "environment_variables": {},
   "exception": null,
   "input_path": "__notebook__.ipynb",
   "output_path": "__notebook__.ipynb",
   "parameters": {},
   "start_time": "2020-10-23T03:58:34.530460",
   "version": "2.1.0"
  }
 },
 "nbformat": 4,
 "nbformat_minor": 4
}
